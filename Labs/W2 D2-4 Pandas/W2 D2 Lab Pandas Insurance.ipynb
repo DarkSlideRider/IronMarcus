{
 "cells": [
  {
   "cell_type": "markdown",
   "id": "84a379e4",
   "metadata": {},
   "source": [
    "# Lab Case Study\n",
    "## Scenario\n",
    "You are working as an analyst for an auto insurance company. The company has collected some data about its customers including their demographics, education, employment, policy details, vehicle information on which insurance policy is, and claim amounts. You will help the senior management with some business questions that will help them to better understand their customers, improve their services, and improve profitability.\n",
    "## Business Objectives\n",
    "- Retain customers,\n",
    "- analyze relevant customer data,\n",
    "- develop focused customer retention programs.\n",
    "Based on the analysis, take targeted actions to increase profitable customer response, retention, and growth.\n",
    "## Activities\n",
    "Refer to the `Activities.md` file where you will find guidelines for some of the activities that you want to do.\n",
    "## Data\n",
    "The csv files is provided in the folder. The columns in the file are self-explanatory."
   ]
  },
  {
   "cell_type": "markdown",
   "id": "ac8ab619",
   "metadata": {},
   "source": [
    "# Activites List\n",
    "Here are some of the tasks you need to perform:\n",
    "### Activity 1\n",
    "- Aggregate data into one Data Frame using Pandas.\n",
    "- Standardizing header names\n",
    "- Deleting and rearranging columns – delete the column customer as it is only a unique identifier for each row of data\n",
    "- Working with data types – Check the data types of all the columns and fix the incorrect ones (for ex. customer lifetime value and number of complaints)\n",
    "- Filtering data and Correcting typos – Filter the data in state and gender column to standardize the texts in those columns\n",
    "- Removing duplicates\n",
    "- Replacing null values – Replace missing values with means of the column (for numerical columns)\n",
    "### Activity 2\n",
    "- Bucketing the data - Write a function to replace column \"State\" to different zones. California as West Region, Oregon as North West, and Washington as East, and Arizona and Nevada as Central\n",
    "- Standardizing the data – Use string functions to standardize the text data (lower case)\n",
    "- Standardizing the data – Use string functions to standardize the text data (lower case)\n",
    "\n",
    "### Activity 3\n",
    "- Which columns are numerical?\n",
    "- Which columns are categorical?\n",
    "- Check and deal with NaN values. (Hint:Replacing null values – Replace missing values with means of the column (for numerical columns)).\n",
    "- Datetime format - Extract the months from the dataset and store in a separate column. Then filter the data to show only the information for the first quarter , ie. January, February and March. Hint: If data from March does not exist, consider only January and February.\n",
    "- BONUS: Put all the previously mentioned data transformations into a function/functions.\n"
   ]
  },
  {
   "cell_type": "code",
   "execution_count": 1,
   "id": "797d2946",
   "metadata": {},
   "outputs": [],
   "source": [
    "import pandas as pd\n",
    "import numpy as np"
   ]
  },
  {
   "cell_type": "code",
   "execution_count": 4,
   "id": "ab4bd3d5",
   "metadata": {},
   "outputs": [
    {
     "data": {
      "text/plain": [
       "pandas.core.frame.DataFrame"
      ]
     },
     "execution_count": 4,
     "metadata": {},
     "output_type": "execute_result"
    }
   ],
   "source": [
    "#Aggregate data into one Data Frame using Pandas.\n",
    "insure1 = pd.read_csv('file1.csv')\n",
    "insure2 = pd.read_csv('file2.csv')\n",
    "type(insure1)"
   ]
  },
  {
   "cell_type": "code",
   "execution_count": 5,
   "id": "18c29a62",
   "metadata": {},
   "outputs": [
    {
     "name": "stdout",
     "output_type": "stream",
     "text": [
      "True\n"
     ]
    }
   ],
   "source": [
    "#Lowercase column headers in insure1+2 tables\n",
    "#insure1.columns = map(str.lower, insure1.columns)\n",
    "#insure2.columns = map(str.lower, insure2.columns)\n",
    "#print(insure1.columns)\n",
    "#print(insure2.columns)\n",
    "print(set(insure1.columns) == set(insure2.columns))"
   ]
  },
  {
   "cell_type": "code",
   "execution_count": 6,
   "id": "4c34fa7e",
   "metadata": {},
   "outputs": [
    {
     "name": "stdout",
     "output_type": "stream",
     "text": [
      "['customer', 'st', 'gender', 'education', 'customer_lifetime_value', 'income', 'monthly_premium_auto', 'number_of_open_complaints', 'policy_type', 'vehicle_class', 'total_claim_amount']\n"
     ]
    }
   ],
   "source": [
    "column_names = insure1.columns\n",
    "#print(column_names)\n",
    "#insure_all = pd.DataFrame(columns = column_names)\n",
    "insure_all = pd.concat([insure1, insure2], axis = 0, ignore_index = True)\n",
    "column_names = [name.lower().replace(' ', '_') for name in insure_all.columns]\n",
    "print(column_names)\n",
    "#column_names = ['customer', 'st', 'gender', 'education', 'customer_lifetime_value',\n",
    "#       'income', 'monthly_premium_auto', 'number_of_open_complaints',\n",
    "#       'policy_type', 'vehicle_class', 'total_claim_amount']\n",
    "insure_all.columns = column_names"
   ]
  },
  {
   "cell_type": "code",
   "execution_count": 7,
   "id": "59f43ef4",
   "metadata": {},
   "outputs": [
    {
     "data": {
      "text/html": [
       "<div>\n",
       "<style scoped>\n",
       "    .dataframe tbody tr th:only-of-type {\n",
       "        vertical-align: middle;\n",
       "    }\n",
       "\n",
       "    .dataframe tbody tr th {\n",
       "        vertical-align: top;\n",
       "    }\n",
       "\n",
       "    .dataframe thead th {\n",
       "        text-align: right;\n",
       "    }\n",
       "</style>\n",
       "<table border=\"1\" class=\"dataframe\">\n",
       "  <thead>\n",
       "    <tr style=\"text-align: right;\">\n",
       "      <th></th>\n",
       "      <th>st</th>\n",
       "      <th>gender</th>\n",
       "      <th>education</th>\n",
       "      <th>customer_lifetime_value</th>\n",
       "      <th>income</th>\n",
       "      <th>monthly_premium_auto</th>\n",
       "      <th>number_of_open_complaints</th>\n",
       "      <th>policy_type</th>\n",
       "      <th>vehicle_class</th>\n",
       "      <th>total_claim_amount</th>\n",
       "    </tr>\n",
       "  </thead>\n",
       "  <tbody>\n",
       "    <tr>\n",
       "      <th>0</th>\n",
       "      <td>Washington</td>\n",
       "      <td>NaN</td>\n",
       "      <td>Master</td>\n",
       "      <td>NaN</td>\n",
       "      <td>0.0</td>\n",
       "      <td>1000.0</td>\n",
       "      <td>1/0/00</td>\n",
       "      <td>Personal Auto</td>\n",
       "      <td>Four-Door Car</td>\n",
       "      <td>2.704934</td>\n",
       "    </tr>\n",
       "    <tr>\n",
       "      <th>1</th>\n",
       "      <td>Arizona</td>\n",
       "      <td>F</td>\n",
       "      <td>Bachelor</td>\n",
       "      <td>697953.59%</td>\n",
       "      <td>0.0</td>\n",
       "      <td>94.0</td>\n",
       "      <td>1/0/00</td>\n",
       "      <td>Personal Auto</td>\n",
       "      <td>Four-Door Car</td>\n",
       "      <td>1131.464935</td>\n",
       "    </tr>\n",
       "    <tr>\n",
       "      <th>2</th>\n",
       "      <td>Nevada</td>\n",
       "      <td>F</td>\n",
       "      <td>Bachelor</td>\n",
       "      <td>1288743.17%</td>\n",
       "      <td>48767.0</td>\n",
       "      <td>108.0</td>\n",
       "      <td>1/0/00</td>\n",
       "      <td>Personal Auto</td>\n",
       "      <td>Two-Door Car</td>\n",
       "      <td>566.472247</td>\n",
       "    </tr>\n",
       "    <tr>\n",
       "      <th>3</th>\n",
       "      <td>California</td>\n",
       "      <td>M</td>\n",
       "      <td>Bachelor</td>\n",
       "      <td>764586.18%</td>\n",
       "      <td>0.0</td>\n",
       "      <td>106.0</td>\n",
       "      <td>1/0/00</td>\n",
       "      <td>Corporate Auto</td>\n",
       "      <td>SUV</td>\n",
       "      <td>529.881344</td>\n",
       "    </tr>\n",
       "    <tr>\n",
       "      <th>4</th>\n",
       "      <td>Washington</td>\n",
       "      <td>M</td>\n",
       "      <td>High School or Below</td>\n",
       "      <td>536307.65%</td>\n",
       "      <td>36357.0</td>\n",
       "      <td>68.0</td>\n",
       "      <td>1/0/00</td>\n",
       "      <td>Personal Auto</td>\n",
       "      <td>Four-Door Car</td>\n",
       "      <td>17.269323</td>\n",
       "    </tr>\n",
       "    <tr>\n",
       "      <th>...</th>\n",
       "      <td>...</td>\n",
       "      <td>...</td>\n",
       "      <td>...</td>\n",
       "      <td>...</td>\n",
       "      <td>...</td>\n",
       "      <td>...</td>\n",
       "      <td>...</td>\n",
       "      <td>...</td>\n",
       "      <td>...</td>\n",
       "      <td>...</td>\n",
       "    </tr>\n",
       "    <tr>\n",
       "      <th>4999</th>\n",
       "      <td>Arizona</td>\n",
       "      <td>M</td>\n",
       "      <td>Master</td>\n",
       "      <td>847141.75%</td>\n",
       "      <td>63513.0</td>\n",
       "      <td>70.0</td>\n",
       "      <td>1/0/00</td>\n",
       "      <td>Personal Auto</td>\n",
       "      <td>Four-Door Car</td>\n",
       "      <td>185.667213</td>\n",
       "    </tr>\n",
       "    <tr>\n",
       "      <th>5000</th>\n",
       "      <td>Arizona</td>\n",
       "      <td>F</td>\n",
       "      <td>College</td>\n",
       "      <td>543121.91%</td>\n",
       "      <td>58161.0</td>\n",
       "      <td>68.0</td>\n",
       "      <td>1/0/00</td>\n",
       "      <td>Corporate Auto</td>\n",
       "      <td>Four-Door Car</td>\n",
       "      <td>140.747286</td>\n",
       "    </tr>\n",
       "    <tr>\n",
       "      <th>5001</th>\n",
       "      <td>Nevada</td>\n",
       "      <td>F</td>\n",
       "      <td>College</td>\n",
       "      <td>568964.41%</td>\n",
       "      <td>83640.0</td>\n",
       "      <td>70.0</td>\n",
       "      <td>1/0/00</td>\n",
       "      <td>Corporate Auto</td>\n",
       "      <td>Two-Door Car</td>\n",
       "      <td>471.050488</td>\n",
       "    </tr>\n",
       "    <tr>\n",
       "      <th>5002</th>\n",
       "      <td>California</td>\n",
       "      <td>F</td>\n",
       "      <td>Master</td>\n",
       "      <td>368672.38%</td>\n",
       "      <td>0.0</td>\n",
       "      <td>96.0</td>\n",
       "      <td>1/0/00</td>\n",
       "      <td>Personal Auto</td>\n",
       "      <td>Two-Door Car</td>\n",
       "      <td>28.460568</td>\n",
       "    </tr>\n",
       "    <tr>\n",
       "      <th>5003</th>\n",
       "      <td>California</td>\n",
       "      <td>M</td>\n",
       "      <td>Bachelor</td>\n",
       "      <td>399258.39%</td>\n",
       "      <td>0.0</td>\n",
       "      <td>111.0</td>\n",
       "      <td>1/0/00</td>\n",
       "      <td>Personal Auto</td>\n",
       "      <td>SUV</td>\n",
       "      <td>700.349052</td>\n",
       "    </tr>\n",
       "  </tbody>\n",
       "</table>\n",
       "<p>5004 rows × 10 columns</p>\n",
       "</div>"
      ],
      "text/plain": [
       "              st gender             education customer_lifetime_value  \\\n",
       "0     Washington    NaN                Master                     NaN   \n",
       "1        Arizona      F              Bachelor              697953.59%   \n",
       "2         Nevada      F              Bachelor             1288743.17%   \n",
       "3     California      M              Bachelor              764586.18%   \n",
       "4     Washington      M  High School or Below              536307.65%   \n",
       "...          ...    ...                   ...                     ...   \n",
       "4999     Arizona      M                Master              847141.75%   \n",
       "5000     Arizona      F               College              543121.91%   \n",
       "5001      Nevada      F               College              568964.41%   \n",
       "5002  California      F                Master              368672.38%   \n",
       "5003  California      M              Bachelor              399258.39%   \n",
       "\n",
       "       income  monthly_premium_auto number_of_open_complaints     policy_type  \\\n",
       "0         0.0                1000.0                    1/0/00   Personal Auto   \n",
       "1         0.0                  94.0                    1/0/00   Personal Auto   \n",
       "2     48767.0                 108.0                    1/0/00   Personal Auto   \n",
       "3         0.0                 106.0                    1/0/00  Corporate Auto   \n",
       "4     36357.0                  68.0                    1/0/00   Personal Auto   \n",
       "...       ...                   ...                       ...             ...   \n",
       "4999  63513.0                  70.0                    1/0/00   Personal Auto   \n",
       "5000  58161.0                  68.0                    1/0/00  Corporate Auto   \n",
       "5001  83640.0                  70.0                    1/0/00  Corporate Auto   \n",
       "5002      0.0                  96.0                    1/0/00   Personal Auto   \n",
       "5003      0.0                 111.0                    1/0/00   Personal Auto   \n",
       "\n",
       "      vehicle_class  total_claim_amount  \n",
       "0     Four-Door Car            2.704934  \n",
       "1     Four-Door Car         1131.464935  \n",
       "2      Two-Door Car          566.472247  \n",
       "3               SUV          529.881344  \n",
       "4     Four-Door Car           17.269323  \n",
       "...             ...                 ...  \n",
       "4999  Four-Door Car          185.667213  \n",
       "5000  Four-Door Car          140.747286  \n",
       "5001   Two-Door Car          471.050488  \n",
       "5002   Two-Door Car           28.460568  \n",
       "5003            SUV          700.349052  \n",
       "\n",
       "[5004 rows x 10 columns]"
      ]
     },
     "execution_count": 7,
     "metadata": {},
     "output_type": "execute_result"
    }
   ],
   "source": [
    "insure_all = insure_all.drop(columns = 'customer')\n",
    "insure_all"
   ]
  },
  {
   "cell_type": "code",
   "execution_count": 8,
   "id": "2f94910e",
   "metadata": {},
   "outputs": [
    {
     "data": {
      "text/html": [
       "<div>\n",
       "<style scoped>\n",
       "    .dataframe tbody tr th:only-of-type {\n",
       "        vertical-align: middle;\n",
       "    }\n",
       "\n",
       "    .dataframe tbody tr th {\n",
       "        vertical-align: top;\n",
       "    }\n",
       "\n",
       "    .dataframe thead th {\n",
       "        text-align: right;\n",
       "    }\n",
       "</style>\n",
       "<table border=\"1\" class=\"dataframe\">\n",
       "  <thead>\n",
       "    <tr style=\"text-align: right;\">\n",
       "      <th></th>\n",
       "      <th>st</th>\n",
       "      <th>gender</th>\n",
       "      <th>education</th>\n",
       "      <th>customer_lifetime_value</th>\n",
       "      <th>income</th>\n",
       "      <th>monthly_premium_auto</th>\n",
       "      <th>number_of_open_complaints</th>\n",
       "      <th>policy_type</th>\n",
       "      <th>vehicle_class</th>\n",
       "      <th>total_claim_amount</th>\n",
       "    </tr>\n",
       "  </thead>\n",
       "  <tbody>\n",
       "    <tr>\n",
       "      <th>0</th>\n",
       "      <td>Washington</td>\n",
       "      <td>NaN</td>\n",
       "      <td>Master</td>\n",
       "      <td>NaN</td>\n",
       "      <td>0.0</td>\n",
       "      <td>1000.0</td>\n",
       "      <td>1/0/00</td>\n",
       "      <td>Personal Auto</td>\n",
       "      <td>Four-Door Car</td>\n",
       "      <td>2.704934</td>\n",
       "    </tr>\n",
       "    <tr>\n",
       "      <th>1</th>\n",
       "      <td>Arizona</td>\n",
       "      <td>F</td>\n",
       "      <td>Bachelor</td>\n",
       "      <td>697953.59%</td>\n",
       "      <td>0.0</td>\n",
       "      <td>94.0</td>\n",
       "      <td>1/0/00</td>\n",
       "      <td>Personal Auto</td>\n",
       "      <td>Four-Door Car</td>\n",
       "      <td>1131.464935</td>\n",
       "    </tr>\n",
       "    <tr>\n",
       "      <th>2</th>\n",
       "      <td>Nevada</td>\n",
       "      <td>F</td>\n",
       "      <td>Bachelor</td>\n",
       "      <td>1288743.17%</td>\n",
       "      <td>48767.0</td>\n",
       "      <td>108.0</td>\n",
       "      <td>1/0/00</td>\n",
       "      <td>Personal Auto</td>\n",
       "      <td>Two-Door Car</td>\n",
       "      <td>566.472247</td>\n",
       "    </tr>\n",
       "    <tr>\n",
       "      <th>3</th>\n",
       "      <td>California</td>\n",
       "      <td>M</td>\n",
       "      <td>Bachelor</td>\n",
       "      <td>764586.18%</td>\n",
       "      <td>0.0</td>\n",
       "      <td>106.0</td>\n",
       "      <td>1/0/00</td>\n",
       "      <td>Corporate Auto</td>\n",
       "      <td>SUV</td>\n",
       "      <td>529.881344</td>\n",
       "    </tr>\n",
       "    <tr>\n",
       "      <th>4</th>\n",
       "      <td>Washington</td>\n",
       "      <td>M</td>\n",
       "      <td>High School or Below</td>\n",
       "      <td>536307.65%</td>\n",
       "      <td>36357.0</td>\n",
       "      <td>68.0</td>\n",
       "      <td>1/0/00</td>\n",
       "      <td>Personal Auto</td>\n",
       "      <td>Four-Door Car</td>\n",
       "      <td>17.269323</td>\n",
       "    </tr>\n",
       "    <tr>\n",
       "      <th>...</th>\n",
       "      <td>...</td>\n",
       "      <td>...</td>\n",
       "      <td>...</td>\n",
       "      <td>...</td>\n",
       "      <td>...</td>\n",
       "      <td>...</td>\n",
       "      <td>...</td>\n",
       "      <td>...</td>\n",
       "      <td>...</td>\n",
       "      <td>...</td>\n",
       "    </tr>\n",
       "    <tr>\n",
       "      <th>4999</th>\n",
       "      <td>Arizona</td>\n",
       "      <td>M</td>\n",
       "      <td>Master</td>\n",
       "      <td>847141.75%</td>\n",
       "      <td>63513.0</td>\n",
       "      <td>70.0</td>\n",
       "      <td>1/0/00</td>\n",
       "      <td>Personal Auto</td>\n",
       "      <td>Four-Door Car</td>\n",
       "      <td>185.667213</td>\n",
       "    </tr>\n",
       "    <tr>\n",
       "      <th>5000</th>\n",
       "      <td>Arizona</td>\n",
       "      <td>F</td>\n",
       "      <td>College</td>\n",
       "      <td>543121.91%</td>\n",
       "      <td>58161.0</td>\n",
       "      <td>68.0</td>\n",
       "      <td>1/0/00</td>\n",
       "      <td>Corporate Auto</td>\n",
       "      <td>Four-Door Car</td>\n",
       "      <td>140.747286</td>\n",
       "    </tr>\n",
       "    <tr>\n",
       "      <th>5001</th>\n",
       "      <td>Nevada</td>\n",
       "      <td>F</td>\n",
       "      <td>College</td>\n",
       "      <td>568964.41%</td>\n",
       "      <td>83640.0</td>\n",
       "      <td>70.0</td>\n",
       "      <td>1/0/00</td>\n",
       "      <td>Corporate Auto</td>\n",
       "      <td>Two-Door Car</td>\n",
       "      <td>471.050488</td>\n",
       "    </tr>\n",
       "    <tr>\n",
       "      <th>5002</th>\n",
       "      <td>California</td>\n",
       "      <td>F</td>\n",
       "      <td>Master</td>\n",
       "      <td>368672.38%</td>\n",
       "      <td>0.0</td>\n",
       "      <td>96.0</td>\n",
       "      <td>1/0/00</td>\n",
       "      <td>Personal Auto</td>\n",
       "      <td>Two-Door Car</td>\n",
       "      <td>28.460568</td>\n",
       "    </tr>\n",
       "    <tr>\n",
       "      <th>5003</th>\n",
       "      <td>California</td>\n",
       "      <td>M</td>\n",
       "      <td>Bachelor</td>\n",
       "      <td>399258.39%</td>\n",
       "      <td>0.0</td>\n",
       "      <td>111.0</td>\n",
       "      <td>1/0/00</td>\n",
       "      <td>Personal Auto</td>\n",
       "      <td>SUV</td>\n",
       "      <td>700.349052</td>\n",
       "    </tr>\n",
       "  </tbody>\n",
       "</table>\n",
       "<p>2055 rows × 10 columns</p>\n",
       "</div>"
      ],
      "text/plain": [
       "              st gender             education customer_lifetime_value  \\\n",
       "0     Washington    NaN                Master                     NaN   \n",
       "1        Arizona      F              Bachelor              697953.59%   \n",
       "2         Nevada      F              Bachelor             1288743.17%   \n",
       "3     California      M              Bachelor              764586.18%   \n",
       "4     Washington      M  High School or Below              536307.65%   \n",
       "...          ...    ...                   ...                     ...   \n",
       "4999     Arizona      M                Master              847141.75%   \n",
       "5000     Arizona      F               College              543121.91%   \n",
       "5001      Nevada      F               College              568964.41%   \n",
       "5002  California      F                Master              368672.38%   \n",
       "5003  California      M              Bachelor              399258.39%   \n",
       "\n",
       "       income  monthly_premium_auto number_of_open_complaints     policy_type  \\\n",
       "0         0.0                1000.0                    1/0/00   Personal Auto   \n",
       "1         0.0                  94.0                    1/0/00   Personal Auto   \n",
       "2     48767.0                 108.0                    1/0/00   Personal Auto   \n",
       "3         0.0                 106.0                    1/0/00  Corporate Auto   \n",
       "4     36357.0                  68.0                    1/0/00   Personal Auto   \n",
       "...       ...                   ...                       ...             ...   \n",
       "4999  63513.0                  70.0                    1/0/00   Personal Auto   \n",
       "5000  58161.0                  68.0                    1/0/00  Corporate Auto   \n",
       "5001  83640.0                  70.0                    1/0/00  Corporate Auto   \n",
       "5002      0.0                  96.0                    1/0/00   Personal Auto   \n",
       "5003      0.0                 111.0                    1/0/00   Personal Auto   \n",
       "\n",
       "      vehicle_class  total_claim_amount  \n",
       "0     Four-Door Car            2.704934  \n",
       "1     Four-Door Car         1131.464935  \n",
       "2      Two-Door Car          566.472247  \n",
       "3               SUV          529.881344  \n",
       "4     Four-Door Car           17.269323  \n",
       "...             ...                 ...  \n",
       "4999  Four-Door Car          185.667213  \n",
       "5000  Four-Door Car          140.747286  \n",
       "5001   Two-Door Car          471.050488  \n",
       "5002   Two-Door Car           28.460568  \n",
       "5003            SUV          700.349052  \n",
       "\n",
       "[2055 rows x 10 columns]"
      ]
     },
     "execution_count": 8,
     "metadata": {},
     "output_type": "execute_result"
    }
   ],
   "source": [
    "#Deletion of dulpicates\n",
    "insure_all.drop_duplicates()"
   ]
  },
  {
   "cell_type": "code",
   "execution_count": 9,
   "id": "db82c34d",
   "metadata": {},
   "outputs": [
    {
     "data": {
      "text/plain": [
       "array(['Washington', 'Arizona', 'Nevada', 'California', 'Oregon', 'Cali',\n",
       "       'AZ', 'WA', nan], dtype=object)"
      ]
     },
     "execution_count": 9,
     "metadata": {},
     "output_type": "execute_result"
    }
   ],
   "source": [
    "insure_all['st'].unique()"
   ]
  },
  {
   "cell_type": "code",
   "execution_count": 10,
   "id": "b0e1209d",
   "metadata": {},
   "outputs": [
    {
     "data": {
      "text/plain": [
       "Oregon        623\n",
       "California    488\n",
       "Arizona       328\n",
       "Nevada        223\n",
       "Washington    181\n",
       "Cali          120\n",
       "AZ             74\n",
       "WA             30\n",
       "Name: st, dtype: int64"
      ]
     },
     "execution_count": 10,
     "metadata": {},
     "output_type": "execute_result"
    }
   ],
   "source": [
    "insure_all['st'].value_counts()"
   ]
  },
  {
   "cell_type": "code",
   "execution_count": 11,
   "id": "81535469",
   "metadata": {},
   "outputs": [
    {
     "name": "stdout",
     "output_type": "stream",
     "text": [
      "nan           2937\n",
      "Oregon         623\n",
      "California     608\n",
      "Arizona        402\n",
      "Nevada         223\n",
      "Washington     211\n",
      "Name: st, dtype: int64\n",
      "['Washington' 'Arizona' 'Nevada' 'California' 'Oregon' 'nan']\n"
     ]
    }
   ],
   "source": [
    "def state(name):\n",
    "    #Check for the NaN (not a number) Null values\n",
    "    if name != name:\n",
    "        pass\n",
    "    #name = str(name)\n",
    "#    list_replace1 = ['Cali', 'California']\n",
    "#    for i in list_replace1:\n",
    "    if str(name).endswith('li') == True:\n",
    "        name = str(name).replace('Cali', 'California')\n",
    "    name = str(name).replace('AZ', 'Arizona')\n",
    "    name = str(name).replace('WA', 'Washington')\n",
    "    return name \n",
    "\n",
    "print(insure_all['st'].apply(state).value_counts())\n",
    "print(insure_all['st'].apply(state).unique())\n",
    "insure_all['st'] = insure_all['st'].apply(state)"
   ]
  },
  {
   "cell_type": "code",
   "execution_count": 11,
   "id": "2d65e87b",
   "metadata": {},
   "outputs": [
    {
     "data": {
      "text/plain": [
       "0    4563\n",
       "1     247\n",
       "2      93\n",
       "3      60\n",
       "4      29\n",
       "5      12\n",
       "Name: number_of_open_complaints, dtype: int64"
      ]
     },
     "execution_count": 11,
     "metadata": {},
     "output_type": "execute_result"
    }
   ],
   "source": [
    "def clean_complaints(value):\n",
    "#Check for the NaN (not a number) Null values\n",
    "    if value != value:\n",
    "        #pass\n",
    "        return 0\n",
    "    value = str(value)\n",
    "    return int(value[2])\n",
    "insure_all['number_of_open_complaints'].apply(clean_complaints).value_counts()"
   ]
  },
  {
   "cell_type": "code",
   "execution_count": 9,
   "id": "3cec8a8a",
   "metadata": {},
   "outputs": [
    {
     "name": "stdout",
     "output_type": "stream",
     "text": [
      "<class 'pandas.core.frame.DataFrame'>\n",
      "RangeIndex: 5004 entries, 0 to 5003\n",
      "Data columns (total 10 columns):\n",
      " #   Column                     Non-Null Count  Dtype  \n",
      "---  ------                     --------------  -----  \n",
      " 0   st                         2067 non-null   object \n",
      " 1   gender                     1945 non-null   object \n",
      " 2   education                  2067 non-null   object \n",
      " 3   customer_lifetime_value    2060 non-null   object \n",
      " 4   income                     2067 non-null   float64\n",
      " 5   monthly_premium_auto       2067 non-null   float64\n",
      " 6   number_of_open_complaints  5004 non-null   int64  \n",
      " 7   policy_type                2067 non-null   object \n",
      " 8   vehicle_class              2067 non-null   object \n",
      " 9   total_claim_amount         2067 non-null   float64\n",
      "dtypes: float64(3), int64(1), object(6)\n",
      "memory usage: 391.1+ KB\n",
      "None\n"
     ]
    }
   ],
   "source": [
    "insure_all['number_of_open_complaints'] = insure_all['number_of_open_complaints'].apply(clean_complaints)\n",
    "print(insure_all.info())"
   ]
  },
  {
   "cell_type": "code",
   "execution_count": 10,
   "id": "0d37b1ba",
   "metadata": {},
   "outputs": [
    {
     "data": {
      "text/plain": [
       "count     5004.000000\n",
       "mean      3211.398471\n",
       "std       5587.659894\n",
       "min          1.000000\n",
       "25%          1.000000\n",
       "50%          1.000000\n",
       "75%       5107.254050\n",
       "max      58166.553500\n",
       "Name: customer_lifetime_value, dtype: float64"
      ]
     },
     "execution_count": 10,
     "metadata": {},
     "output_type": "execute_result"
    }
   ],
   "source": [
    "def clean_life(value):\n",
    "#Check for the NaN (not a number) Null values\n",
    "    if value != value:\n",
    "        return 0\n",
    "        #pass\n",
    "    value = str(value)\n",
    "    return float(value[:-1]) / 100\n",
    "\n",
    "insure_all['customer_lifetime_value'].apply(clean_life).describe()"
   ]
  },
  {
   "cell_type": "code",
   "execution_count": 11,
   "id": "4dc1faf1",
   "metadata": {},
   "outputs": [
    {
     "data": {
      "text/plain": [
       "0        1.0000\n",
       "1     6979.5359\n",
       "2    12887.4317\n",
       "3     7645.8618\n",
       "4     5363.0765\n",
       "5     8256.2978\n",
       "6     5380.8986\n",
       "7     7216.1003\n",
       "8    24127.5040\n",
       "9     7388.1781\n",
       "Name: customer_lifetime_value, dtype: float64"
      ]
     },
     "execution_count": 11,
     "metadata": {},
     "output_type": "execute_result"
    }
   ],
   "source": [
    "insure_all['customer_lifetime_value'] = insure_all['customer_lifetime_value'].apply(clean_life)\n",
    "insure_all['customer_lifetime_value'].head(10)"
   ]
  },
  {
   "cell_type": "code",
   "execution_count": 13,
   "id": "c884d0f0",
   "metadata": {},
   "outputs": [
    {
     "data": {
      "text/plain": [
       "st                            object\n",
       "gender                        object\n",
       "education                     object\n",
       "customer_lifetime_value      float64\n",
       "income                       float64\n",
       "monthly_premium_auto         float64\n",
       "number_of_open_complaints      int64\n",
       "policy_type                   object\n",
       "vehicle_class                 object\n",
       "total_claim_amount           float64\n",
       "dtype: object"
      ]
     },
     "execution_count": 13,
     "metadata": {},
     "output_type": "execute_result"
    }
   ],
   "source": [
    "insure_all.dtypes"
   ]
  },
  {
   "cell_type": "code",
   "execution_count": 26,
   "id": "7eff4770",
   "metadata": {},
   "outputs": [
    {
     "name": "stdout",
     "output_type": "stream",
     "text": [
      "<class 'pandas.core.frame.DataFrame'>\n",
      "RangeIndex: 5004 entries, 0 to 5003\n",
      "Data columns (total 11 columns):\n",
      " #   Column                     Non-Null Count  Dtype  \n",
      "---  ------                     --------------  -----  \n",
      " 0   customer                   2067 non-null   object \n",
      " 1   st                         2067 non-null   object \n",
      " 2   gender                     1945 non-null   object \n",
      " 3   education                  2067 non-null   object \n",
      " 4   customer_lifetime_value    2060 non-null   object \n",
      " 5   income                     2067 non-null   float64\n",
      " 6   monthly_premium_auto       2067 non-null   float64\n",
      " 7   number_of_open_complaints  2067 non-null   object \n",
      " 8   policy_type                2067 non-null   object \n",
      " 9   vehicle_class              2067 non-null   object \n",
      " 10  total_claim_amount         2067 non-null   float64\n",
      "dtypes: float64(3), object(8)\n",
      "memory usage: 430.2+ KB\n"
     ]
    }
   ],
   "source": [
    "insure_all.info()"
   ]
  },
  {
   "cell_type": "code",
   "execution_count": null,
   "id": "c4da00f9",
   "metadata": {},
   "outputs": [],
   "source": []
  }
 ],
 "metadata": {
  "kernelspec": {
   "display_name": "Python 3",
   "language": "python",
   "name": "python3"
  },
  "language_info": {
   "codemirror_mode": {
    "name": "ipython",
    "version": 3
   },
   "file_extension": ".py",
   "mimetype": "text/x-python",
   "name": "python",
   "nbconvert_exporter": "python",
   "pygments_lexer": "ipython3",
   "version": "3.8.5"
  }
 },
 "nbformat": 4,
 "nbformat_minor": 5
}
