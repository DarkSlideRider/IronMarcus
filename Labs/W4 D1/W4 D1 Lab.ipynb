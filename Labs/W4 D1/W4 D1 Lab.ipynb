{
 "cells": [
  {
   "cell_type": "markdown",
   "id": "bf98d97f",
   "metadata": {},
   "source": [
    "# Lab Case Study\n",
    "## Scenario\n",
    "You are working as an analyst for an auto insurance company. The company has collected some data about its customers including their demographics, education, employment, policy details, vehicle information on which insurance policy is, and claim amounts. You will help the senior management with some business questions that will help them to better understand their customers, improve their services, and improve profitability.\n",
    "## Business Objectives\n",
    "- Retain customers,\n",
    "- analyze relevant customer data,\n",
    "- develop focused customer retention programs.\n",
    "Based on the analysis, take targeted actions to increase profitable customer response, retention, and growth.\n",
    "## Activities\n",
    "Refer to the `Activities.md` file where you will find guidelines for some of the activities that you want to do.\n",
    "## Data\n",
    "The csv files is provided in the folder. The columns in the file are self-explanatory.\n",
    "\n",
    "### Activity 1\n",
    "- Aggregate data into one Data Frame using Pandas.\n",
    "- Standardizing header names\n",
    "- Deleting and rearranging columns – delete the column customer as it is only a unique identifier for each row of data\n",
    "- Working with data types – Check the data types of all the columns and fix the incorrect ones (for ex. customer lifetime value and number of complaints)\n",
    "- Filtering data and Correcting typos – Filter the data in state and gender column to standardize the texts in those columns\n",
    "- Removing duplicates\n",
    "- Replacing null values – Replace missing values with means of the column (for numerical columns)\n",
    "\n",
    "### Activity 2\n",
    "- Bucketing the data - Write a function to replace column \"State\" to different zones. California as West Region, Oregon as North West, and Washington as East, and Arizona and Nevada as Central\n",
    "- Standardizing the data – Use string functions to standardize the text data (lower case)\n",
    "\n",
    "### Activity 3\n",
    "- Which columns are numerical?\n",
    "- Which columns are categorical?\n",
    "- Check and deal with NaN values. (Hint:Replacing null values – Replace missing values with means of the column (for numerical columns)).\n",
    "- Datetime format - Extract the months from the dataset and store in a separate column. Then filter the data to show only the information for the first quarter , ie. January, February and March. Hint: If data from March does not exist, consider only January and February.\n",
    "- BONUS: Put all the previously mentioned data transformations into a function/functions.\n",
    "\n",
    "### Activity 4\n",
    "- Show a plot of the total number of responses.\n",
    "- Show a plot of the response rate by the sales channel.\n",
    "- Show a plot of the response rate by the total claim amount.\n",
    "- Show a plot of the response rate by income.\n",
    "- Don't Limit your creativity! plot Any interesting findings/insights that describe some interesting facts about your data set and its variables. Use the relevant plotting when you feel it is needed.\n",
    "- Plot the Correlation Heatmap.\n",
    "- Clean your notebook and make it a readible and presentable with a good documentation that summarizes the Data Cleaning, Exploration(including plots) Steps that you have performed.\n",
    "\n",
    "### Activity 5\n",
    "\n",
    "- Check the data types of the columns. Get the numeric data into dataframe called numerical and categorical columns in a dataframe called categoricals. (You can use np.number and np.object to select the numerical data types and categorical data types respectively)\n",
    "\n",
    "- Now we will try to check the normality of the numerical variables visually\n",
    "    - Use seaborn library to construct distribution plots for the numerical variables\n",
    "    - Use Matplotlib to construct histograms\n",
    "    - Do the distributions for different numerical variables look like a normal distribution\n",
    "\n",
    "- Normalize (numericals)\n",
    "\n",
    "- For the numerical variables, check the multicollinearity between the features. Please note that we will use the column total_claim_amount later as the target variable.\n",
    "\n",
    "- Drop one of the two features that show a high correlation between them (greater than 0.9). Write code for both the correlation matrix and for seaborn heatmap. If there is no pair of features that have a high correlation, then do not drop any features\n",
    "\n",
    "- Bonus: split Data set into train and test sets\n"
   ]
  },
  {
   "cell_type": "code",
   "execution_count": 77,
   "id": "df14b057",
   "metadata": {},
   "outputs": [],
   "source": [
    "import pandas as pd\n",
    "import numpy as np\n",
    "import matplotlib.pyplot as plt\n",
    "%matplotlib inline\n",
    "import seaborn as sns\n",
    "import scipy as sc\n",
    "from ipywidgets import interactive\n",
    "import ipywidgets as widgets\n",
    "from sklearn.metrics import mean_squared_error, r2_score"
   ]
  },
  {
   "cell_type": "code",
   "execution_count": 78,
   "id": "c7068078",
   "metadata": {},
   "outputs": [],
   "source": [
    "#Function to aggregate data into one Data Frame using Pandas.\n",
    "def load_original_data():\n",
    "    return pd.read_csv(\"Data_Marketing_Customer_Analysis_Round2.csv\" )"
   ]
  },
  {
   "cell_type": "code",
   "execution_count": 79,
   "id": "74a52327",
   "metadata": {},
   "outputs": [],
   "source": [
    "def clean_data(df):\n",
    "    df.columns=[name.lower().replace(' ', '_') for name in df.columns]\n",
    "    df=df.drop(columns=['unnamed:_0', 'vehicle_type'])\n",
    "#    df=df.dropna()\n",
    "    df['effective_to_date']=pd.to_datetime(df['effective_to_date'], errors='coerce')\n",
    "    df[\"month\"]=list(map(lambda date:date.strftime(format=\"%B\"),df[\"effective_to_date\"]))\n",
    "    return df"
   ]
  },
  {
   "cell_type": "code",
   "execution_count": 80,
   "id": "2c7b64df",
   "metadata": {},
   "outputs": [],
   "source": [
    "#Run loading function\n",
    "df_customer = load_original_data()"
   ]
  },
  {
   "cell_type": "code",
   "execution_count": 81,
   "id": "a92fc3e7",
   "metadata": {},
   "outputs": [
    {
     "data": {
      "text/html": [
       "<div>\n",
       "<style scoped>\n",
       "    .dataframe tbody tr th:only-of-type {\n",
       "        vertical-align: middle;\n",
       "    }\n",
       "\n",
       "    .dataframe tbody tr th {\n",
       "        vertical-align: top;\n",
       "    }\n",
       "\n",
       "    .dataframe thead th {\n",
       "        text-align: right;\n",
       "    }\n",
       "</style>\n",
       "<table border=\"1\" class=\"dataframe\">\n",
       "  <thead>\n",
       "    <tr style=\"text-align: right;\">\n",
       "      <th></th>\n",
       "      <th>customer</th>\n",
       "      <th>state</th>\n",
       "      <th>customer_lifetime_value</th>\n",
       "      <th>response</th>\n",
       "      <th>coverage</th>\n",
       "      <th>education</th>\n",
       "      <th>effective_to_date</th>\n",
       "      <th>employmentstatus</th>\n",
       "      <th>gender</th>\n",
       "      <th>income</th>\n",
       "      <th>...</th>\n",
       "      <th>number_of_open_complaints</th>\n",
       "      <th>number_of_policies</th>\n",
       "      <th>policy_type</th>\n",
       "      <th>policy</th>\n",
       "      <th>renew_offer_type</th>\n",
       "      <th>sales_channel</th>\n",
       "      <th>total_claim_amount</th>\n",
       "      <th>vehicle_class</th>\n",
       "      <th>vehicle_size</th>\n",
       "      <th>month</th>\n",
       "    </tr>\n",
       "  </thead>\n",
       "  <tbody>\n",
       "    <tr>\n",
       "      <th>0</th>\n",
       "      <td>DK49336</td>\n",
       "      <td>Arizona</td>\n",
       "      <td>4809.216960</td>\n",
       "      <td>No</td>\n",
       "      <td>Basic</td>\n",
       "      <td>College</td>\n",
       "      <td>2011-02-18</td>\n",
       "      <td>Employed</td>\n",
       "      <td>M</td>\n",
       "      <td>48029</td>\n",
       "      <td>...</td>\n",
       "      <td>0.0</td>\n",
       "      <td>9</td>\n",
       "      <td>Corporate Auto</td>\n",
       "      <td>Corporate L3</td>\n",
       "      <td>Offer3</td>\n",
       "      <td>Agent</td>\n",
       "      <td>292.800000</td>\n",
       "      <td>Four-Door Car</td>\n",
       "      <td>Medsize</td>\n",
       "      <td>February</td>\n",
       "    </tr>\n",
       "    <tr>\n",
       "      <th>1</th>\n",
       "      <td>KX64629</td>\n",
       "      <td>California</td>\n",
       "      <td>2228.525238</td>\n",
       "      <td>No</td>\n",
       "      <td>Basic</td>\n",
       "      <td>College</td>\n",
       "      <td>2011-01-18</td>\n",
       "      <td>Unemployed</td>\n",
       "      <td>F</td>\n",
       "      <td>0</td>\n",
       "      <td>...</td>\n",
       "      <td>0.0</td>\n",
       "      <td>1</td>\n",
       "      <td>Personal Auto</td>\n",
       "      <td>Personal L3</td>\n",
       "      <td>Offer4</td>\n",
       "      <td>Call Center</td>\n",
       "      <td>744.924331</td>\n",
       "      <td>Four-Door Car</td>\n",
       "      <td>Medsize</td>\n",
       "      <td>January</td>\n",
       "    </tr>\n",
       "    <tr>\n",
       "      <th>2</th>\n",
       "      <td>LZ68649</td>\n",
       "      <td>Washington</td>\n",
       "      <td>14947.917300</td>\n",
       "      <td>No</td>\n",
       "      <td>Basic</td>\n",
       "      <td>Bachelor</td>\n",
       "      <td>2011-02-10</td>\n",
       "      <td>Employed</td>\n",
       "      <td>M</td>\n",
       "      <td>22139</td>\n",
       "      <td>...</td>\n",
       "      <td>0.0</td>\n",
       "      <td>2</td>\n",
       "      <td>Personal Auto</td>\n",
       "      <td>Personal L3</td>\n",
       "      <td>Offer3</td>\n",
       "      <td>Call Center</td>\n",
       "      <td>480.000000</td>\n",
       "      <td>SUV</td>\n",
       "      <td>Medsize</td>\n",
       "      <td>February</td>\n",
       "    </tr>\n",
       "    <tr>\n",
       "      <th>3</th>\n",
       "      <td>XL78013</td>\n",
       "      <td>Oregon</td>\n",
       "      <td>22332.439460</td>\n",
       "      <td>Yes</td>\n",
       "      <td>Extended</td>\n",
       "      <td>College</td>\n",
       "      <td>2011-01-11</td>\n",
       "      <td>Employed</td>\n",
       "      <td>M</td>\n",
       "      <td>49078</td>\n",
       "      <td>...</td>\n",
       "      <td>0.0</td>\n",
       "      <td>2</td>\n",
       "      <td>Corporate Auto</td>\n",
       "      <td>Corporate L3</td>\n",
       "      <td>Offer2</td>\n",
       "      <td>Branch</td>\n",
       "      <td>484.013411</td>\n",
       "      <td>Four-Door Car</td>\n",
       "      <td>Medsize</td>\n",
       "      <td>January</td>\n",
       "    </tr>\n",
       "    <tr>\n",
       "      <th>4</th>\n",
       "      <td>QA50777</td>\n",
       "      <td>Oregon</td>\n",
       "      <td>9025.067525</td>\n",
       "      <td>No</td>\n",
       "      <td>Premium</td>\n",
       "      <td>Bachelor</td>\n",
       "      <td>2011-01-17</td>\n",
       "      <td>Medical Leave</td>\n",
       "      <td>F</td>\n",
       "      <td>23675</td>\n",
       "      <td>...</td>\n",
       "      <td>NaN</td>\n",
       "      <td>7</td>\n",
       "      <td>Personal Auto</td>\n",
       "      <td>Personal L2</td>\n",
       "      <td>Offer1</td>\n",
       "      <td>Branch</td>\n",
       "      <td>707.925645</td>\n",
       "      <td>Four-Door Car</td>\n",
       "      <td>Medsize</td>\n",
       "      <td>January</td>\n",
       "    </tr>\n",
       "    <tr>\n",
       "      <th>...</th>\n",
       "      <td>...</td>\n",
       "      <td>...</td>\n",
       "      <td>...</td>\n",
       "      <td>...</td>\n",
       "      <td>...</td>\n",
       "      <td>...</td>\n",
       "      <td>...</td>\n",
       "      <td>...</td>\n",
       "      <td>...</td>\n",
       "      <td>...</td>\n",
       "      <td>...</td>\n",
       "      <td>...</td>\n",
       "      <td>...</td>\n",
       "      <td>...</td>\n",
       "      <td>...</td>\n",
       "      <td>...</td>\n",
       "      <td>...</td>\n",
       "      <td>...</td>\n",
       "      <td>...</td>\n",
       "      <td>...</td>\n",
       "      <td>...</td>\n",
       "    </tr>\n",
       "    <tr>\n",
       "      <th>10905</th>\n",
       "      <td>FE99816</td>\n",
       "      <td>Nevada</td>\n",
       "      <td>15563.369440</td>\n",
       "      <td>No</td>\n",
       "      <td>Premium</td>\n",
       "      <td>Bachelor</td>\n",
       "      <td>2011-01-19</td>\n",
       "      <td>Unemployed</td>\n",
       "      <td>F</td>\n",
       "      <td>0</td>\n",
       "      <td>...</td>\n",
       "      <td>NaN</td>\n",
       "      <td>7</td>\n",
       "      <td>Personal Auto</td>\n",
       "      <td>Personal L1</td>\n",
       "      <td>Offer3</td>\n",
       "      <td>Web</td>\n",
       "      <td>1214.400000</td>\n",
       "      <td>Luxury Car</td>\n",
       "      <td>Medsize</td>\n",
       "      <td>January</td>\n",
       "    </tr>\n",
       "    <tr>\n",
       "      <th>10906</th>\n",
       "      <td>KX53892</td>\n",
       "      <td>Oregon</td>\n",
       "      <td>5259.444853</td>\n",
       "      <td>No</td>\n",
       "      <td>Basic</td>\n",
       "      <td>College</td>\n",
       "      <td>2011-01-06</td>\n",
       "      <td>Employed</td>\n",
       "      <td>F</td>\n",
       "      <td>61146</td>\n",
       "      <td>...</td>\n",
       "      <td>0.0</td>\n",
       "      <td>6</td>\n",
       "      <td>Personal Auto</td>\n",
       "      <td>Personal L3</td>\n",
       "      <td>Offer2</td>\n",
       "      <td>Branch</td>\n",
       "      <td>273.018929</td>\n",
       "      <td>Four-Door Car</td>\n",
       "      <td>Medsize</td>\n",
       "      <td>January</td>\n",
       "    </tr>\n",
       "    <tr>\n",
       "      <th>10907</th>\n",
       "      <td>TL39050</td>\n",
       "      <td>Arizona</td>\n",
       "      <td>23893.304100</td>\n",
       "      <td>No</td>\n",
       "      <td>Extended</td>\n",
       "      <td>Bachelor</td>\n",
       "      <td>2011-02-06</td>\n",
       "      <td>Employed</td>\n",
       "      <td>F</td>\n",
       "      <td>39837</td>\n",
       "      <td>...</td>\n",
       "      <td>0.0</td>\n",
       "      <td>2</td>\n",
       "      <td>Corporate Auto</td>\n",
       "      <td>Corporate L3</td>\n",
       "      <td>Offer1</td>\n",
       "      <td>Web</td>\n",
       "      <td>381.306996</td>\n",
       "      <td>Luxury SUV</td>\n",
       "      <td>Medsize</td>\n",
       "      <td>February</td>\n",
       "    </tr>\n",
       "    <tr>\n",
       "      <th>10908</th>\n",
       "      <td>WA60547</td>\n",
       "      <td>California</td>\n",
       "      <td>11971.977650</td>\n",
       "      <td>No</td>\n",
       "      <td>Premium</td>\n",
       "      <td>College</td>\n",
       "      <td>2011-02-13</td>\n",
       "      <td>Employed</td>\n",
       "      <td>F</td>\n",
       "      <td>64195</td>\n",
       "      <td>...</td>\n",
       "      <td>4.0</td>\n",
       "      <td>6</td>\n",
       "      <td>Personal Auto</td>\n",
       "      <td>Personal L1</td>\n",
       "      <td>Offer1</td>\n",
       "      <td>Branch</td>\n",
       "      <td>618.288849</td>\n",
       "      <td>SUV</td>\n",
       "      <td>Medsize</td>\n",
       "      <td>February</td>\n",
       "    </tr>\n",
       "    <tr>\n",
       "      <th>10909</th>\n",
       "      <td>IV32877</td>\n",
       "      <td>NaN</td>\n",
       "      <td>6857.519928</td>\n",
       "      <td>NaN</td>\n",
       "      <td>Basic</td>\n",
       "      <td>Bachelor</td>\n",
       "      <td>2011-01-08</td>\n",
       "      <td>Unemployed</td>\n",
       "      <td>M</td>\n",
       "      <td>0</td>\n",
       "      <td>...</td>\n",
       "      <td>0.0</td>\n",
       "      <td>3</td>\n",
       "      <td>Personal Auto</td>\n",
       "      <td>Personal L1</td>\n",
       "      <td>Offer4</td>\n",
       "      <td>Web</td>\n",
       "      <td>1021.719397</td>\n",
       "      <td>SUV</td>\n",
       "      <td>Medsize</td>\n",
       "      <td>January</td>\n",
       "    </tr>\n",
       "  </tbody>\n",
       "</table>\n",
       "<p>10910 rows × 25 columns</p>\n",
       "</div>"
      ],
      "text/plain": [
       "      customer       state  customer_lifetime_value response  coverage  \\\n",
       "0      DK49336     Arizona              4809.216960       No     Basic   \n",
       "1      KX64629  California              2228.525238       No     Basic   \n",
       "2      LZ68649  Washington             14947.917300       No     Basic   \n",
       "3      XL78013      Oregon             22332.439460      Yes  Extended   \n",
       "4      QA50777      Oregon              9025.067525       No   Premium   \n",
       "...        ...         ...                      ...      ...       ...   \n",
       "10905  FE99816      Nevada             15563.369440       No   Premium   \n",
       "10906  KX53892      Oregon              5259.444853       No     Basic   \n",
       "10907  TL39050     Arizona             23893.304100       No  Extended   \n",
       "10908  WA60547  California             11971.977650       No   Premium   \n",
       "10909  IV32877         NaN              6857.519928      NaN     Basic   \n",
       "\n",
       "      education effective_to_date employmentstatus gender  income  ...  \\\n",
       "0       College        2011-02-18         Employed      M   48029  ...   \n",
       "1       College        2011-01-18       Unemployed      F       0  ...   \n",
       "2      Bachelor        2011-02-10         Employed      M   22139  ...   \n",
       "3       College        2011-01-11         Employed      M   49078  ...   \n",
       "4      Bachelor        2011-01-17    Medical Leave      F   23675  ...   \n",
       "...         ...               ...              ...    ...     ...  ...   \n",
       "10905  Bachelor        2011-01-19       Unemployed      F       0  ...   \n",
       "10906   College        2011-01-06         Employed      F   61146  ...   \n",
       "10907  Bachelor        2011-02-06         Employed      F   39837  ...   \n",
       "10908   College        2011-02-13         Employed      F   64195  ...   \n",
       "10909  Bachelor        2011-01-08       Unemployed      M       0  ...   \n",
       "\n",
       "      number_of_open_complaints number_of_policies     policy_type  \\\n",
       "0                           0.0                  9  Corporate Auto   \n",
       "1                           0.0                  1   Personal Auto   \n",
       "2                           0.0                  2   Personal Auto   \n",
       "3                           0.0                  2  Corporate Auto   \n",
       "4                           NaN                  7   Personal Auto   \n",
       "...                         ...                ...             ...   \n",
       "10905                       NaN                  7   Personal Auto   \n",
       "10906                       0.0                  6   Personal Auto   \n",
       "10907                       0.0                  2  Corporate Auto   \n",
       "10908                       4.0                  6   Personal Auto   \n",
       "10909                       0.0                  3   Personal Auto   \n",
       "\n",
       "             policy  renew_offer_type  sales_channel  total_claim_amount  \\\n",
       "0      Corporate L3            Offer3          Agent          292.800000   \n",
       "1       Personal L3            Offer4    Call Center          744.924331   \n",
       "2       Personal L3            Offer3    Call Center          480.000000   \n",
       "3      Corporate L3            Offer2         Branch          484.013411   \n",
       "4       Personal L2            Offer1         Branch          707.925645   \n",
       "...             ...               ...            ...                 ...   \n",
       "10905   Personal L1            Offer3            Web         1214.400000   \n",
       "10906   Personal L3            Offer2         Branch          273.018929   \n",
       "10907  Corporate L3            Offer1            Web          381.306996   \n",
       "10908   Personal L1            Offer1         Branch          618.288849   \n",
       "10909   Personal L1            Offer4            Web         1021.719397   \n",
       "\n",
       "       vehicle_class vehicle_size     month  \n",
       "0      Four-Door Car      Medsize  February  \n",
       "1      Four-Door Car      Medsize   January  \n",
       "2                SUV      Medsize  February  \n",
       "3      Four-Door Car      Medsize   January  \n",
       "4      Four-Door Car      Medsize   January  \n",
       "...              ...          ...       ...  \n",
       "10905     Luxury Car      Medsize   January  \n",
       "10906  Four-Door Car      Medsize   January  \n",
       "10907     Luxury SUV      Medsize  February  \n",
       "10908            SUV      Medsize  February  \n",
       "10909            SUV      Medsize   January  \n",
       "\n",
       "[10910 rows x 25 columns]"
      ]
     },
     "execution_count": 81,
     "metadata": {},
     "output_type": "execute_result"
    }
   ],
   "source": [
    "#Apply data cleaning function\n",
    "df_customer = clean_data(df_customer)\n",
    "df_customer"
   ]
  },
  {
   "cell_type": "markdown",
   "id": "ee47331f",
   "metadata": {},
   "source": [
    "- Deleting and rearranging columns – delete the column customer as it is only a unique identifier for each row of data"
   ]
  },
  {
   "cell_type": "markdown",
   "id": "c09ff438",
   "metadata": {},
   "source": [
    "Working with data types – Check the data types of all the columns and fix the incorrect ones (for ex. customer lifetime value and number of complaints)"
   ]
  },
  {
   "cell_type": "code",
   "execution_count": 82,
   "id": "cfe2b453",
   "metadata": {},
   "outputs": [
    {
     "data": {
      "text/plain": [
       "count    10910.000000\n",
       "mean      8018.241094\n",
       "std       6885.081434\n",
       "min       1898.007675\n",
       "25%       4014.453113\n",
       "50%       5771.147235\n",
       "75%       8992.779137\n",
       "max      83325.381190\n",
       "Name: customer_lifetime_value, dtype: float64"
      ]
     },
     "execution_count": 82,
     "metadata": {},
     "output_type": "execute_result"
    }
   ],
   "source": [
    "df_customer.dtypes\n",
    "# cust. lifetime value is already float64\n",
    "# Round numbers in a numerical column with apply and lambda function\n",
    "#df_customer['customer_lifetime_value'].apply(lambda x: round(x, 2))\n",
    "df_customer['customer_lifetime_value'].describe()"
   ]
  },
  {
   "cell_type": "markdown",
   "id": "860081a3",
   "metadata": {},
   "source": [
    "### Activity 2\n",
    "- Bucketing the data - Write a function to replace column \"State\" to different zones. California as West Region, Oregon as North West, and Washington as East, and Arizona and Nevada as Central\n",
    "- Standardizing the data – Use string functions to standardize the text data (lower case)"
   ]
  },
  {
   "cell_type": "code",
   "execution_count": 83,
   "id": "f6a9eed5",
   "metadata": {},
   "outputs": [],
   "source": [
    "#df_customer['zones'] = df_cust['state']\n",
    "#df_customer = df_cust [['customer', 'zones', 'state', 'customer_lifetime_value', 'response',\n",
    "#       'coverage', 'education', 'effective_to_date', 'employmentstatus',\n",
    "#       'gender', 'income', 'location_code', 'marital_status',\n",
    "#       'monthly_premium_auto', 'months_since_last_claim',\n",
    "#       'months_since_policy_inception', 'number_of_open_complaints',\n",
    "#       'number_of_policies', 'policy_type', 'policy', 'renew_offer_type',\n",
    "#       'sales_channel', 'total_claim_amount', 'vehicle_class', 'vehicle_size',\n",
    "#       'vehicle_type']]\n",
    "#df_customer"
   ]
  },
  {
   "cell_type": "code",
   "execution_count": 84,
   "id": "25f2b4b8",
   "metadata": {},
   "outputs": [],
   "source": [
    "#df_cust['state'].unique()"
   ]
  },
  {
   "cell_type": "code",
   "execution_count": 85,
   "id": "18e085c5",
   "metadata": {},
   "outputs": [
    {
     "data": {
      "text/plain": [
       "\"def zones_group(x):\\n    # checking for NaN. If x is NaN, return x\\n    if not x==x:\\n        return x\\n    else:\\n\\n        dct_ = {'Washington':'west_coast',\\n                'Arizona':'midwest',\\n                'Nevada':'midwest',\\n                'California':'west_coast',\\n                'Oregon':'west_coast',\\n               }\\n        \\n        return dct_[x]\\n\\ndf_cust['zones'] = df_cust['state'].apply(zones_group)\""
      ]
     },
     "execution_count": 85,
     "metadata": {},
     "output_type": "execute_result"
    }
   ],
   "source": [
    "'''def zones_group(x):\n",
    "    # checking for NaN. If x is NaN, return x\n",
    "    if not x==x:\n",
    "        return x\n",
    "    else:\n",
    "\n",
    "        dct_ = {'Washington':'west_coast',\n",
    "                'Arizona':'midwest',\n",
    "                'Nevada':'midwest',\n",
    "                'California':'west_coast',\n",
    "                'Oregon':'west_coast',\n",
    "               }\n",
    "        \n",
    "        return dct_[x]\n",
    "\n",
    "df_cust['zones'] = df_cust['state'].apply(zones_group)'''"
   ]
  },
  {
   "cell_type": "markdown",
   "id": "4ef7e004",
   "metadata": {},
   "source": [
    "### Activity 3\n",
    "- Which columns are numerical?\n",
    "- Which columns are categorical?\n",
    "- Check and deal with NaN values. (Hint:Replacing null values – Replace missing values with means of the column (for numerical columns)).\n",
    "- Datetime format - Extract the months from the dataset and store in a separate column. Then filter the data to show only the information for the first quarter , ie. January, February and March. Hint: If data from March does not exist, consider only January and February."
   ]
  },
  {
   "cell_type": "code",
   "execution_count": 86,
   "id": "df8d737c",
   "metadata": {},
   "outputs": [
    {
     "name": "stdout",
     "output_type": "stream",
     "text": [
      "customer                                 object\n",
      "state                                    object\n",
      "customer_lifetime_value                 float64\n",
      "response                                 object\n",
      "coverage                                 object\n",
      "education                                object\n",
      "effective_to_date                datetime64[ns]\n",
      "employmentstatus                         object\n",
      "gender                                   object\n",
      "income                                    int64\n",
      "location_code                            object\n",
      "marital_status                           object\n",
      "monthly_premium_auto                      int64\n",
      "months_since_last_claim                 float64\n",
      "months_since_policy_inception             int64\n",
      "number_of_open_complaints               float64\n",
      "number_of_policies                        int64\n",
      "policy_type                              object\n",
      "policy                                   object\n",
      "renew_offer_type                         object\n",
      "sales_channel                            object\n",
      "total_claim_amount                      float64\n",
      "vehicle_class                            object\n",
      "vehicle_size                             object\n",
      "month                                    object\n",
      "dtype: object\n"
     ]
    }
   ],
   "source": [
    "#Selection of numerical columns\n",
    "#print(df_cust.select_dtypes(include = ['int', 'float'] ))\n",
    "def fillnan():\n",
    "    df_cust.select_dtypes(include = ['int', 'float'] )\n",
    "    return True\n",
    "    \n",
    "print(df_customer.dtypes)"
   ]
  },
  {
   "cell_type": "code",
   "execution_count": 87,
   "id": "af617b43",
   "metadata": {},
   "outputs": [
    {
     "name": "stdout",
     "output_type": "stream",
     "text": [
      "<class 'pandas.core.frame.DataFrame'>\n",
      "RangeIndex: 10910 entries, 0 to 10909\n",
      "Data columns (total 8 columns):\n",
      " #   Column                         Non-Null Count  Dtype  \n",
      "---  ------                         --------------  -----  \n",
      " 0   customer_lifetime_value        10910 non-null  float64\n",
      " 1   income                         10910 non-null  int64  \n",
      " 2   monthly_premium_auto           10910 non-null  int64  \n",
      " 3   months_since_last_claim        10277 non-null  float64\n",
      " 4   months_since_policy_inception  10910 non-null  int64  \n",
      " 5   number_of_open_complaints      10277 non-null  float64\n",
      " 6   number_of_policies             10910 non-null  int64  \n",
      " 7   total_claim_amount             10910 non-null  float64\n",
      "dtypes: float64(4), int64(4)\n",
      "memory usage: 682.0 KB\n"
     ]
    }
   ],
   "source": [
    "df_customer.select_dtypes(include = ['int', 'float'] ).info()"
   ]
  },
  {
   "cell_type": "code",
   "execution_count": 88,
   "id": "e2a31f2e",
   "metadata": {},
   "outputs": [],
   "source": [
    "#Export to check data manipulation in excel\n",
    "#df_customer.to_csv('testfile_customer1.csv', index = False)"
   ]
  },
  {
   "cell_type": "code",
   "execution_count": 89,
   "id": "eb695920",
   "metadata": {},
   "outputs": [
    {
     "data": {
      "text/plain": [
       "count    10910.000000\n",
       "mean      8018.241094\n",
       "std       6885.081434\n",
       "min       1898.007675\n",
       "25%       4014.453113\n",
       "50%       5771.147235\n",
       "75%       8992.779137\n",
       "max      83325.381190\n",
       "Name: customer_lifetime_value, dtype: float64"
      ]
     },
     "execution_count": 89,
     "metadata": {},
     "output_type": "execute_result"
    }
   ],
   "source": [
    "df_customer['customer_lifetime_value'].describe()"
   ]
  },
  {
   "cell_type": "code",
   "execution_count": 90,
   "id": "984b8475",
   "metadata": {},
   "outputs": [
    {
     "name": "stderr",
     "output_type": "stream",
     "text": [
      "<ipython-input-90-3de3b9a4b64c>:1: FutureWarning: DataFrame.mean and DataFrame.median with numeric_only=None will include datetime64 and datetime64tz columns in a future version.\n",
      "  df_customer.mean()\n",
      "<ipython-input-90-3de3b9a4b64c>:1: FutureWarning: Dropping of nuisance columns in DataFrame reductions (with 'numeric_only=None') is deprecated; in a future version this will raise TypeError.  Select only valid columns before calling the reduction.\n",
      "  df_customer.mean()\n"
     ]
    },
    {
     "data": {
      "text/plain": [
       "customer_lifetime_value           8018.241094\n",
       "income                           37536.284785\n",
       "monthly_premium_auto                93.196059\n",
       "months_since_last_claim             15.149071\n",
       "months_since_policy_inception       48.091934\n",
       "number_of_open_complaints            0.384256\n",
       "number_of_policies                   2.979193\n",
       "total_claim_amount                 434.888330\n",
       "dtype: float64"
      ]
     },
     "execution_count": 90,
     "metadata": {},
     "output_type": "execute_result"
    }
   ],
   "source": [
    "df_customer.mean()"
   ]
  },
  {
   "cell_type": "code",
   "execution_count": 91,
   "id": "b8cac44a",
   "metadata": {},
   "outputs": [
    {
     "name": "stdout",
     "output_type": "stream",
     "text": [
      "<class 'pandas.core.frame.DataFrame'>\n",
      "RangeIndex: 10910 entries, 0 to 10909\n",
      "Data columns (total 8 columns):\n",
      " #   Column                         Non-Null Count  Dtype  \n",
      "---  ------                         --------------  -----  \n",
      " 0   customer_lifetime_value        10910 non-null  float64\n",
      " 1   income                         10910 non-null  int64  \n",
      " 2   monthly_premium_auto           10910 non-null  int64  \n",
      " 3   months_since_last_claim        10277 non-null  float64\n",
      " 4   months_since_policy_inception  10910 non-null  int64  \n",
      " 5   number_of_open_complaints      10277 non-null  float64\n",
      " 6   number_of_policies             10910 non-null  int64  \n",
      " 7   total_claim_amount             10910 non-null  float64\n",
      "dtypes: float64(4), int64(4)\n",
      "memory usage: 682.0 KB\n"
     ]
    }
   ],
   "source": [
    "#while fillnan() == True:\n",
    "#        df_customer = df_customer.fillna(value = df_customer.mean())\n",
    "#        break\n",
    "#df_customer\n",
    "df_customer.select_dtypes(include = ['int', 'float'] ).info()"
   ]
  },
  {
   "cell_type": "markdown",
   "id": "68c02914",
   "metadata": {},
   "source": [
    "### Activity 5\n",
    "\n",
    "- Check the data types of the columns. Get the numeric data into dataframe called numerical and categorical columns in a dataframe called categoricals. (You can use np.number and np.object to select the numerical data types and categorical data types respectively)\n"
   ]
  },
  {
   "cell_type": "code",
   "execution_count": 92,
   "id": "81247a8a",
   "metadata": {},
   "outputs": [
    {
     "data": {
      "text/html": [
       "<div>\n",
       "<style scoped>\n",
       "    .dataframe tbody tr th:only-of-type {\n",
       "        vertical-align: middle;\n",
       "    }\n",
       "\n",
       "    .dataframe tbody tr th {\n",
       "        vertical-align: top;\n",
       "    }\n",
       "\n",
       "    .dataframe thead th {\n",
       "        text-align: right;\n",
       "    }\n",
       "</style>\n",
       "<table border=\"1\" class=\"dataframe\">\n",
       "  <thead>\n",
       "    <tr style=\"text-align: right;\">\n",
       "      <th></th>\n",
       "      <th>customer_lifetime_value</th>\n",
       "      <th>income</th>\n",
       "      <th>monthly_premium_auto</th>\n",
       "      <th>months_since_last_claim</th>\n",
       "      <th>months_since_policy_inception</th>\n",
       "      <th>number_of_open_complaints</th>\n",
       "      <th>number_of_policies</th>\n",
       "      <th>total_claim_amount</th>\n",
       "    </tr>\n",
       "  </thead>\n",
       "  <tbody>\n",
       "    <tr>\n",
       "      <th>0</th>\n",
       "      <td>4809.216960</td>\n",
       "      <td>48029</td>\n",
       "      <td>61</td>\n",
       "      <td>7.0</td>\n",
       "      <td>52</td>\n",
       "      <td>0.0</td>\n",
       "      <td>9</td>\n",
       "      <td>292.800000</td>\n",
       "    </tr>\n",
       "    <tr>\n",
       "      <th>1</th>\n",
       "      <td>2228.525238</td>\n",
       "      <td>0</td>\n",
       "      <td>64</td>\n",
       "      <td>3.0</td>\n",
       "      <td>26</td>\n",
       "      <td>0.0</td>\n",
       "      <td>1</td>\n",
       "      <td>744.924331</td>\n",
       "    </tr>\n",
       "    <tr>\n",
       "      <th>2</th>\n",
       "      <td>14947.917300</td>\n",
       "      <td>22139</td>\n",
       "      <td>100</td>\n",
       "      <td>34.0</td>\n",
       "      <td>31</td>\n",
       "      <td>0.0</td>\n",
       "      <td>2</td>\n",
       "      <td>480.000000</td>\n",
       "    </tr>\n",
       "    <tr>\n",
       "      <th>3</th>\n",
       "      <td>22332.439460</td>\n",
       "      <td>49078</td>\n",
       "      <td>97</td>\n",
       "      <td>10.0</td>\n",
       "      <td>3</td>\n",
       "      <td>0.0</td>\n",
       "      <td>2</td>\n",
       "      <td>484.013411</td>\n",
       "    </tr>\n",
       "    <tr>\n",
       "      <th>4</th>\n",
       "      <td>9025.067525</td>\n",
       "      <td>23675</td>\n",
       "      <td>117</td>\n",
       "      <td>NaN</td>\n",
       "      <td>31</td>\n",
       "      <td>NaN</td>\n",
       "      <td>7</td>\n",
       "      <td>707.925645</td>\n",
       "    </tr>\n",
       "    <tr>\n",
       "      <th>...</th>\n",
       "      <td>...</td>\n",
       "      <td>...</td>\n",
       "      <td>...</td>\n",
       "      <td>...</td>\n",
       "      <td>...</td>\n",
       "      <td>...</td>\n",
       "      <td>...</td>\n",
       "      <td>...</td>\n",
       "    </tr>\n",
       "    <tr>\n",
       "      <th>10905</th>\n",
       "      <td>15563.369440</td>\n",
       "      <td>0</td>\n",
       "      <td>253</td>\n",
       "      <td>NaN</td>\n",
       "      <td>40</td>\n",
       "      <td>NaN</td>\n",
       "      <td>7</td>\n",
       "      <td>1214.400000</td>\n",
       "    </tr>\n",
       "    <tr>\n",
       "      <th>10906</th>\n",
       "      <td>5259.444853</td>\n",
       "      <td>61146</td>\n",
       "      <td>65</td>\n",
       "      <td>7.0</td>\n",
       "      <td>68</td>\n",
       "      <td>0.0</td>\n",
       "      <td>6</td>\n",
       "      <td>273.018929</td>\n",
       "    </tr>\n",
       "    <tr>\n",
       "      <th>10907</th>\n",
       "      <td>23893.304100</td>\n",
       "      <td>39837</td>\n",
       "      <td>201</td>\n",
       "      <td>11.0</td>\n",
       "      <td>63</td>\n",
       "      <td>0.0</td>\n",
       "      <td>2</td>\n",
       "      <td>381.306996</td>\n",
       "    </tr>\n",
       "    <tr>\n",
       "      <th>10908</th>\n",
       "      <td>11971.977650</td>\n",
       "      <td>64195</td>\n",
       "      <td>158</td>\n",
       "      <td>0.0</td>\n",
       "      <td>27</td>\n",
       "      <td>4.0</td>\n",
       "      <td>6</td>\n",
       "      <td>618.288849</td>\n",
       "    </tr>\n",
       "    <tr>\n",
       "      <th>10909</th>\n",
       "      <td>6857.519928</td>\n",
       "      <td>0</td>\n",
       "      <td>101</td>\n",
       "      <td>31.0</td>\n",
       "      <td>1</td>\n",
       "      <td>0.0</td>\n",
       "      <td>3</td>\n",
       "      <td>1021.719397</td>\n",
       "    </tr>\n",
       "  </tbody>\n",
       "</table>\n",
       "<p>10910 rows × 8 columns</p>\n",
       "</div>"
      ],
      "text/plain": [
       "       customer_lifetime_value  income  monthly_premium_auto  \\\n",
       "0                  4809.216960   48029                    61   \n",
       "1                  2228.525238       0                    64   \n",
       "2                 14947.917300   22139                   100   \n",
       "3                 22332.439460   49078                    97   \n",
       "4                  9025.067525   23675                   117   \n",
       "...                        ...     ...                   ...   \n",
       "10905             15563.369440       0                   253   \n",
       "10906              5259.444853   61146                    65   \n",
       "10907             23893.304100   39837                   201   \n",
       "10908             11971.977650   64195                   158   \n",
       "10909              6857.519928       0                   101   \n",
       "\n",
       "       months_since_last_claim  months_since_policy_inception  \\\n",
       "0                          7.0                             52   \n",
       "1                          3.0                             26   \n",
       "2                         34.0                             31   \n",
       "3                         10.0                              3   \n",
       "4                          NaN                             31   \n",
       "...                        ...                            ...   \n",
       "10905                      NaN                             40   \n",
       "10906                      7.0                             68   \n",
       "10907                     11.0                             63   \n",
       "10908                      0.0                             27   \n",
       "10909                     31.0                              1   \n",
       "\n",
       "       number_of_open_complaints  number_of_policies  total_claim_amount  \n",
       "0                            0.0                   9          292.800000  \n",
       "1                            0.0                   1          744.924331  \n",
       "2                            0.0                   2          480.000000  \n",
       "3                            0.0                   2          484.013411  \n",
       "4                            NaN                   7          707.925645  \n",
       "...                          ...                 ...                 ...  \n",
       "10905                        NaN                   7         1214.400000  \n",
       "10906                        0.0                   6          273.018929  \n",
       "10907                        0.0                   2          381.306996  \n",
       "10908                        4.0                   6          618.288849  \n",
       "10909                        0.0                   3         1021.719397  \n",
       "\n",
       "[10910 rows x 8 columns]"
      ]
     },
     "execution_count": 92,
     "metadata": {},
     "output_type": "execute_result"
    }
   ],
   "source": [
    "df_numerical = df_customer.select_dtypes(include=np.number)\n",
    "df_categorical = df_customer.select_dtypes(include=object)\n",
    "df_categorical\n",
    "df_numerical"
   ]
  },
  {
   "cell_type": "markdown",
   "id": "7be80465",
   "metadata": {},
   "source": [
    "Now we will try to check the normality of the numerical variables visually\n",
    "\n",
    "- Use seaborn library to construct distribution plots for the numerical variables\n",
    "- Use Matplotlib to construct histograms\n",
    "- Do the distributions for different numerical variables look like a normal distribution"
   ]
  },
  {
   "cell_type": "code",
   "execution_count": 93,
   "id": "831bb4fd",
   "metadata": {},
   "outputs": [
    {
     "name": "stderr",
     "output_type": "stream",
     "text": [
      "/Users/mspro/opt/anaconda3/lib/python3.8/site-packages/seaborn/distributions.py:2557: FutureWarning: `distplot` is a deprecated function and will be removed in a future version. Please adapt your code to use either `displot` (a figure-level function with similar flexibility) or `histplot` (an axes-level function for histograms).\n",
      "  warnings.warn(msg, FutureWarning)\n"
     ]
    },
    {
     "data": {
      "text/plain": [
       "<seaborn.axisgrid.FacetGrid at 0x7fc7f99808b0>"
      ]
     },
     "execution_count": 93,
     "metadata": {},
     "output_type": "execute_result"
    },
    {
     "data": {
      "image/png": "[encoded data removed]",
      "text/plain": [
       "<Figure size 432x288 with 1 Axes>"
      ]
     },
     "metadata": {
      "needs_background": "light"
     },
     "output_type": "display_data"
    },
    {
     "data": {
      "image/png": "[encoded data removed]",
      "text/plain": [
       "<Figure size 360x360 with 1 Axes>"
      ]
     },
     "metadata": {
      "needs_background": "light"
     },
     "output_type": "display_data"
    }
   ],
   "source": [
    "sns.distplot(df_numerical['customer_lifetime_value'], hist=True)\n",
    "sns.displot(df_numerical['customer_lifetime_value'],)"
   ]
  },
  {
   "cell_type": "code",
   "execution_count": 94,
   "id": "959e2686",
   "metadata": {},
   "outputs": [
    {
     "name": "stderr",
     "output_type": "stream",
     "text": [
      "/Users/mspro/opt/anaconda3/lib/python3.8/site-packages/seaborn/distributions.py:2557: FutureWarning: `distplot` is a deprecated function and will be removed in a future version. Please adapt your code to use either `displot` (a figure-level function with similar flexibility) or `histplot` (an axes-level function for histograms).\n",
      "  warnings.warn(msg, FutureWarning)\n"
     ]
    },
    {
     "data": {
      "text/plain": [
       "<seaborn.axisgrid.FacetGrid at 0x7fc7fadd8ca0>"
      ]
     },
     "execution_count": 94,
     "metadata": {},
     "output_type": "execute_result"
    },
    {
     "data": {
      "image/png": "[encoded data removed]",
      "text/plain": [
       "<Figure size 432x288 with 1 Axes>"
      ]
     },
     "metadata": {
      "needs_background": "light"
     },
     "output_type": "display_data"
    },
    {
     "data": {
      "image/png": "[encoded data removed]",
      "text/plain": [
       "<Figure size 360x360 with 1 Axes>"
      ]
     },
     "metadata": {
      "needs_background": "light"
     },
     "output_type": "display_data"
    }
   ],
   "source": [
    "#sns.displot(samples,hist=True)#sns.histplot(samples)\n",
    "sns.distplot(df_numerical['income'], hist=True)\n",
    "sns.displot(df_numerical['income'],)"
   ]
  },
  {
   "cell_type": "code",
   "execution_count": 95,
   "id": "2e75a532",
   "metadata": {},
   "outputs": [
    {
     "name": "stderr",
     "output_type": "stream",
     "text": [
      "/Users/mspro/opt/anaconda3/lib/python3.8/site-packages/seaborn/distributions.py:2557: FutureWarning: `distplot` is a deprecated function and will be removed in a future version. Please adapt your code to use either `displot` (a figure-level function with similar flexibility) or `histplot` (an axes-level function for histograms).\n",
      "  warnings.warn(msg, FutureWarning)\n"
     ]
    },
    {
     "data": {
      "image/png": "[encoded data removed]",
      "text/plain": [
       "<Figure size 432x288 with 1 Axes>"
      ]
     },
     "metadata": {
      "needs_background": "light"
     },
     "output_type": "display_data"
    },
    {
     "data": {
      "image/png": "[encoded data removed]",
      "text/plain": [
       "<Figure size 360x360 with 1 Axes>"
      ]
     },
     "metadata": {
      "needs_background": "light"
     },
     "output_type": "display_data"
    }
   ],
   "source": [
    "sns.distplot(df_numerical['monthly_premium_auto'], hist=True)\n",
    "sns.displot(df_numerical['monthly_premium_auto'],)\n",
    "plt.show()"
   ]
  },
  {
   "cell_type": "code",
   "execution_count": 96,
   "id": "f19be4e2",
   "metadata": {},
   "outputs": [
    {
     "name": "stderr",
     "output_type": "stream",
     "text": [
      "/Users/mspro/opt/anaconda3/lib/python3.8/site-packages/seaborn/distributions.py:2557: FutureWarning: `distplot` is a deprecated function and will be removed in a future version. Please adapt your code to use either `displot` (a figure-level function with similar flexibility) or `histplot` (an axes-level function for histograms).\n",
      "  warnings.warn(msg, FutureWarning)\n"
     ]
    },
    {
     "data": {
      "text/plain": [
       "<seaborn.axisgrid.FacetGrid at 0x7fc7fb1b0a60>"
      ]
     },
     "execution_count": 96,
     "metadata": {},
     "output_type": "execute_result"
    },
    {
     "data": {
      "image/png": "[encoded data removed]",
      "text/plain": [
       "<Figure size 432x288 with 1 Axes>"
      ]
     },
     "metadata": {
      "needs_background": "light"
     },
     "output_type": "display_data"
    },
    {
     "data": {
      "image/png": "[encoded data removed]",
      "text/plain": [
       "<Figure size 360x360 with 1 Axes>"
      ]
     },
     "metadata": {
      "needs_background": "light"
     },
     "output_type": "display_data"
    }
   ],
   "source": [
    "#  \tmonths_since_policy_inception \tnumber_of_open_complaints \tnumber_of_policies \ttotal_claim_amount\n",
    "sns.distplot(df_numerical['months_since_last_claim'], hist=True)\n",
    "sns.displot(df_numerical['months_since_last_claim'],)"
   ]
  },
  {
   "cell_type": "code",
   "execution_count": 97,
   "id": "64367bbf",
   "metadata": {},
   "outputs": [
    {
     "name": "stderr",
     "output_type": "stream",
     "text": [
      "/Users/mspro/opt/anaconda3/lib/python3.8/site-packages/seaborn/distributions.py:2557: FutureWarning: `distplot` is a deprecated function and will be removed in a future version. Please adapt your code to use either `displot` (a figure-level function with similar flexibility) or `histplot` (an axes-level function for histograms).\n",
      "  warnings.warn(msg, FutureWarning)\n"
     ]
    },
    {
     "data": {
      "text/plain": [
       "<seaborn.axisgrid.FacetGrid at 0x7fc7ff403fa0>"
      ]
     },
     "execution_count": 97,
     "metadata": {},
     "output_type": "execute_result"
    },
    {
     "data": {
      "image/png": "[encoded data removed]",
      "text/plain": [
       "<Figure size 432x288 with 1 Axes>"
      ]
     },
     "metadata": {
      "needs_background": "light"
     },
     "output_type": "display_data"
    },
    {
     "data": {
      "image/png": "[encoded data removed]",
      "text/plain": [
       "<Figure size 360x360 with 1 Axes>"
      ]
     },
     "metadata": {
      "needs_background": "light"
     },
     "output_type": "display_data"
    }
   ],
   "source": [
    "#  \t \tnumber_of_open_complaints \tnumber_of_policies \ttotal_claim_amount\n",
    "sns.distplot(df_numerical['months_since_policy_inception'], hist=True)\n",
    "sns.displot(df_numerical['months_since_policy_inception'],)"
   ]
  },
  {
   "cell_type": "code",
   "execution_count": 98,
   "id": "24159c21",
   "metadata": {},
   "outputs": [
    {
     "name": "stderr",
     "output_type": "stream",
     "text": [
      "/Users/mspro/opt/anaconda3/lib/python3.8/site-packages/seaborn/distributions.py:2557: FutureWarning: `distplot` is a deprecated function and will be removed in a future version. Please adapt your code to use either `displot` (a figure-level function with similar flexibility) or `histplot` (an axes-level function for histograms).\n",
      "  warnings.warn(msg, FutureWarning)\n"
     ]
    },
    {
     "data": {
      "text/plain": [
       "<seaborn.axisgrid.FacetGrid at 0x7fc7ff599580>"
      ]
     },
     "execution_count": 98,
     "metadata": {},
     "output_type": "execute_result"
    },
    {
     "data": {
      "image/png": "[encoded data removed]",
      "text/plain": [
       "<Figure size 432x288 with 1 Axes>"
      ]
     },
     "metadata": {
      "needs_background": "light"
     },
     "output_type": "display_data"
    },
    {
     "data": {
      "image/png": "[encoded data removed]",
      "text/plain": [
       "<Figure size 360x360 with 1 Axes>"
      ]
     },
     "metadata": {
      "needs_background": "light"
     },
     "output_type": "display_data"
    }
   ],
   "source": [
    "#\n",
    "sns.distplot(df_numerical['number_of_open_complaints'], hist=True)\n",
    "sns.displot(df_numerical['number_of_open_complaints'],)"
   ]
  },
  {
   "cell_type": "code",
   "execution_count": 99,
   "id": "6ccc9cd2",
   "metadata": {},
   "outputs": [
    {
     "name": "stderr",
     "output_type": "stream",
     "text": [
      "/Users/mspro/opt/anaconda3/lib/python3.8/site-packages/seaborn/distributions.py:2557: FutureWarning: `distplot` is a deprecated function and will be removed in a future version. Please adapt your code to use either `displot` (a figure-level function with similar flexibility) or `histplot` (an axes-level function for histograms).\n",
      "  warnings.warn(msg, FutureWarning)\n"
     ]
    },
    {
     "data": {
      "text/plain": [
       "<seaborn.axisgrid.FacetGrid at 0x7fc7ff2e86d0>"
      ]
     },
     "execution_count": 99,
     "metadata": {},
     "output_type": "execute_result"
    },
    {
     "data": {
      "image/png": "[encoded data removed]",
      "text/plain": [
       "<Figure size 432x288 with 1 Axes>"
      ]
     },
     "metadata": {
      "needs_background": "light"
     },
     "output_type": "display_data"
    },
    {
     "data": {
      "image/png": "[encoded data removed]",
      "text/plain": [
       "<Figure size 360x360 with 1 Axes>"
      ]
     },
     "metadata": {
      "needs_background": "light"
     },
     "output_type": "display_data"
    }
   ],
   "source": [
    "#\n",
    "sns.distplot(df_numerical['number_of_policies'], hist=True)\n",
    "sns.displot(df_numerical['number_of_policies'],)"
   ]
  },
  {
   "cell_type": "code",
   "execution_count": 100,
   "id": "5669b70b",
   "metadata": {},
   "outputs": [
    {
     "name": "stderr",
     "output_type": "stream",
     "text": [
      "/Users/mspro/opt/anaconda3/lib/python3.8/site-packages/seaborn/distributions.py:2557: FutureWarning: `distplot` is a deprecated function and will be removed in a future version. Please adapt your code to use either `displot` (a figure-level function with similar flexibility) or `histplot` (an axes-level function for histograms).\n",
      "  warnings.warn(msg, FutureWarning)\n"
     ]
    },
    {
     "data": {
      "text/plain": [
       "<seaborn.axisgrid.FacetGrid at 0x7fc7ffaa3e80>"
      ]
     },
     "execution_count": 100,
     "metadata": {},
     "output_type": "execute_result"
    },
    {
     "data": {
      "image/png": "[encoded data removed]",
      "text/plain": [
       "<Figure size 432x288 with 1 Axes>"
      ]
     },
     "metadata": {
      "needs_background": "light"
     },
     "output_type": "display_data"
    },
    {
     "data": {
      "image/png": "[encoded data removed]",
      "text/plain": [
       "<Figure size 360x360 with 1 Axes>"
      ]
     },
     "metadata": {
      "needs_background": "light"
     },
     "output_type": "display_data"
    }
   ],
   "source": [
    "sns.distplot(df_numerical['total_claim_amount'], hist=True)\n",
    "sns.displot(df_numerical['total_claim_amount'],)"
   ]
  },
  {
   "cell_type": "markdown",
   "id": "8f6348fb",
   "metadata": {},
   "source": [
    "- Normalize (numericals)\n",
    "\n",
    "- For the numerical variables, check the multicollinearity between the features. Please note that we will use the column total_claim_amount later as the target variable.\n",
    "\n",
    "- Drop one of the two features that show a high correlation between them (greater than 0.9). Write code for both the correlation matrix and for seaborn heatmap. If there is no pair of features that have a high correlation, then do not drop any features"
   ]
  },
  {
   "cell_type": "code",
   "execution_count": 101,
   "id": "7358eb6e",
   "metadata": {},
   "outputs": [
    {
     "data": {
      "text/html": [
       "<div>\n",
       "<style scoped>\n",
       "    .dataframe tbody tr th:only-of-type {\n",
       "        vertical-align: middle;\n",
       "    }\n",
       "\n",
       "    .dataframe tbody tr th {\n",
       "        vertical-align: top;\n",
       "    }\n",
       "\n",
       "    .dataframe thead th {\n",
       "        text-align: right;\n",
       "    }\n",
       "</style>\n",
       "<table border=\"1\" class=\"dataframe\">\n",
       "  <thead>\n",
       "    <tr style=\"text-align: right;\">\n",
       "      <th></th>\n",
       "      <th>customer_lifetime_value</th>\n",
       "      <th>income</th>\n",
       "      <th>monthly_premium_auto</th>\n",
       "      <th>months_since_last_claim</th>\n",
       "      <th>months_since_policy_inception</th>\n",
       "      <th>number_of_open_complaints</th>\n",
       "      <th>number_of_policies</th>\n",
       "      <th>total_claim_amount</th>\n",
       "    </tr>\n",
       "  </thead>\n",
       "  <tbody>\n",
       "    <tr>\n",
       "      <th>customer_lifetime_value</th>\n",
       "      <td>1.000000</td>\n",
       "      <td>0.028306</td>\n",
       "      <td>0.403069</td>\n",
       "      <td>0.016052</td>\n",
       "      <td>0.016960</td>\n",
       "      <td>-0.032243</td>\n",
       "      <td>0.016024</td>\n",
       "      <td>0.232626</td>\n",
       "    </tr>\n",
       "    <tr>\n",
       "      <th>income</th>\n",
       "      <td>0.028306</td>\n",
       "      <td>1.000000</td>\n",
       "      <td>-0.009788</td>\n",
       "      <td>-0.023814</td>\n",
       "      <td>-0.005903</td>\n",
       "      <td>0.007163</td>\n",
       "      <td>-0.009960</td>\n",
       "      <td>-0.354141</td>\n",
       "    </tr>\n",
       "    <tr>\n",
       "      <th>monthly_premium_auto</th>\n",
       "      <td>0.403069</td>\n",
       "      <td>-0.009788</td>\n",
       "      <td>1.000000</td>\n",
       "      <td>0.008744</td>\n",
       "      <td>0.018953</td>\n",
       "      <td>-0.010350</td>\n",
       "      <td>-0.020505</td>\n",
       "      <td>0.631799</td>\n",
       "    </tr>\n",
       "    <tr>\n",
       "      <th>months_since_last_claim</th>\n",
       "      <td>0.016052</td>\n",
       "      <td>-0.023814</td>\n",
       "      <td>0.008744</td>\n",
       "      <td>1.000000</td>\n",
       "      <td>-0.039318</td>\n",
       "      <td>0.002246</td>\n",
       "      <td>0.007678</td>\n",
       "      <td>0.013137</td>\n",
       "    </tr>\n",
       "    <tr>\n",
       "      <th>months_since_policy_inception</th>\n",
       "      <td>0.016960</td>\n",
       "      <td>-0.005903</td>\n",
       "      <td>0.018953</td>\n",
       "      <td>-0.039318</td>\n",
       "      <td>1.000000</td>\n",
       "      <td>0.004376</td>\n",
       "      <td>-0.009123</td>\n",
       "      <td>0.003095</td>\n",
       "    </tr>\n",
       "    <tr>\n",
       "      <th>number_of_open_complaints</th>\n",
       "      <td>-0.032243</td>\n",
       "      <td>0.007163</td>\n",
       "      <td>-0.010350</td>\n",
       "      <td>0.002246</td>\n",
       "      <td>0.004376</td>\n",
       "      <td>1.000000</td>\n",
       "      <td>0.004098</td>\n",
       "      <td>-0.011379</td>\n",
       "    </tr>\n",
       "    <tr>\n",
       "      <th>number_of_policies</th>\n",
       "      <td>0.016024</td>\n",
       "      <td>-0.009960</td>\n",
       "      <td>-0.020505</td>\n",
       "      <td>0.007678</td>\n",
       "      <td>-0.009123</td>\n",
       "      <td>0.004098</td>\n",
       "      <td>1.000000</td>\n",
       "      <td>-0.008923</td>\n",
       "    </tr>\n",
       "    <tr>\n",
       "      <th>total_claim_amount</th>\n",
       "      <td>0.232626</td>\n",
       "      <td>-0.354141</td>\n",
       "      <td>0.631799</td>\n",
       "      <td>0.013137</td>\n",
       "      <td>0.003095</td>\n",
       "      <td>-0.011379</td>\n",
       "      <td>-0.008923</td>\n",
       "      <td>1.000000</td>\n",
       "    </tr>\n",
       "  </tbody>\n",
       "</table>\n",
       "</div>"
      ],
      "text/plain": [
       "                               customer_lifetime_value    income  \\\n",
       "customer_lifetime_value                       1.000000  0.028306   \n",
       "income                                        0.028306  1.000000   \n",
       "monthly_premium_auto                          0.403069 -0.009788   \n",
       "months_since_last_claim                       0.016052 -0.023814   \n",
       "months_since_policy_inception                 0.016960 -0.005903   \n",
       "number_of_open_complaints                    -0.032243  0.007163   \n",
       "number_of_policies                            0.016024 -0.009960   \n",
       "total_claim_amount                            0.232626 -0.354141   \n",
       "\n",
       "                               monthly_premium_auto  months_since_last_claim  \\\n",
       "customer_lifetime_value                    0.403069                 0.016052   \n",
       "income                                    -0.009788                -0.023814   \n",
       "monthly_premium_auto                       1.000000                 0.008744   \n",
       "months_since_last_claim                    0.008744                 1.000000   \n",
       "months_since_policy_inception              0.018953                -0.039318   \n",
       "number_of_open_complaints                 -0.010350                 0.002246   \n",
       "number_of_policies                        -0.020505                 0.007678   \n",
       "total_claim_amount                         0.631799                 0.013137   \n",
       "\n",
       "                               months_since_policy_inception  \\\n",
       "customer_lifetime_value                             0.016960   \n",
       "income                                             -0.005903   \n",
       "monthly_premium_auto                                0.018953   \n",
       "months_since_last_claim                            -0.039318   \n",
       "months_since_policy_inception                       1.000000   \n",
       "number_of_open_complaints                           0.004376   \n",
       "number_of_policies                                 -0.009123   \n",
       "total_claim_amount                                  0.003095   \n",
       "\n",
       "                               number_of_open_complaints  number_of_policies  \\\n",
       "customer_lifetime_value                        -0.032243            0.016024   \n",
       "income                                          0.007163           -0.009960   \n",
       "monthly_premium_auto                           -0.010350           -0.020505   \n",
       "months_since_last_claim                         0.002246            0.007678   \n",
       "months_since_policy_inception                   0.004376           -0.009123   \n",
       "number_of_open_complaints                       1.000000            0.004098   \n",
       "number_of_policies                              0.004098            1.000000   \n",
       "total_claim_amount                             -0.011379           -0.008923   \n",
       "\n",
       "                               total_claim_amount  \n",
       "customer_lifetime_value                  0.232626  \n",
       "income                                  -0.354141  \n",
       "monthly_premium_auto                     0.631799  \n",
       "months_since_last_claim                  0.013137  \n",
       "months_since_policy_inception            0.003095  \n",
       "number_of_open_complaints               -0.011379  \n",
       "number_of_policies                      -0.008923  \n",
       "total_claim_amount                       1.000000  "
      ]
     },
     "execution_count": 101,
     "metadata": {},
     "output_type": "execute_result"
    }
   ],
   "source": [
    "df_numerical.corr()"
   ]
  },
  {
   "cell_type": "code",
   "execution_count": 102,
   "id": "8712788b",
   "metadata": {},
   "outputs": [
    {
     "data": {
      "text/plain": [
       "<AxesSubplot:>"
      ]
     },
     "execution_count": 102,
     "metadata": {},
     "output_type": "execute_result"
    },
    {
     "data": {
      "image/png": "[encoded data removed]",
      "text/plain": [
       "<Figure size 432x288 with 2 Axes>"
      ]
     },
     "metadata": {
      "needs_background": "light"
     },
     "output_type": "display_data"
    }
   ],
   "source": [
    "sns.heatmap(df_numerical.corr())"
   ]
  },
  {
   "cell_type": "code",
   "execution_count": 103,
   "id": "88fc5117",
   "metadata": {},
   "outputs": [],
   "source": [
    "#vmin, vmax — set the range of values that serve as the basis for the colormap\n",
    "#cmap — sets the specific colormap we want to use (check out the library of a wild range of color palettes here)\n",
    "#center — takes a float to center the colormap; if no cmap specified, will change the colors in the default \n",
    "#         colormap; if set to True — it changes all the colors of the colormap to blues\n",
    "#annot — when set to True, the correlation values become visible on the colored cells\n",
    "#cbar — when set to False, the colorbar (that serves as a legend) disappears"
   ]
  },
  {
   "cell_type": "code",
   "execution_count": 104,
   "id": "ed1a5e07",
   "metadata": {},
   "outputs": [
    {
     "data": {
      "image/png": "[encoded data removed]",
      "text/plain": [
       "<Figure size 1152x432 with 2 Axes>"
      ]
     },
     "metadata": {
      "needs_background": "light"
     },
     "output_type": "display_data"
    }
   ],
   "source": [
    "#Increase the size of the heatmap.\n",
    "plt.figure(figsize = (16, 6))\n",
    "#Store heatmap object in a variable to easily access it when you want to include more features (such as title).\n",
    "#Set the range of values to be displayed on the colormap from -1 to 1, and set the annotation to True \n",
    "#.  to display the correlation values on the heatmap.\n",
    "heatmap = sns.heatmap(df_numerical.corr(), vmin=-1, vmax=1, annot=True)\n",
    "#Give a title to the heatmap. Pad defines the distance of the title from the top of the heatmap.\n",
    "heatmap.set_title('Customer Analysis Insurance Heatmap', fontdict={'fontsize':12}, pad=12);"
   ]
  },
  {
   "cell_type": "code",
   "execution_count": 105,
   "id": "dc60a053",
   "metadata": {},
   "outputs": [
    {
     "data": {
      "text/plain": [
       "<AxesSubplot:>"
      ]
     },
     "execution_count": 105,
     "metadata": {},
     "output_type": "execute_result"
    },
    {
     "data": {
      "image/png": "[encoded data removed]",
      "text/plain": [
       "<Figure size 792x648 with 2 Axes>"
      ]
     },
     "metadata": {},
     "output_type": "display_data"
    }
   ],
   "source": [
    "#sns.heatmap(df_numerical,vmin=0,vmax=1)\n",
    "\n",
    "sns.set_theme(style=\"white\")\n",
    "# Compute the correlation matrix\n",
    "corr = df_numerical.corr()\n",
    "# Generate a mask for the upper triangle\n",
    "mask = np.triu(np.ones_like(corr, dtype=bool))\n",
    "# Set up the matplotlib figure\n",
    "f, ax = plt.subplots(figsize=(11, 9))\n",
    "# Generate a custom diverging colormap\n",
    "cmap = sns.diverging_palette(230, 20, as_cmap=True)\n",
    "# Draw the heatmap with the mask and correct aspect ratio\n",
    "sns.heatmap(corr, mask=mask, cmap=cmap, vmax=.3, center=0,\n",
    "            square=True, linewidths=.5, cbar_kws={\"shrink\": .5})"
   ]
  },
  {
   "cell_type": "code",
   "execution_count": 108,
   "id": "f740ea7d",
   "metadata": {},
   "outputs": [
    {
     "data": {
      "text/html": [
       "<div>\n",
       "<style scoped>\n",
       "    .dataframe tbody tr th:only-of-type {\n",
       "        vertical-align: middle;\n",
       "    }\n",
       "\n",
       "    .dataframe tbody tr th {\n",
       "        vertical-align: top;\n",
       "    }\n",
       "\n",
       "    .dataframe thead th {\n",
       "        text-align: right;\n",
       "    }\n",
       "</style>\n",
       "<table border=\"1\" class=\"dataframe\">\n",
       "  <thead>\n",
       "    <tr style=\"text-align: right;\">\n",
       "      <th></th>\n",
       "      <th>customer_lifetime_value</th>\n",
       "      <th>income</th>\n",
       "      <th>monthly_premium_auto</th>\n",
       "      <th>months_since_last_claim</th>\n",
       "      <th>months_since_policy_inception</th>\n",
       "      <th>number_of_open_complaints</th>\n",
       "      <th>number_of_policies</th>\n",
       "      <th>total_claim_amount</th>\n",
       "    </tr>\n",
       "  </thead>\n",
       "  <tbody>\n",
       "    <tr>\n",
       "      <th>0</th>\n",
       "      <td>4809.216960</td>\n",
       "      <td>48029</td>\n",
       "      <td>61</td>\n",
       "      <td>7.0</td>\n",
       "      <td>52</td>\n",
       "      <td>0.0</td>\n",
       "      <td>9</td>\n",
       "      <td>292.800000</td>\n",
       "    </tr>\n",
       "    <tr>\n",
       "      <th>1</th>\n",
       "      <td>2228.525238</td>\n",
       "      <td>0</td>\n",
       "      <td>64</td>\n",
       "      <td>3.0</td>\n",
       "      <td>26</td>\n",
       "      <td>0.0</td>\n",
       "      <td>1</td>\n",
       "      <td>744.924331</td>\n",
       "    </tr>\n",
       "    <tr>\n",
       "      <th>2</th>\n",
       "      <td>14947.917300</td>\n",
       "      <td>22139</td>\n",
       "      <td>100</td>\n",
       "      <td>34.0</td>\n",
       "      <td>31</td>\n",
       "      <td>0.0</td>\n",
       "      <td>2</td>\n",
       "      <td>480.000000</td>\n",
       "    </tr>\n",
       "    <tr>\n",
       "      <th>3</th>\n",
       "      <td>22332.439460</td>\n",
       "      <td>49078</td>\n",
       "      <td>97</td>\n",
       "      <td>10.0</td>\n",
       "      <td>3</td>\n",
       "      <td>0.0</td>\n",
       "      <td>2</td>\n",
       "      <td>484.013411</td>\n",
       "    </tr>\n",
       "    <tr>\n",
       "      <th>4</th>\n",
       "      <td>9025.067525</td>\n",
       "      <td>23675</td>\n",
       "      <td>117</td>\n",
       "      <td>NaN</td>\n",
       "      <td>31</td>\n",
       "      <td>NaN</td>\n",
       "      <td>7</td>\n",
       "      <td>707.925645</td>\n",
       "    </tr>\n",
       "    <tr>\n",
       "      <th>...</th>\n",
       "      <td>...</td>\n",
       "      <td>...</td>\n",
       "      <td>...</td>\n",
       "      <td>...</td>\n",
       "      <td>...</td>\n",
       "      <td>...</td>\n",
       "      <td>...</td>\n",
       "      <td>...</td>\n",
       "    </tr>\n",
       "    <tr>\n",
       "      <th>10905</th>\n",
       "      <td>15563.369440</td>\n",
       "      <td>0</td>\n",
       "      <td>253</td>\n",
       "      <td>NaN</td>\n",
       "      <td>40</td>\n",
       "      <td>NaN</td>\n",
       "      <td>7</td>\n",
       "      <td>1214.400000</td>\n",
       "    </tr>\n",
       "    <tr>\n",
       "      <th>10906</th>\n",
       "      <td>5259.444853</td>\n",
       "      <td>61146</td>\n",
       "      <td>65</td>\n",
       "      <td>7.0</td>\n",
       "      <td>68</td>\n",
       "      <td>0.0</td>\n",
       "      <td>6</td>\n",
       "      <td>273.018929</td>\n",
       "    </tr>\n",
       "    <tr>\n",
       "      <th>10907</th>\n",
       "      <td>23893.304100</td>\n",
       "      <td>39837</td>\n",
       "      <td>201</td>\n",
       "      <td>11.0</td>\n",
       "      <td>63</td>\n",
       "      <td>0.0</td>\n",
       "      <td>2</td>\n",
       "      <td>381.306996</td>\n",
       "    </tr>\n",
       "    <tr>\n",
       "      <th>10908</th>\n",
       "      <td>11971.977650</td>\n",
       "      <td>64195</td>\n",
       "      <td>158</td>\n",
       "      <td>0.0</td>\n",
       "      <td>27</td>\n",
       "      <td>4.0</td>\n",
       "      <td>6</td>\n",
       "      <td>618.288849</td>\n",
       "    </tr>\n",
       "    <tr>\n",
       "      <th>10909</th>\n",
       "      <td>6857.519928</td>\n",
       "      <td>0</td>\n",
       "      <td>101</td>\n",
       "      <td>31.0</td>\n",
       "      <td>1</td>\n",
       "      <td>0.0</td>\n",
       "      <td>3</td>\n",
       "      <td>1021.719397</td>\n",
       "    </tr>\n",
       "  </tbody>\n",
       "</table>\n",
       "<p>10910 rows × 8 columns</p>\n",
       "</div>"
      ],
      "text/plain": [
       "       customer_lifetime_value  income  monthly_premium_auto  \\\n",
       "0                  4809.216960   48029                    61   \n",
       "1                  2228.525238       0                    64   \n",
       "2                 14947.917300   22139                   100   \n",
       "3                 22332.439460   49078                    97   \n",
       "4                  9025.067525   23675                   117   \n",
       "...                        ...     ...                   ...   \n",
       "10905             15563.369440       0                   253   \n",
       "10906              5259.444853   61146                    65   \n",
       "10907             23893.304100   39837                   201   \n",
       "10908             11971.977650   64195                   158   \n",
       "10909              6857.519928       0                   101   \n",
       "\n",
       "       months_since_last_claim  months_since_policy_inception  \\\n",
       "0                          7.0                             52   \n",
       "1                          3.0                             26   \n",
       "2                         34.0                             31   \n",
       "3                         10.0                              3   \n",
       "4                          NaN                             31   \n",
       "...                        ...                            ...   \n",
       "10905                      NaN                             40   \n",
       "10906                      7.0                             68   \n",
       "10907                     11.0                             63   \n",
       "10908                      0.0                             27   \n",
       "10909                     31.0                              1   \n",
       "\n",
       "       number_of_open_complaints  number_of_policies  total_claim_amount  \n",
       "0                            0.0                   9          292.800000  \n",
       "1                            0.0                   1          744.924331  \n",
       "2                            0.0                   2          480.000000  \n",
       "3                            0.0                   2          484.013411  \n",
       "4                            NaN                   7          707.925645  \n",
       "...                          ...                 ...                 ...  \n",
       "10905                        NaN                   7         1214.400000  \n",
       "10906                        0.0                   6          273.018929  \n",
       "10907                        0.0                   2          381.306996  \n",
       "10908                        4.0                   6          618.288849  \n",
       "10909                        0.0                   3         1021.719397  \n",
       "\n",
       "[10910 rows x 8 columns]"
      ]
     },
     "execution_count": 108,
     "metadata": {},
     "output_type": "execute_result"
    }
   ],
   "source": [
    "df_numerical"
   ]
  },
  {
   "cell_type": "code",
   "execution_count": 113,
   "id": "1b23d6bd",
   "metadata": {},
   "outputs": [
    {
     "data": {
      "image/png": "[encoded data removed]",
      "text/plain": [
       "<Figure size 432x288 with 9 Axes>"
      ]
     },
     "metadata": {},
     "output_type": "display_data"
    }
   ],
   "source": [
    "# visualize a box-cox transform of the sonar dataset\n",
    "#from pandas import read_csv\n",
    "from pandas import DataFrame\n",
    "#from pandas.plotting import scatter_matrix\n",
    "from sklearn.preprocessing import PowerTransformer\n",
    "from sklearn.preprocessing import MinMaxScaler\n",
    "from sklearn.pipeline import Pipeline\n",
    "from matplotlib import pyplot\n",
    "\n",
    "# Load dataset\n",
    "#url = \"https://raw.githubusercontent.com/jbrownlee/Datasets/master/sonar.csv\"\n",
    "#dataset = read_csv(url, header=None)\n",
    "\n",
    "# retrieve just the numeric input values\n",
    "#data = df_numerical.values[:, :]\n",
    "\n",
    "# perform a box-cox transform of the dataset\n",
    "scaler = MinMaxScaler(feature_range=(1, 2))\n",
    "power = PowerTransformer(method='box-cox')\n",
    "pipeline = Pipeline(steps=[('s', scaler),('p', power)])\n",
    "df_numerical = pipeline.fit_transform(df_numerical)\n",
    "\n",
    "# convert the array back to a dataframe\n",
    "dataset = DataFrame(df_numerical)\n",
    "\n",
    "# histograms of the variables\n",
    "dataset.hist()\n",
    "pyplot.show()"
   ]
  },
  {
   "cell_type": "markdown",
   "id": "e690bc2b",
   "metadata": {},
   "source": [
    "- Bonus: split Data set into train and test sets"
   ]
  },
  {
   "cell_type": "code",
   "execution_count": 114,
   "id": "1527780e",
   "metadata": {},
   "outputs": [],
   "source": [
    "from sklearn.model_selection import train_test_split\n",
    "\n",
    "train, test = train_test_split(df_customer, test_size = 0.2)"
   ]
  },
  {
   "cell_type": "code",
   "execution_count": 115,
   "id": "7140c3d2",
   "metadata": {},
   "outputs": [
    {
     "data": {
      "text/plain": [
       "8728"
      ]
     },
     "execution_count": 115,
     "metadata": {},
     "output_type": "execute_result"
    }
   ],
   "source": [
    "len(train)"
   ]
  },
  {
   "cell_type": "code",
   "execution_count": 116,
   "id": "081ff4a7",
   "metadata": {},
   "outputs": [
    {
     "data": {
      "text/plain": [
       "2182"
      ]
     },
     "execution_count": 116,
     "metadata": {},
     "output_type": "execute_result"
    }
   ],
   "source": [
    "len(test)"
   ]
  },
  {
   "cell_type": "markdown",
   "id": "bd981639",
   "metadata": {},
   "source": [
    "Datetime format - Extract the months from the dataset and store in a separate column. Then filter the data to show only the information for the first quarter , ie. January, February and March. Hint: If data from March does not exist, consider only January and February."
   ]
  },
  {
   "cell_type": "markdown",
   "id": "e2e8401f",
   "metadata": {},
   "source": [
    "### Activity 4\n",
    "- Show a plot of the total number of responses.\n",
    "- Show a plot of the response rate by the sales channel.\n",
    "- Show a plot of the response rate by the total claim amount.\n",
    "- Show a plot of the response rate by income.\n",
    "- Don't Limit your creativity! plot Any interesting findings/insights that describe some interesting facts about your data set and its variables. Use the relevant plotting when you feel it is needed.\n",
    "- Plot the Correlation Heatmap.\n",
    "- Clean your notebook and make it a readible and presentable with a good documentation that summarizes the Data Cleaning, Exploration(including plots) Steps that you have performed."
   ]
  },
  {
   "cell_type": "code",
   "execution_count": 13,
   "id": "ecf99872",
   "metadata": {},
   "outputs": [],
   "source": [
    "# Adding a column['response_num'] to the original data source (df_cust), ['response_num'] holds 1 if response 'Yes'\n",
    "# and 0 if response 'No'. With ['response_num'] we can calculate, e. g. the rate of a positive response.\n",
    "# Problem with approach is, that the NaN are set 0, it would be better to filter them out.\n",
    "def num(i):\n",
    "    # checking for NaN. If x is NaN, return i\n",
    "    if not i==i:\n",
    "        return 0\n",
    "    else:\n",
    "        dct_ = {'Yes':1,\n",
    "                'No':0,\n",
    "               }\n",
    "        return dct_[i]\n",
    "\n",
    "df_cust['response_num'] = df_cust['response'].apply(num)"
   ]
  },
  {
   "cell_type": "code",
   "execution_count": 14,
   "id": "a2ea9e7a",
   "metadata": {},
   "outputs": [
    {
     "name": "stdout",
     "output_type": "stream",
     "text": [
      "Index(['No', 'Yes'], dtype='object')\n",
      "No     8813\n",
      "Yes    1466\n",
      "Name: response, dtype: int64\n"
     ]
    },
    {
     "data": {
      "text/plain": [
       "<AxesSubplot:>"
      ]
     },
     "execution_count": 14,
     "metadata": {},
     "output_type": "execute_result"
    },
    {
     "data": {
      "image/png": "[encoded data removed]",
      "text/plain": [
       "<Figure size 432x288 with 1 Axes>"
      ]
     },
     "metadata": {
      "needs_background": "light"
     },
     "output_type": "display_data"
    }
   ],
   "source": [
    "# Testing with a histogram the distribution of ['response']\n",
    "response = df_cust['response'].value_counts()\n",
    "print(response.index)\n",
    "print(response)\n",
    "df_cust['response'].hist()"
   ]
  },
  {
   "cell_type": "code",
   "execution_count": 28,
   "id": "9ebf283d",
   "metadata": {},
   "outputs": [
    {
     "data": {
      "text/plain": [
       "count    10910.000000\n",
       "mean       434.888330\n",
       "std        292.180556\n",
       "min          0.099007\n",
       "25%        271.082527\n",
       "50%        382.564630\n",
       "75%        547.200000\n",
       "max       2893.239678\n",
       "Name: total_claim_amount, dtype: float64"
      ]
     },
     "execution_count": 28,
     "metadata": {},
     "output_type": "execute_result"
    }
   ],
   "source": [
    "df_cust['total_claim_amount'].describe()"
   ]
  },
  {
   "cell_type": "code",
   "execution_count": 15,
   "id": "10a6d9b2",
   "metadata": {},
   "outputs": [
    {
     "data": {
      "text/plain": [
       "<AxesSubplot:title={'center':'Bar total number of responses'}, ylabel='response'>"
      ]
     },
     "execution_count": 15,
     "metadata": {},
     "output_type": "execute_result"
    },
    {
     "data": {
      "image/png": "[encoded data removed]",
      "text/plain": [
       "<Figure size 432x288 with 1 Axes>"
      ]
     },
     "metadata": {
      "needs_background": "light"
     },
     "output_type": "display_data"
    }
   ],
   "source": [
    "# Histogram counting the 'No' and 'Yes' responses. Create figure and axes: subplots()\n",
    "fig1, ax1 = plt.subplots()\n",
    "# set title: set_title()\n",
    "ax1.set_title(\"Bar total number of responses\")\n",
    "df_cust['response'].index\n",
    "# plot the bar chart: bar()\n",
    "sns.barplot(x=response.index ,y =response)"
   ]
  },
  {
   "cell_type": "code",
   "execution_count": 16,
   "id": "662f4868",
   "metadata": {},
   "outputs": [
    {
     "data": {
      "text/html": [
       "<div>\n",
       "<style scoped>\n",
       "    .dataframe tbody tr th:only-of-type {\n",
       "        vertical-align: middle;\n",
       "    }\n",
       "\n",
       "    .dataframe tbody tr th {\n",
       "        vertical-align: top;\n",
       "    }\n",
       "\n",
       "    .dataframe thead th {\n",
       "        text-align: right;\n",
       "    }\n",
       "</style>\n",
       "<table border=\"1\" class=\"dataframe\">\n",
       "  <thead>\n",
       "    <tr style=\"text-align: right;\">\n",
       "      <th></th>\n",
       "      <th>response</th>\n",
       "      <th>response_num</th>\n",
       "      <th>sales_channel</th>\n",
       "    </tr>\n",
       "  </thead>\n",
       "  <tbody>\n",
       "    <tr>\n",
       "      <th>0</th>\n",
       "      <td>No</td>\n",
       "      <td>0</td>\n",
       "      <td>Agent</td>\n",
       "    </tr>\n",
       "    <tr>\n",
       "      <th>1</th>\n",
       "      <td>No</td>\n",
       "      <td>0</td>\n",
       "      <td>Call Center</td>\n",
       "    </tr>\n",
       "    <tr>\n",
       "      <th>2</th>\n",
       "      <td>No</td>\n",
       "      <td>0</td>\n",
       "      <td>Call Center</td>\n",
       "    </tr>\n",
       "    <tr>\n",
       "      <th>3</th>\n",
       "      <td>Yes</td>\n",
       "      <td>1</td>\n",
       "      <td>Branch</td>\n",
       "    </tr>\n",
       "    <tr>\n",
       "      <th>4</th>\n",
       "      <td>No</td>\n",
       "      <td>0</td>\n",
       "      <td>Branch</td>\n",
       "    </tr>\n",
       "    <tr>\n",
       "      <th>...</th>\n",
       "      <td>...</td>\n",
       "      <td>...</td>\n",
       "      <td>...</td>\n",
       "    </tr>\n",
       "    <tr>\n",
       "      <th>10904</th>\n",
       "      <td>No</td>\n",
       "      <td>0</td>\n",
       "      <td>Branch</td>\n",
       "    </tr>\n",
       "    <tr>\n",
       "      <th>10905</th>\n",
       "      <td>No</td>\n",
       "      <td>0</td>\n",
       "      <td>Web</td>\n",
       "    </tr>\n",
       "    <tr>\n",
       "      <th>10906</th>\n",
       "      <td>No</td>\n",
       "      <td>0</td>\n",
       "      <td>Branch</td>\n",
       "    </tr>\n",
       "    <tr>\n",
       "      <th>10907</th>\n",
       "      <td>No</td>\n",
       "      <td>0</td>\n",
       "      <td>Web</td>\n",
       "    </tr>\n",
       "    <tr>\n",
       "      <th>10908</th>\n",
       "      <td>No</td>\n",
       "      <td>0</td>\n",
       "      <td>Branch</td>\n",
       "    </tr>\n",
       "  </tbody>\n",
       "</table>\n",
       "<p>10279 rows × 3 columns</p>\n",
       "</div>"
      ],
      "text/plain": [
       "      response  response_num sales_channel\n",
       "0           No             0         Agent\n",
       "1           No             0   Call Center\n",
       "2           No             0   Call Center\n",
       "3          Yes             1        Branch\n",
       "4           No             0        Branch\n",
       "...        ...           ...           ...\n",
       "10904       No             0        Branch\n",
       "10905       No             0           Web\n",
       "10906       No             0        Branch\n",
       "10907       No             0           Web\n",
       "10908       No             0        Branch\n",
       "\n",
       "[10279 rows x 3 columns]"
      ]
     },
     "execution_count": 16,
     "metadata": {},
     "output_type": "execute_result"
    }
   ],
   "source": [
    "# Filter source data table (df_cust['response']) to 'Yes' | 'No' - maybe filter helps us with pos. response rate.\n",
    "# To get rid of NaN values for calculating later the total response numbers per sales_channel.\n",
    "# df[(df[py-score] >= 80) & (df[js-score] >= 80)]\n",
    "df_yes_no_resp = df_cust[(df_cust['response'] == 'Yes') | (df_cust['response'] == 'No')]\n",
    "df_yes_no_resp = df_yes_no_resp[['response', 'response_num', 'sales_channel']]\n",
    "df_yes_no_resp"
   ]
  },
  {
   "cell_type": "code",
   "execution_count": 17,
   "id": "2ab391ee",
   "metadata": {},
   "outputs": [
    {
     "data": {
      "text/html": [
       "<div>\n",
       "<style scoped>\n",
       "    .dataframe tbody tr th:only-of-type {\n",
       "        vertical-align: middle;\n",
       "    }\n",
       "\n",
       "    .dataframe tbody tr th {\n",
       "        vertical-align: top;\n",
       "    }\n",
       "\n",
       "    .dataframe thead th {\n",
       "        text-align: right;\n",
       "    }\n",
       "</style>\n",
       "<table border=\"1\" class=\"dataframe\">\n",
       "  <thead>\n",
       "    <tr style=\"text-align: right;\">\n",
       "      <th></th>\n",
       "      <th>sales_channel</th>\n",
       "      <th>response</th>\n",
       "      <th>response_num</th>\n",
       "    </tr>\n",
       "  </thead>\n",
       "  <tbody>\n",
       "    <tr>\n",
       "      <th>0</th>\n",
       "      <td>Agent</td>\n",
       "      <td>No</td>\n",
       "      <td>3148</td>\n",
       "    </tr>\n",
       "    <tr>\n",
       "      <th>1</th>\n",
       "      <td>Agent</td>\n",
       "      <td>Yes</td>\n",
       "      <td>742</td>\n",
       "    </tr>\n",
       "    <tr>\n",
       "      <th>2</th>\n",
       "      <td>Branch</td>\n",
       "      <td>No</td>\n",
       "      <td>2539</td>\n",
       "    </tr>\n",
       "    <tr>\n",
       "      <th>3</th>\n",
       "      <td>Branch</td>\n",
       "      <td>Yes</td>\n",
       "      <td>326</td>\n",
       "    </tr>\n",
       "    <tr>\n",
       "      <th>4</th>\n",
       "      <td>Call Center</td>\n",
       "      <td>No</td>\n",
       "      <td>1792</td>\n",
       "    </tr>\n",
       "    <tr>\n",
       "      <th>5</th>\n",
       "      <td>Call Center</td>\n",
       "      <td>Yes</td>\n",
       "      <td>221</td>\n",
       "    </tr>\n",
       "    <tr>\n",
       "      <th>6</th>\n",
       "      <td>Web</td>\n",
       "      <td>No</td>\n",
       "      <td>1334</td>\n",
       "    </tr>\n",
       "    <tr>\n",
       "      <th>7</th>\n",
       "      <td>Web</td>\n",
       "      <td>Yes</td>\n",
       "      <td>177</td>\n",
       "    </tr>\n",
       "  </tbody>\n",
       "</table>\n",
       "</div>"
      ],
      "text/plain": [
       "  sales_channel response  response_num\n",
       "0         Agent       No          3148\n",
       "1         Agent      Yes           742\n",
       "2        Branch       No          2539\n",
       "3        Branch      Yes           326\n",
       "4   Call Center       No          1792\n",
       "5   Call Center      Yes           221\n",
       "6           Web       No          1334\n",
       "7           Web      Yes           177"
      ]
     },
     "execution_count": 17,
     "metadata": {},
     "output_type": "execute_result"
    }
   ],
   "source": [
    "#Group by sales channel, first groupby sales_channel & count responses per sales channel df[df[\"class\"]==1].count()\n",
    "#df[(df[py-score] >= 80) & (df[js-score] >= 80)]\n",
    "#[df_cust[df_cust['response']=='Yes']].count()\n",
    "df_group_channel = df_cust.groupby(['sales_channel', 'response'])['response_num'].count().reset_index()\n",
    "df_group_channel"
   ]
  },
  {
   "cell_type": "code",
   "execution_count": 18,
   "id": "76b0e5b3",
   "metadata": {},
   "outputs": [],
   "source": [
    "#Define colors for chart\n",
    "sns.set_palette('RdYlGn')\n",
    "palette_resp = {\"Yes\": \"C5\", \"No\": \"C0\"}"
   ]
  },
  {
   "cell_type": "code",
   "execution_count": 19,
   "id": "deec7ba4",
   "metadata": {},
   "outputs": [
    {
     "data": {
      "text/plain": [
       "<AxesSubplot:title={'center':'Responses per sales channel'}, xlabel='sales_channel', ylabel='response_num'>"
      ]
     },
     "execution_count": 19,
     "metadata": {},
     "output_type": "execute_result"
    },
    {
     "data": {
      "image/png": "[encoded data removed]",
      "text/plain": [
       "<Figure size 432x288 with 1 Axes>"
      ]
     },
     "metadata": {
      "needs_background": "light"
     },
     "output_type": "display_data"
    }
   ],
   "source": [
    "#Chart number of responses (Yes / No) per Sales Channel\n",
    "# Start with matplotlib subplots()\n",
    "fig_resp, ax_resp = plt.subplots()\n",
    "# set the title using: set_title()\n",
    "ax_resp.set_title(\"Responses per sales channel\")\n",
    "\n",
    "# uses seaborn barplot(x, y, hue = , palette = ) function\n",
    "sns.barplot(x = df_group_channel['sales_channel'], y = df_group_channel['response_num'], hue = df_group_channel['response'], palette=palette_resp)"
   ]
  },
  {
   "cell_type": "code",
   "execution_count": 20,
   "id": "8c030894",
   "metadata": {},
   "outputs": [
    {
     "data": {
      "text/html": [
       "<div>\n",
       "<style scoped>\n",
       "    .dataframe tbody tr th:only-of-type {\n",
       "        vertical-align: middle;\n",
       "    }\n",
       "\n",
       "    .dataframe tbody tr th {\n",
       "        vertical-align: top;\n",
       "    }\n",
       "\n",
       "    .dataframe thead th {\n",
       "        text-align: right;\n",
       "    }\n",
       "</style>\n",
       "<table border=\"1\" class=\"dataframe\">\n",
       "  <thead>\n",
       "    <tr style=\"text-align: right;\">\n",
       "      <th></th>\n",
       "      <th>sales_channel</th>\n",
       "      <th>response_num</th>\n",
       "    </tr>\n",
       "  </thead>\n",
       "  <tbody>\n",
       "    <tr>\n",
       "      <th>0</th>\n",
       "      <td>Agent</td>\n",
       "      <td>3890</td>\n",
       "    </tr>\n",
       "    <tr>\n",
       "      <th>1</th>\n",
       "      <td>Branch</td>\n",
       "      <td>2865</td>\n",
       "    </tr>\n",
       "    <tr>\n",
       "      <th>2</th>\n",
       "      <td>Call Center</td>\n",
       "      <td>2013</td>\n",
       "    </tr>\n",
       "    <tr>\n",
       "      <th>3</th>\n",
       "      <td>Web</td>\n",
       "      <td>1511</td>\n",
       "    </tr>\n",
       "  </tbody>\n",
       "</table>\n",
       "</div>"
      ],
      "text/plain": [
       "  sales_channel  response_num\n",
       "0         Agent          3890\n",
       "1        Branch          2865\n",
       "2   Call Center          2013\n",
       "3           Web          1511"
      ]
     },
     "execution_count": 20,
     "metadata": {},
     "output_type": "execute_result"
    }
   ],
   "source": [
    "# Question: how can I get a SumIf, CountIf?? (df.map(lambda x: condition)\n",
    "# With SumIf, CountIf the response rate could be calculated while ignoring the NaN for ['response'].\n",
    "# To solve the problem a filtered df (df_yes_no_resp) is used to count valid responses per sales_channel.\n",
    "df_group_channel_calc = df_yes_no_resp.groupby(['sales_channel',])['response_num'].count().reset_index()\n",
    "df_group_channel_calc"
   ]
  },
  {
   "cell_type": "code",
   "execution_count": 21,
   "id": "5dba41f2",
   "metadata": {},
   "outputs": [
    {
     "data": {
      "text/html": [
       "<div>\n",
       "<style scoped>\n",
       "    .dataframe tbody tr th:only-of-type {\n",
       "        vertical-align: middle;\n",
       "    }\n",
       "\n",
       "    .dataframe tbody tr th {\n",
       "        vertical-align: top;\n",
       "    }\n",
       "\n",
       "    .dataframe thead th {\n",
       "        text-align: right;\n",
       "    }\n",
       "</style>\n",
       "<table border=\"1\" class=\"dataframe\">\n",
       "  <thead>\n",
       "    <tr style=\"text-align: right;\">\n",
       "      <th></th>\n",
       "      <th>sales_channel</th>\n",
       "      <th>response_num</th>\n",
       "      <th>response_rate</th>\n",
       "      <th>total_resp</th>\n",
       "    </tr>\n",
       "  </thead>\n",
       "  <tbody>\n",
       "    <tr>\n",
       "      <th>0</th>\n",
       "      <td>Agent</td>\n",
       "      <td>742</td>\n",
       "      <td>0.190746</td>\n",
       "      <td>3890</td>\n",
       "    </tr>\n",
       "    <tr>\n",
       "      <th>1</th>\n",
       "      <td>Branch</td>\n",
       "      <td>326</td>\n",
       "      <td>0.113787</td>\n",
       "      <td>2865</td>\n",
       "    </tr>\n",
       "    <tr>\n",
       "      <th>2</th>\n",
       "      <td>Call Center</td>\n",
       "      <td>221</td>\n",
       "      <td>0.109786</td>\n",
       "      <td>2013</td>\n",
       "    </tr>\n",
       "    <tr>\n",
       "      <th>3</th>\n",
       "      <td>Web</td>\n",
       "      <td>177</td>\n",
       "      <td>0.117141</td>\n",
       "      <td>1511</td>\n",
       "    </tr>\n",
       "  </tbody>\n",
       "</table>\n",
       "</div>"
      ],
      "text/plain": [
       "  sales_channel  response_num  response_rate  total_resp\n",
       "0         Agent           742       0.190746        3890\n",
       "1        Branch           326       0.113787        2865\n",
       "2   Call Center           221       0.109786        2013\n",
       "3           Web           177       0.117141        1511"
      ]
     },
     "execution_count": 21,
     "metadata": {},
     "output_type": "execute_result"
    }
   ],
   "source": [
    "# Calculate pos. response rates (Yes) per sales channel\n",
    "# df[cols] = df[cols].div(df[cols].sum(axis=1), axis=0).multiply(100)\n",
    "df_group_channel2 = df_cust.groupby(['sales_channel'])['response_num'].sum().reset_index()\n",
    "df_group_channel2['response_rate'] = df_group_channel2['response_num'].div(df_group_channel_calc['response_num'], axis=0)\n",
    "# Adding total number of resp. ['total_resp'] to df_group_channel2\n",
    "df_group_channel2['total_resp'] = df_group_channel_calc['response_num']\n",
    "df_group_channel2"
   ]
  },
  {
   "cell_type": "code",
   "execution_count": 22,
   "id": "40b034cd",
   "metadata": {},
   "outputs": [
    {
     "data": {
      "text/plain": [
       "0    0.190746\n",
       "1    0.113787\n",
       "2    0.109786\n",
       "3    0.117141\n",
       "Name: response_num, dtype: float64"
      ]
     },
     "execution_count": 22,
     "metadata": {},
     "output_type": "execute_result"
    }
   ],
   "source": [
    "df_ = df_group_channel2['response_num'].div(df_group_channel_calc['response_num'], axis=0)\n",
    "df_"
   ]
  },
  {
   "cell_type": "code",
   "execution_count": 23,
   "id": "efaab01e",
   "metadata": {},
   "outputs": [
    {
     "data": {
      "text/plain": [
       "<AxesSubplot:title={'center':'Positive response rate per sales channel'}, xlabel='sales_channel', ylabel='response_rate'>"
      ]
     },
     "execution_count": 23,
     "metadata": {},
     "output_type": "execute_result"
    },
    {
     "data": {
      "image/png": "[encoded data removed]",
      "text/plain": [
       "<Figure size 432x288 with 1 Axes>"
      ]
     },
     "metadata": {
      "needs_background": "light"
     },
     "output_type": "display_data"
    }
   ],
   "source": [
    "# Chart showing the pos. response rate per sales_channel - stacked bar chart would be better\n",
    "fig_resp, ax_resp = plt.subplots()\n",
    "# set the title using: set_title()\n",
    "ax_resp.set_title(\"Positive response rate per sales channel\")\n",
    "\n",
    "# uses seaborn barplot(x, y, hue = , palette = ) function\n",
    "sns.barplot(x = df_group_channel2['sales_channel'], y = df_group_channel2['response_rate'])"
   ]
  },
  {
   "cell_type": "code",
   "execution_count": 25,
   "id": "28be68af",
   "metadata": {},
   "outputs": [
    {
     "name": "stdout",
     "output_type": "stream",
     "text": [
      "0          Agent\n",
      "1          Agent\n",
      "2         Branch\n",
      "3         Branch\n",
      "4    Call Center\n",
      "5    Call Center\n",
      "6            Web\n",
      "7            Web\n",
      "Name: sales_channel, dtype: object\n"
     ]
    }
   ],
   "source": [
    "print(df_group_channel['sales_channel'])"
   ]
  },
  {
   "cell_type": "code",
   "execution_count": 24,
   "id": "19de2b72",
   "metadata": {},
   "outputs": [
    {
     "ename": "TypeError",
     "evalue": "Neither the `x` nor `y` variable appears to be numeric.",
     "output_type": "error",
     "traceback": [
      "\u001b[0;31m---------------------------------------------------------------------------\u001b[0m",
      "\u001b[0;31mTypeError\u001b[0m                                 Traceback (most recent call last)",
      "\u001b[0;32m<ipython-input-24-f231570140e4>\u001b[0m in \u001b[0;36m<module>\u001b[0;34m\u001b[0m\n\u001b[1;32m      6\u001b[0m \u001b[0max2\u001b[0m\u001b[0;34m.\u001b[0m\u001b[0mset_title\u001b[0m\u001b[0;34m(\u001b[0m\u001b[0;34m\"Plot by sales channel\"\u001b[0m\u001b[0;34m)\u001b[0m\u001b[0;34m\u001b[0m\u001b[0;34m\u001b[0m\u001b[0m\n\u001b[1;32m      7\u001b[0m \u001b[0;31m# use of seaborn for barplot(x, y, hue = , palette = ) function\u001b[0m\u001b[0;34m\u001b[0m\u001b[0;34m\u001b[0m\u001b[0;34m\u001b[0m\u001b[0m\n\u001b[0;32m----> 8\u001b[0;31m \u001b[0msns\u001b[0m\u001b[0;34m.\u001b[0m\u001b[0mbarplot\u001b[0m\u001b[0;34m(\u001b[0m\u001b[0mx\u001b[0m \u001b[0;34m=\u001b[0m \u001b[0mdf_group_channel\u001b[0m\u001b[0;34m[\u001b[0m\u001b[0;34m'sales_channel'\u001b[0m\u001b[0;34m]\u001b[0m\u001b[0;34m,\u001b[0m \u001b[0my\u001b[0m \u001b[0;34m=\u001b[0m \u001b[0mdf_group_channel\u001b[0m\u001b[0;34m[\u001b[0m\u001b[0;34m'response'\u001b[0m\u001b[0;34m]\u001b[0m\u001b[0;34m)\u001b[0m\u001b[0;34m\u001b[0m\u001b[0;34m\u001b[0m\u001b[0m\n\u001b[0m",
      "\u001b[0;32m~/opt/anaconda3/envs/DA_Env/lib/python3.9/site-packages/seaborn/_decorators.py\u001b[0m in \u001b[0;36minner_f\u001b[0;34m(*args, **kwargs)\u001b[0m\n\u001b[1;32m     44\u001b[0m             )\n\u001b[1;32m     45\u001b[0m         \u001b[0mkwargs\u001b[0m\u001b[0;34m.\u001b[0m\u001b[0mupdate\u001b[0m\u001b[0;34m(\u001b[0m\u001b[0;34m{\u001b[0m\u001b[0mk\u001b[0m\u001b[0;34m:\u001b[0m \u001b[0marg\u001b[0m \u001b[0;32mfor\u001b[0m \u001b[0mk\u001b[0m\u001b[0;34m,\u001b[0m \u001b[0marg\u001b[0m \u001b[0;32min\u001b[0m \u001b[0mzip\u001b[0m\u001b[0;34m(\u001b[0m\u001b[0msig\u001b[0m\u001b[0;34m.\u001b[0m\u001b[0mparameters\u001b[0m\u001b[0;34m,\u001b[0m \u001b[0margs\u001b[0m\u001b[0;34m)\u001b[0m\u001b[0;34m}\u001b[0m\u001b[0;34m)\u001b[0m\u001b[0;34m\u001b[0m\u001b[0;34m\u001b[0m\u001b[0m\n\u001b[0;32m---> 46\u001b[0;31m         \u001b[0;32mreturn\u001b[0m \u001b[0mf\u001b[0m\u001b[0;34m(\u001b[0m\u001b[0;34m**\u001b[0m\u001b[0mkwargs\u001b[0m\u001b[0;34m)\u001b[0m\u001b[0;34m\u001b[0m\u001b[0;34m\u001b[0m\u001b[0m\n\u001b[0m\u001b[1;32m     47\u001b[0m     \u001b[0;32mreturn\u001b[0m \u001b[0minner_f\u001b[0m\u001b[0;34m\u001b[0m\u001b[0;34m\u001b[0m\u001b[0m\n\u001b[1;32m     48\u001b[0m \u001b[0;34m\u001b[0m\u001b[0m\n",
      "\u001b[0;32m~/opt/anaconda3/envs/DA_Env/lib/python3.9/site-packages/seaborn/categorical.py\u001b[0m in \u001b[0;36mbarplot\u001b[0;34m(x, y, hue, data, order, hue_order, estimator, ci, n_boot, units, seed, orient, color, palette, saturation, errcolor, errwidth, capsize, dodge, ax, **kwargs)\u001b[0m\n\u001b[1;32m   3177\u001b[0m ):\n\u001b[1;32m   3178\u001b[0m \u001b[0;34m\u001b[0m\u001b[0m\n\u001b[0;32m-> 3179\u001b[0;31m     plotter = _BarPlotter(x, y, hue, data, order, hue_order,\n\u001b[0m\u001b[1;32m   3180\u001b[0m                           \u001b[0mestimator\u001b[0m\u001b[0;34m,\u001b[0m \u001b[0mci\u001b[0m\u001b[0;34m,\u001b[0m \u001b[0mn_boot\u001b[0m\u001b[0;34m,\u001b[0m \u001b[0munits\u001b[0m\u001b[0;34m,\u001b[0m \u001b[0mseed\u001b[0m\u001b[0;34m,\u001b[0m\u001b[0;34m\u001b[0m\u001b[0;34m\u001b[0m\u001b[0m\n\u001b[1;32m   3181\u001b[0m                           \u001b[0morient\u001b[0m\u001b[0;34m,\u001b[0m \u001b[0mcolor\u001b[0m\u001b[0;34m,\u001b[0m \u001b[0mpalette\u001b[0m\u001b[0;34m,\u001b[0m \u001b[0msaturation\u001b[0m\u001b[0;34m,\u001b[0m\u001b[0;34m\u001b[0m\u001b[0;34m\u001b[0m\u001b[0m\n",
      "\u001b[0;32m~/opt/anaconda3/envs/DA_Env/lib/python3.9/site-packages/seaborn/categorical.py\u001b[0m in \u001b[0;36m__init__\u001b[0;34m(self, x, y, hue, data, order, hue_order, estimator, ci, n_boot, units, seed, orient, color, palette, saturation, errcolor, errwidth, capsize, dodge)\u001b[0m\n\u001b[1;32m   1582\u001b[0m                  errwidth, capsize, dodge):\n\u001b[1;32m   1583\u001b[0m         \u001b[0;34m\"\"\"Initialize the plotter.\"\"\"\u001b[0m\u001b[0;34m\u001b[0m\u001b[0;34m\u001b[0m\u001b[0m\n\u001b[0;32m-> 1584\u001b[0;31m         self.establish_variables(x, y, hue, data, orient,\n\u001b[0m\u001b[1;32m   1585\u001b[0m                                  order, hue_order, units)\n\u001b[1;32m   1586\u001b[0m         \u001b[0mself\u001b[0m\u001b[0;34m.\u001b[0m\u001b[0mestablish_colors\u001b[0m\u001b[0;34m(\u001b[0m\u001b[0mcolor\u001b[0m\u001b[0;34m,\u001b[0m \u001b[0mpalette\u001b[0m\u001b[0;34m,\u001b[0m \u001b[0msaturation\u001b[0m\u001b[0;34m)\u001b[0m\u001b[0;34m\u001b[0m\u001b[0;34m\u001b[0m\u001b[0m\n",
      "\u001b[0;32m~/opt/anaconda3/envs/DA_Env/lib/python3.9/site-packages/seaborn/categorical.py\u001b[0m in \u001b[0;36mestablish_variables\u001b[0;34m(self, x, y, hue, data, orient, order, hue_order, units)\u001b[0m\n\u001b[1;32m    154\u001b[0m \u001b[0;34m\u001b[0m\u001b[0m\n\u001b[1;32m    155\u001b[0m             \u001b[0;31m# Figure out the plotting orientation\u001b[0m\u001b[0;34m\u001b[0m\u001b[0;34m\u001b[0m\u001b[0;34m\u001b[0m\u001b[0m\n\u001b[0;32m--> 156\u001b[0;31m             orient = infer_orient(\n\u001b[0m\u001b[1;32m    157\u001b[0m                 \u001b[0mx\u001b[0m\u001b[0;34m,\u001b[0m \u001b[0my\u001b[0m\u001b[0;34m,\u001b[0m \u001b[0morient\u001b[0m\u001b[0;34m,\u001b[0m \u001b[0mrequire_numeric\u001b[0m\u001b[0;34m=\u001b[0m\u001b[0mself\u001b[0m\u001b[0;34m.\u001b[0m\u001b[0mrequire_numeric\u001b[0m\u001b[0;34m\u001b[0m\u001b[0;34m\u001b[0m\u001b[0m\n\u001b[1;32m    158\u001b[0m             )\n",
      "\u001b[0;32m~/opt/anaconda3/envs/DA_Env/lib/python3.9/site-packages/seaborn/_core.py\u001b[0m in \u001b[0;36minfer_orient\u001b[0;34m(x, y, orient, require_numeric)\u001b[0m\n\u001b[1;32m   1343\u001b[0m     \u001b[0;32melif\u001b[0m \u001b[0mrequire_numeric\u001b[0m \u001b[0;32mand\u001b[0m \u001b[0;34m\"numeric\"\u001b[0m \u001b[0;32mnot\u001b[0m \u001b[0;32min\u001b[0m \u001b[0;34m(\u001b[0m\u001b[0mx_type\u001b[0m\u001b[0;34m,\u001b[0m \u001b[0my_type\u001b[0m\u001b[0;34m)\u001b[0m\u001b[0;34m:\u001b[0m\u001b[0;34m\u001b[0m\u001b[0;34m\u001b[0m\u001b[0m\n\u001b[1;32m   1344\u001b[0m         \u001b[0merr\u001b[0m \u001b[0;34m=\u001b[0m \u001b[0;34m\"Neither the `x` nor `y` variable appears to be numeric.\"\u001b[0m\u001b[0;34m\u001b[0m\u001b[0;34m\u001b[0m\u001b[0m\n\u001b[0;32m-> 1345\u001b[0;31m         \u001b[0;32mraise\u001b[0m \u001b[0mTypeError\u001b[0m\u001b[0;34m(\u001b[0m\u001b[0merr\u001b[0m\u001b[0;34m)\u001b[0m\u001b[0;34m\u001b[0m\u001b[0;34m\u001b[0m\u001b[0m\n\u001b[0m\u001b[1;32m   1346\u001b[0m \u001b[0;34m\u001b[0m\u001b[0m\n\u001b[1;32m   1347\u001b[0m     \u001b[0;32melse\u001b[0m\u001b[0;34m:\u001b[0m\u001b[0;34m\u001b[0m\u001b[0;34m\u001b[0m\u001b[0m\n",
      "\u001b[0;31mTypeError\u001b[0m: Neither the `x` nor `y` variable appears to be numeric."
     ]
    },
    {
     "data": {
      "image/png": "[encoded data removed]",
      "text/plain": [
       "<Figure size 432x288 with 1 Axes>"
      ]
     },
     "metadata": {
      "needs_background": "light"
     },
     "output_type": "display_data"
    }
   ],
   "source": [
    "sns.set_palette('RdYlGn')\n",
    "palette_sales = {\"yes\": \"C5\", \"no\": \"C0\"}\n",
    "# matplotlib subplots() function\n",
    "fig2, ax2 = plt.subplots()\n",
    "# set the title using: set_title()\n",
    "ax2.set_title(\"Plot by sales channel\")\n",
    "# use of seaborn for barplot(x, y, hue = , palette = ) function\n",
    "sns.barplot(x = df_group_channel['sales_channel'], y = df_group_channel['response'])"
   ]
  },
  {
   "cell_type": "code",
   "execution_count": 69,
   "id": "dbc16537",
   "metadata": {},
   "outputs": [
    {
     "data": {
      "text/plain": [
       "count    10910.000000\n",
       "mean       434.888330\n",
       "std        292.180556\n",
       "min          0.099007\n",
       "25%        271.082527\n",
       "50%        382.564630\n",
       "75%        547.200000\n",
       "max       2893.239678\n",
       "Name: total_claim_amount, dtype: float64"
      ]
     },
     "execution_count": 69,
     "metadata": {},
     "output_type": "execute_result"
    }
   ],
   "source": [
    "df_cust['total_claim_amount'].describe()"
   ]
  },
  {
   "cell_type": "code",
   "execution_count": 46,
   "id": "65c6fa4e",
   "metadata": {},
   "outputs": [
    {
     "ename": "ValueError",
     "evalue": "could not convert string to float: 'midwest'",
     "output_type": "error",
     "traceback": [
      "\u001b[0;31m---------------------------------------------------------------------------\u001b[0m",
      "\u001b[0;31mValueError\u001b[0m                                Traceback (most recent call last)",
      "\u001b[0;32m<ipython-input-46-6949099e8b2c>\u001b[0m in \u001b[0;36m<module>\u001b[0;34m\u001b[0m\n\u001b[0;32m----> 1\u001b[0;31m \u001b[0msns\u001b[0m\u001b[0;34m.\u001b[0m\u001b[0mheatmap\u001b[0m\u001b[0;34m(\u001b[0m\u001b[0mdf_cust\u001b[0m\u001b[0;34m,\u001b[0m\u001b[0mvmin\u001b[0m\u001b[0;34m=\u001b[0m\u001b[0;36m0\u001b[0m\u001b[0;34m,\u001b[0m\u001b[0mvmax\u001b[0m\u001b[0;34m=\u001b[0m\u001b[0;36m1\u001b[0m\u001b[0;34m)\u001b[0m\u001b[0;34m\u001b[0m\u001b[0;34m\u001b[0m\u001b[0m\n\u001b[0m",
      "\u001b[0;32m~/opt/anaconda3/lib/python3.8/site-packages/seaborn/_decorators.py\u001b[0m in \u001b[0;36minner_f\u001b[0;34m(*args, **kwargs)\u001b[0m\n\u001b[1;32m     44\u001b[0m             )\n\u001b[1;32m     45\u001b[0m         \u001b[0mkwargs\u001b[0m\u001b[0;34m.\u001b[0m\u001b[0mupdate\u001b[0m\u001b[0;34m(\u001b[0m\u001b[0;34m{\u001b[0m\u001b[0mk\u001b[0m\u001b[0;34m:\u001b[0m \u001b[0marg\u001b[0m \u001b[0;32mfor\u001b[0m \u001b[0mk\u001b[0m\u001b[0;34m,\u001b[0m \u001b[0marg\u001b[0m \u001b[0;32min\u001b[0m \u001b[0mzip\u001b[0m\u001b[0;34m(\u001b[0m\u001b[0msig\u001b[0m\u001b[0;34m.\u001b[0m\u001b[0mparameters\u001b[0m\u001b[0;34m,\u001b[0m \u001b[0margs\u001b[0m\u001b[0;34m)\u001b[0m\u001b[0;34m}\u001b[0m\u001b[0;34m)\u001b[0m\u001b[0;34m\u001b[0m\u001b[0;34m\u001b[0m\u001b[0m\n\u001b[0;32m---> 46\u001b[0;31m         \u001b[0;32mreturn\u001b[0m \u001b[0mf\u001b[0m\u001b[0;34m(\u001b[0m\u001b[0;34m**\u001b[0m\u001b[0mkwargs\u001b[0m\u001b[0;34m)\u001b[0m\u001b[0;34m\u001b[0m\u001b[0;34m\u001b[0m\u001b[0m\n\u001b[0m\u001b[1;32m     47\u001b[0m     \u001b[0;32mreturn\u001b[0m \u001b[0minner_f\u001b[0m\u001b[0;34m\u001b[0m\u001b[0;34m\u001b[0m\u001b[0m\n\u001b[1;32m     48\u001b[0m \u001b[0;34m\u001b[0m\u001b[0m\n",
      "\u001b[0;32m~/opt/anaconda3/lib/python3.8/site-packages/seaborn/matrix.py\u001b[0m in \u001b[0;36mheatmap\u001b[0;34m(data, vmin, vmax, cmap, center, robust, annot, fmt, annot_kws, linewidths, linecolor, cbar, cbar_kws, cbar_ax, square, xticklabels, yticklabels, mask, ax, **kwargs)\u001b[0m\n\u001b[1;32m    533\u001b[0m     \"\"\"\n\u001b[1;32m    534\u001b[0m     \u001b[0;31m# Initialize the plotter object\u001b[0m\u001b[0;34m\u001b[0m\u001b[0;34m\u001b[0m\u001b[0;34m\u001b[0m\u001b[0m\n\u001b[0;32m--> 535\u001b[0;31m     plotter = _HeatMapper(data, vmin, vmax, cmap, center, robust, annot, fmt,\n\u001b[0m\u001b[1;32m    536\u001b[0m                           \u001b[0mannot_kws\u001b[0m\u001b[0;34m,\u001b[0m \u001b[0mcbar\u001b[0m\u001b[0;34m,\u001b[0m \u001b[0mcbar_kws\u001b[0m\u001b[0;34m,\u001b[0m \u001b[0mxticklabels\u001b[0m\u001b[0;34m,\u001b[0m\u001b[0;34m\u001b[0m\u001b[0;34m\u001b[0m\u001b[0m\n\u001b[1;32m    537\u001b[0m                           yticklabels, mask)\n",
      "\u001b[0;32m~/opt/anaconda3/lib/python3.8/site-packages/seaborn/matrix.py\u001b[0m in \u001b[0;36m__init__\u001b[0;34m(self, data, vmin, vmax, cmap, center, robust, annot, fmt, annot_kws, cbar, cbar_kws, xticklabels, yticklabels, mask)\u001b[0m\n\u001b[1;32m    153\u001b[0m \u001b[0;34m\u001b[0m\u001b[0m\n\u001b[1;32m    154\u001b[0m         \u001b[0;31m# Determine good default values for the colormapping\u001b[0m\u001b[0;34m\u001b[0m\u001b[0;34m\u001b[0m\u001b[0;34m\u001b[0m\u001b[0m\n\u001b[0;32m--> 155\u001b[0;31m         self._determine_cmap_params(plot_data, vmin, vmax,\n\u001b[0m\u001b[1;32m    156\u001b[0m                                     cmap, center, robust)\n\u001b[1;32m    157\u001b[0m \u001b[0;34m\u001b[0m\u001b[0m\n",
      "\u001b[0;32m~/opt/anaconda3/lib/python3.8/site-packages/seaborn/matrix.py\u001b[0m in \u001b[0;36m_determine_cmap_params\u001b[0;34m(self, plot_data, vmin, vmax, cmap, center, robust)\u001b[0m\n\u001b[1;32m    187\u001b[0m \u001b[0;34m\u001b[0m\u001b[0m\n\u001b[1;32m    188\u001b[0m         \u001b[0;31m# plot_data is a np.ma.array instance\u001b[0m\u001b[0;34m\u001b[0m\u001b[0;34m\u001b[0m\u001b[0;34m\u001b[0m\u001b[0m\n\u001b[0;32m--> 189\u001b[0;31m         \u001b[0mcalc_data\u001b[0m \u001b[0;34m=\u001b[0m \u001b[0mplot_data\u001b[0m\u001b[0;34m.\u001b[0m\u001b[0mastype\u001b[0m\u001b[0;34m(\u001b[0m\u001b[0mfloat\u001b[0m\u001b[0;34m)\u001b[0m\u001b[0;34m.\u001b[0m\u001b[0mfilled\u001b[0m\u001b[0;34m(\u001b[0m\u001b[0mnp\u001b[0m\u001b[0;34m.\u001b[0m\u001b[0mnan\u001b[0m\u001b[0;34m)\u001b[0m\u001b[0;34m\u001b[0m\u001b[0;34m\u001b[0m\u001b[0m\n\u001b[0m\u001b[1;32m    190\u001b[0m         \u001b[0;32mif\u001b[0m \u001b[0mvmin\u001b[0m \u001b[0;32mis\u001b[0m \u001b[0;32mNone\u001b[0m\u001b[0;34m:\u001b[0m\u001b[0;34m\u001b[0m\u001b[0;34m\u001b[0m\u001b[0m\n\u001b[1;32m    191\u001b[0m             \u001b[0;32mif\u001b[0m \u001b[0mrobust\u001b[0m\u001b[0;34m:\u001b[0m\u001b[0;34m\u001b[0m\u001b[0;34m\u001b[0m\u001b[0m\n",
      "\u001b[0;31mValueError\u001b[0m: could not convert string to float: 'midwest'"
     ]
    }
   ],
   "source": [
    "# Need to build a df with only numerical columns first, can be done with .select if dtype of column != 'object'\n",
    "sns.heatmap(df_cust,vmin=0,vmax=1)"
   ]
  },
  {
   "cell_type": "code",
   "execution_count": 50,
   "id": "0ac62908",
   "metadata": {},
   "outputs": [
    {
     "data": {
      "text/plain": [
       "counter                                   int64\n",
       "zones                                    object\n",
       "state                                    object\n",
       "customer_lifetime_value                 float64\n",
       "response                                 object\n",
       "coverage                                 object\n",
       "education                                object\n",
       "effective_to_date                datetime64[ns]\n",
       "employmentstatus                         object\n",
       "gender                                   object\n",
       "income                                    int64\n",
       "location_code                            object\n",
       "marital_status                           object\n",
       "monthly_premium_auto                      int64\n",
       "months_since_last_claim                 float64\n",
       "months_since_policy_inception             int64\n",
       "number_of_open_complaints               float64\n",
       "number_of_policies                        int64\n",
       "policy_type                              object\n",
       "policy                                   object\n",
       "renew_offer_type                         object\n",
       "sales_channel                            object\n",
       "total_claim_amount                      float64\n",
       "vehicle_class                            object\n",
       "vehicle_size                             object\n",
       "vehicle_type                             object\n",
       "quarter                                   int64\n",
       "response_num                              int64\n",
       "dtype: object"
      ]
     },
     "execution_count": 50,
     "metadata": {},
     "output_type": "execute_result"
    }
   ],
   "source": [
    "# \n",
    "df_cust.dtypes"
   ]
  },
  {
   "cell_type": "code",
   "execution_count": null,
   "id": "ebca5634",
   "metadata": {},
   "outputs": [],
   "source": []
  }
 ],
 "metadata": {
  "kernelspec": {
   "display_name": "Python 3",
   "language": "python",
   "name": "python3"
  },
  "language_info": {
   "codemirror_mode": {
    "name": "ipython",
    "version": 3
   },
   "file_extension": ".py",
   "mimetype": "text/x-python",
   "name": "python",
   "nbconvert_exporter": "python",
   "pygments_lexer": "ipython3",
   "version": "3.8.5"
  }
 },
 "nbformat": 4,
 "nbformat_minor": 5
}
