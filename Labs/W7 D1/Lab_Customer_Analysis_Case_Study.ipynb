{
 "cells": [
  {
   "cell_type": "code",
   "execution_count": 1,
   "id": "8e783ebe",
   "metadata": {},
   "outputs": [],
   "source": [
    "import matplotlib.pyplot as plt\n",
    "import seaborn as sns\n",
    "%matplotlib inline\n",
    "import pandas as pd\n",
    "import numpy as np\n",
    "from sklearn.preprocessing import StandardScaler\n",
    "from sklearn.preprocessing import OneHotEncoder\n",
    "from sklearn.preprocessing import QuantileTransformer\n",
    "from sklearn.linear_model import LinearRegression\n",
    "from sklearn.model_selection import train_test_split\n",
    "from sklearn.preprocessing import PowerTransformer\n",
    "from sklearn.metrics import r2_score\n",
    "from sklearn.metrics import mean_squared_error as mse\n",
    "from sklearn.metrics import mean_absolute_error as mae\n",
    "from scipy.stats import boxcox\n",
    "pd.options.display.max_rows = 50\n",
    "pd.options.display.max_columns = 999"
   ]
  },
  {
   "cell_type": "code",
   "execution_count": 2,
   "id": "92879498",
   "metadata": {},
   "outputs": [],
   "source": [
    "def load_original_data():\n",
    "    return pd.read_csv(\"data/Data_Marketing_Customer_Analysis_Round2.csv\" )"
   ]
  },
  {
   "cell_type": "code",
   "execution_count": null,
   "id": "b52e274a",
   "metadata": {},
   "outputs": [],
   "source": [
    "def clean_data(df):\n",
    "    df.columns=[e.lower().replace(' ', '_') for e in df.columns]\n",
    "    df=df.drop(columns=['unnamed:_0', 'vehicle_type',\"customer\",\"number_of_open_complaints\"])\n",
    "    df=df.dropna()\n",
    "    df['effective_to_date']=pd.to_datetime(df['effective_to_date'], errors='coerce')\n",
    "    df[\"month\"]=list(map(lambda date:date.strftime(format=\"%B\"),df[\"effective_to_date\"]))\n",
    "    return df"
   ]
  },
  {
   "cell_type": "code",
   "execution_count": null,
   "id": "4925f53d",
   "metadata": {},
   "outputs": [],
   "source": [
    "def transform(df):\n",
    "    df=df[df['income']>0]\n",
    "    df[\"total_claim_amount\"]=round(df[\"total_claim_amount\"],0)\n",
    "    df[\"customer_lifetime_value\"]=round(df[\"customer_lifetime_value\"],0)\n",
    "    df.vehicle_class[customers_df.vehicle_class.isin([\"Luxury Car\",\"Luxury SUV\"])] = \"Luxury Car\"\n",
    "    df.vehicle_class[customers_df.vehicle_class.isin([\"Four-Door Car\",\"SUV\"])] = \"Four-Door Car\"\n",
    "    df.policy[df.policy.isin([\"Personal L3\",\"Personal L2\",\"Personal L1\"]) ] = \"Personal\"\n",
    "    df.policy[df.policy.isin([\"Corporate L3\",\"Corporate L2\",\"Corporate L1\"]) ] = \"Corporate\"\n",
    "    df.policy[df.policy.isin([\"Special L3\",\"Special L2\",\"Special L1\"]) ] = \"Special\"\n",
    "    df=df.drop(columns=[\"month\",\"education\"])\n",
    "    df.number_of_policies[df.number_of_policies>2]=3\n",
    "    return df"
   ]
  },
  {
   "cell_type": "code",
   "execution_count": null,
   "id": "c0375757",
   "metadata": {},
   "outputs": [],
   "source": [
    "customers_df=load_original_data()\n",
    "#customers_df=clean_data(customers_df)\n",
    "#customers_df=transform(customers_df)\n",
    "\n",
    "customers_df = (                  \n",
    "clean_data(customers_df)                 \n",
    ".pipe(transform) \n",
    ")"
   ]
  },
  {
   "cell_type": "code",
   "execution_count": null,
   "id": "9ada8386",
   "metadata": {},
   "outputs": [],
   "source": [
    "customers_df.shape"
   ]
  },
  {
   "cell_type": "code",
   "execution_count": null,
   "id": "be491b5d",
   "metadata": {},
   "outputs": [],
   "source": [
    "customers_df.columns"
   ]
  },
  {
   "cell_type": "markdown",
   "id": "2b1908dd",
   "metadata": {},
   "source": [
    "X-Y split  \n",
    "splitting the target variable from the dependent variables"
   ]
  },
  {
   "cell_type": "code",
   "execution_count": null,
   "id": "bd7295a6",
   "metadata": {},
   "outputs": [],
   "source": [
    "X=customers_df.drop('total_claim_amount', axis=1)\n",
    "y=customers_df.total_claim_amount\n",
    "\n",
    "# we drop some useless columns\n",
    "X=X.drop(columns=['effective_to_date'])"
   ]
  },
  {
   "cell_type": "markdown",
   "id": "b3692a35",
   "metadata": {},
   "source": [
    "Get the numeric data."
   ]
  },
  {
   "cell_type": "code",
   "execution_count": null,
   "id": "0362e558",
   "metadata": {},
   "outputs": [],
   "source": [
    "numericals =X._get_numeric_data()\n",
    "# numericals =data.select_dtypes(np.number)\n",
    "numericals.head()"
   ]
  },
  {
   "cell_type": "code",
   "execution_count": null,
   "id": "629f52b3",
   "metadata": {},
   "outputs": [],
   "source": [
    "numericals.describe()"
   ]
  },
  {
   "cell_type": "markdown",
   "id": "980b118f",
   "metadata": {},
   "source": [
    "#### Checking Multicorrelinilaty"
   ]
  },
  {
   "cell_type": "code",
   "execution_count": null,
   "id": "154056c9",
   "metadata": {},
   "outputs": [],
   "source": [
    "correlations = numericals.corr()\n",
    "print(correlations)\n",
    "cmap = sns.cm.rocket_r  ## for reversing the colors\n",
    "mask=np.zeros_like(numericals.corr())\n",
    "mask[np.triu_indices_from(mask)]=True\n",
    "fig, ax=plt.subplots(figsize=(10, 8))\n",
    "ax=sns.heatmap(numericals.corr(), mask=mask, annot=True,cmap=cmap)\n",
    "plt.show()"
   ]
  },
  {
   "cell_type": "markdown",
   "id": "cb9091e4",
   "metadata": {},
   "source": [
    "There is no multicollinearity between the numerical features, highest covarriance is 0.4."
   ]
  },
  {
   "cell_type": "markdown",
   "id": "3b45ef96",
   "metadata": {},
   "source": [
    "#### Standardize"
   ]
  },
  {
   "cell_type": "code",
   "execution_count": null,
   "id": "bf9a19e0",
   "metadata": {},
   "outputs": [],
   "source": [
    "# Before starting with the linear regression model we standardize the data for better model fit.\n",
    "X_scaled=StandardScaler().fit_transform(numericals)\n",
    "X_scaled.shape"
   ]
  },
  {
   "cell_type": "markdown",
   "id": "368ad2bc",
   "metadata": {},
   "source": [
    "### Get Categorical data"
   ]
  },
  {
   "cell_type": "code",
   "execution_count": null,
   "id": "170872ef",
   "metadata": {},
   "outputs": [],
   "source": [
    "# Getting categorical data\n",
    "\n",
    "categoricals_features = X.select_dtypes(object)"
   ]
  },
  {
   "cell_type": "markdown",
   "id": "8aae9a44",
   "metadata": {},
   "source": [
    "### Categorical Variables Transformation"
   ]
  },
  {
   "cell_type": "markdown",
   "id": "97d63006",
   "metadata": {},
   "source": [
    "One Hot Encoding"
   ]
  },
  {
   "cell_type": "code",
   "execution_count": null,
   "id": "b016f549",
   "metadata": {},
   "outputs": [],
   "source": [
    "# get dummies pandas\n",
    "categoricals_features=pd.get_dummies(categoricals_features, drop_first=True)\n",
    "##pd.DataFrame(OneHotEncoder(drop='first').fit_transform(categoricals_features).toarray(),\n",
    "## columns=OneHotEncoder(drop='first').fit(categoricals_features).get_feature_names(input_features=categoricals_features.columns)).head()"
   ]
  },
  {
   "cell_type": "code",
   "execution_count": null,
   "id": "331fa624",
   "metadata": {},
   "outputs": [],
   "source": [
    "categoricals_features"
   ]
  },
  {
   "cell_type": "code",
   "execution_count": null,
   "id": "ecad7abb",
   "metadata": {},
   "outputs": [],
   "source": [
    "all_features=pd.concat([numericals, categoricals_features], axis=1) # concat numerical and categorical transformations\n",
    "all_features.head()"
   ]
  },
  {
   "cell_type": "markdown",
   "id": "427941a4",
   "metadata": {},
   "source": [
    "### Train Test Split"
   ]
  },
  {
   "cell_type": "code",
   "execution_count": null,
   "id": "3ac5d1eb",
   "metadata": {},
   "outputs": [],
   "source": [
    "X_train, X_test, y_train, y_test=train_test_split(all_features, y, test_size=.20)\n",
    "X_train"
   ]
  },
  {
   "cell_type": "markdown",
   "id": "9543ed19",
   "metadata": {},
   "source": [
    "### Apply Linear Regression"
   ]
  },
  {
   "cell_type": "code",
   "execution_count": null,
   "id": "0219e505",
   "metadata": {},
   "outputs": [],
   "source": [
    "# Linear regression / OLS regression\n",
    "\n",
    "model=LinearRegression()    # model\n",
    "model.fit(X_train.to_numpy(), y_train)   # model train\n",
    "\n",
    "y\n",
    "y_pred=model.predict(X_test.to_numpy())   # model prediction\n",
    "\n",
    "y_pred_train=model.predict(X_train.to_numpy())"
   ]
  },
  {
   "cell_type": "code",
   "execution_count": null,
   "id": "60efa92a",
   "metadata": {},
   "outputs": [],
   "source": [
    "from sklearn.linear_model import Lasso, Ridge, ElasticNet, LinearRegression, KNeihgbors\n",
    "\n",
    "dict_classifiers = {\n",
    "    \"Lasso\": Lasso(),\n",
    "    \"clf\": Ridge(alpha=1.0),\n",
    "    \"elastic_net\" : ElasticNet(random_state=0)\n",
    "} \n",
    "\n",
    "def model_check(dict_classifiers):\n",
    "    for modeltype, model_instantiation in dict_classifiers():\n",
    "        model=model_instantiation\n",
    "        model.fit(X_train, y_train)\n",
    "        print(f\"{model.__class__.__name__}: Train -> {model.score(X_train, y_train)}, Test -> {model.score(X_test, y_test)}\")\n",
    "      \n",
    "#dict_classifiers = {\n",
    "#    \"Logreg\": LogisticRegression(solver='lbfgs'),\n",
    "#    \"NN\": KNeighborsClassifier(),\n",
    "#    \"LinearSVM\": SVC(probability=True, kernel='linear'), #class_weight='balanced'\n",
    "#    \"GBC\": GradientBoostingClassifier(),\n",
    "#    \"DT\": tree.DecisionTreeClassifier(),\n",
    "#    \"RF\": RandomForestClassifier(),\n",
    "#    \"NB\": GaussianNB(),\n",
    "#}\n",
    "\n",
    "#for model, model_instantiation in dict_classifiers.iteritems():\n",
    "#     y_score = model_instantiation.fit(X_train, y_train).decision_function(X_test)"
   ]
  },
  {
   "cell_type": "code",
   "execution_count": null,
   "id": "4cdea396",
   "metadata": {},
   "outputs": [],
   "source": [
    "import this"
   ]
  },
  {
   "cell_type": "code",
   "execution_count": null,
   "id": "2a5977d7",
   "metadata": {},
   "outputs": [],
   "source": [
    "for i, in element in enumerate ([2,3,5,7,9])"
   ]
  },
  {
   "cell_type": "code",
   "execution_count": null,
   "id": "f0a9fb36",
   "metadata": {},
   "outputs": [],
   "source": [
    "from sklearn.linear_model import Lasso, Ridge, ElasticNet, LinearRegression"
   ]
  },
  {
   "cell_type": "code",
   "execution_count": null,
   "id": "a9e591a2",
   "metadata": {},
   "outputs": [],
   "source": [
    "model_dict = {\n",
    "    \"Lasso\": Lasso(),\n",
    "    \"clf\": Ridge(alpha=1.0),\n",
    "    \"elastic_net\" : ElasticNet(random_state=0)\n",
    "    }"
   ]
  },
  {
   "cell_type": "code",
   "execution_count": null,
   "id": "70490f40",
   "metadata": {},
   "outputs": [],
   "source": [
    "def eval_model(X, y, model_dct):\n",
    "    \n",
    "    for name, model in model_dict.items():"
   ]
  },
  {
   "cell_type": "code",
   "execution_count": null,
   "id": "2c0ee083",
   "metadata": {},
   "outputs": [],
   "source": [
    "from sklearn.linear_model import Lasso,Ridge,ElasticNet, LinearRegression\n",
    "model=Lasso()\n",
    "model.fit(X_train, y_train)\n",
    "print(f\"{model.__class__.__name__}: Train -> {model.score(X_train, y_train)}, Test -> {model.score(X_test, y_test)}\")"
   ]
  },
  {
   "cell_type": "code",
   "execution_count": null,
   "id": "4dcb86fc",
   "metadata": {},
   "outputs": [],
   "source": [
    "from sklearn.linear_model import Lasso,Ridge,ElasticNet, LinearRegression\n",
    "model=Lasso()\n",
    "model.fit(X_train, y_train)\n",
    "print(f\"{model.__class__.__name__}: Train -> {model.score(X_train, y_train)}, Test -> {model.score(X_test, y_test)}\")\n",
    "model=Ridge(alpha=1.0)\n",
    "model.fit(X_train, y_train)\n",
    "print(f\"{model.__class__.__name__}: Train -> {model.score(X_train, y_train)}, Test -> {model.score(X_test, y_test)}\")\n",
    "model=ElasticNet(random_state=0)\n",
    "model.fit(X_train, y_train)\n",
    "print(f\"{model.__class__.__name__}: Train -> {model.score(X_train, y_train)}, Test -> {model.score(X_test, y_test)}\")"
   ]
  },
  {
   "cell_type": "markdown",
   "id": "c4479059",
   "metadata": {},
   "source": [
    "#### Model Validation"
   ]
  },
  {
   "cell_type": "markdown",
   "id": "bafe7c05",
   "metadata": {},
   "source": [
    "MSE."
   ]
  },
  {
   "cell_type": "code",
   "execution_count": null,
   "id": "3bb8c75f",
   "metadata": {},
   "outputs": [],
   "source": [
    "train_mse=mse(y_train,model.predict(X_train.to_numpy()))\n",
    "test_mse=mse(y_test,model.predict(X_test.to_numpy()))\n",
    "\n",
    "print ('train MSE: {} -- test MSE: {}'.format(train_mse, test_mse))"
   ]
  },
  {
   "cell_type": "markdown",
   "id": "729985ba",
   "metadata": {},
   "source": [
    "RMSE."
   ]
  },
  {
   "cell_type": "code",
   "execution_count": null,
   "id": "57b76c49",
   "metadata": {},
   "outputs": [],
   "source": [
    "print ('train RMSE: {} -- test RMSE: {}'.format(train_mse**.5, test_mse**.5))"
   ]
  },
  {
   "cell_type": "markdown",
   "id": "c2b88886",
   "metadata": {},
   "source": [
    "MAE."
   ]
  },
  {
   "cell_type": "code",
   "execution_count": null,
   "id": "0aa2c76c",
   "metadata": {},
   "outputs": [],
   "source": [
    "train_mae=mae(y_train,model.predict(X_train.to_numpy()))\n",
    "test_mae=mae(y_test,model.predict(X_test.to_numpy()))\n",
    "\n",
    "print ('train MAE: {} -- test MAE: {}'.format(train_mse, test_mse))"
   ]
  },
  {
   "cell_type": "markdown",
   "id": "bc965fc7",
   "metadata": {},
   "source": [
    "R2."
   ]
  },
  {
   "cell_type": "code",
   "execution_count": null,
   "id": "c4a2b069",
   "metadata": {},
   "outputs": [],
   "source": [
    "r2= model.score(X_test.to_numpy(), y_test)\n",
    "print (r2)\n",
    "\n",
    "print(r2_score(y_test,model.predict(X_test.to_numpy())))"
   ]
  },
  {
   "cell_type": "code",
   "execution_count": null,
   "id": "f2924abe",
   "metadata": {},
   "outputs": [],
   "source": [
    "\n",
    "print ('train R2: {} -- test R2: {}'.format(model.score(X_train.to_numpy(), y_train),\n",
    "                                            model.score(X_test.to_numpy(), y_test)))"
   ]
  },
  {
   "cell_type": "markdown",
   "id": "dfbaf9a2",
   "metadata": {},
   "source": [
    "adjusted rsquare"
   ]
  },
  {
   "cell_type": "code",
   "execution_count": null,
   "id": "c8945c6e",
   "metadata": {},
   "outputs": [],
   "source": [
    "N=X_train.shape[0]\n",
    "p=36\n",
    "x = (1-r2)\n",
    "y = (N-1) / (N-p-1)\n",
    "adj_rsquared = (1 - (x * y))\n",
    "print(\"Adjusted-R2 : \" , adj_rsquared)"
   ]
  },
  {
   "cell_type": "markdown",
   "id": "01b01203",
   "metadata": {},
   "source": [
    "#### Feature Importance"
   ]
  },
  {
   "cell_type": "code",
   "execution_count": null,
   "id": "89610a7c",
   "metadata": {},
   "outputs": [],
   "source": [
    "features_importances = pd.DataFrame(data={\n",
    "    'Attribute': X_train.columns,\n",
    "    'Importance': model.coef_\n",
    "})\n",
    "features_importances = features_importances.sort_values(by='Importance', ascending=False)"
   ]
  },
  {
   "cell_type": "code",
   "execution_count": null,
   "id": "753e2d74",
   "metadata": {},
   "outputs": [],
   "source": [
    "## decide on each variable importance on your model using adjusted R_squared "
   ]
  },
  {
   "cell_type": "code",
   "execution_count": null,
   "id": "c2809a7b",
   "metadata": {},
   "outputs": [],
   "source": [
    "features_importances"
   ]
  },
  {
   "cell_type": "code",
   "execution_count": null,
   "id": "dbeceb73",
   "metadata": {},
   "outputs": [],
   "source": [
    "plt.bar(x=features_importances['Attribute'], height=features_importances['Importance'], color='#087E8B')\n",
    "plt.title('Feature importances obtained from coefficients', size=20)\n",
    "plt.xticks(rotation='vertical')\n",
    "plt.show()"
   ]
  },
  {
   "cell_type": "markdown",
   "id": "049c8468",
   "metadata": {},
   "source": [
    "#### evaluating the importance of new variable to my study  \n",
    "#### pseduo code\n",
    "for each iteration\n",
    "    * X_train(including new variable) = \n",
    "    * P= number of paramter \n",
    "    * new adjusted_R2= compute adjusted_r2 (p)\n",
    "    * if adjusted_r_squared_with_new_feature <=  adjusted_r_squared_without_new_feature \n",
    "        drop the new variable because it is not significant to my study "
   ]
  },
  {
   "cell_type": "code",
   "execution_count": null,
   "id": "a61ffdd5",
   "metadata": {},
   "outputs": [],
   "source": []
  },
  {
   "cell_type": "code",
   "execution_count": null,
   "id": "be15a5fa",
   "metadata": {},
   "outputs": [],
   "source": [
    "# Make an scatter plot y_pred vs y\n",
    "# What kind of plot you will get if all the all the predictions are ok?\n",
    "# A stright line\n",
    "\n",
    "fig, ax = plt.subplots(2,2)\n",
    "ax[0,0].plot(y_pred, y_test, 'o')\n",
    "ax[0,0].set_xlabel(\"y_test\")\n",
    "ax[0,0].set_ylabel(\"y_pred\")\n",
    "ax[0,0].set_title(\"Test Set -Predicted vs real\")\n",
    "\n",
    "# Get a histogram of the residuals ie: y - y_pred.  Homoscdasticity\n",
    "# It resembles a normal distribution?\n",
    "ax[0,1].hist(y_test - y_pred)\n",
    "ax[0,1].set_xlabel(\"Test y-y_pred\")\n",
    "ax[0,1].set_title(\"Test Set Residual histogram\")\n",
    "\n",
    "ax[1,0].plot(y_pred_train, y_train, 'o')\n",
    "ax[1,0].set_xlabel(\"y_train\")\n",
    "ax[1,0].set_ylabel(\"y_pred_train\")\n",
    "ax[1,0].set_title(\"Train set Predicted vs real\")\n",
    "\n",
    "# Get a histogram of the residuals ie: y - y_pred.  Homoscdasticity\n",
    "# It resembles a normal distribution?\n",
    "ax[1,1].hist(y_train - y_pred_train)\n",
    "ax[1,1].set_xlabel(\"Train y-y_pred\")\n",
    "ax[1,1].set_title(\"Train Residual histogram\")"
   ]
  },
  {
   "cell_type": "markdown",
   "id": "ba56624d",
   "metadata": {},
   "source": [
    "# Plotting"
   ]
  },
  {
   "cell_type": "markdown",
   "id": "55acbbb6",
   "metadata": {},
   "source": [
    "EDA Catgorical Columns "
   ]
  },
  {
   "cell_type": "code",
   "execution_count": null,
   "id": "1cabfa27",
   "metadata": {
    "scrolled": true
   },
   "outputs": [],
   "source": [
    "for c in customers_df.select_dtypes(object):\n",
    "    plt.figure(figsize=(10,5))\n",
    "    plt.bar(customers_df[c].unique(), customers_df[c].value_counts())\n",
    "    plt.title(c)\n",
    "    plt.show();"
   ]
  },
  {
   "cell_type": "code",
   "execution_count": null,
   "id": "25c755f8",
   "metadata": {
    "scrolled": true
   },
   "outputs": [],
   "source": []
  },
  {
   "cell_type": "markdown",
   "id": "31094d88",
   "metadata": {},
   "source": [
    "### Show a plot of the total number of responses."
   ]
  },
  {
   "cell_type": "code",
   "execution_count": null,
   "id": "9d917c99",
   "metadata": {},
   "outputs": [],
   "source": [
    "customers_df.customer_lifetime_value.hist()"
   ]
  },
  {
   "cell_type": "code",
   "execution_count": null,
   "id": "4e78dd17",
   "metadata": {},
   "outputs": [],
   "source": [
    "sns.countplot('response', data=customers_df)\n",
    "plt.ylabel('Total number of Response')\n",
    "plt.show()"
   ]
  },
  {
   "cell_type": "markdown",
   "id": "1dbb7a42",
   "metadata": {},
   "source": [
    "### Show a plot of the response rate by the sales channel."
   ]
  },
  {
   "cell_type": "code",
   "execution_count": null,
   "id": "2a84c8bd",
   "metadata": {},
   "outputs": [],
   "source": [
    "plt.figure(figsize=(8,4))\n",
    "sns.countplot('response', hue='sales_channel', data=customers_df)\n",
    "plt.ylabel('Response by Sales Channel')\n",
    "plt.show()\n"
   ]
  },
  {
   "cell_type": "markdown",
   "id": "e6730314",
   "metadata": {},
   "source": [
    "### Show a plot of the response rate by the total claim amount.\n"
   ]
  },
  {
   "cell_type": "code",
   "execution_count": null,
   "id": "6afc0fe4",
   "metadata": {},
   "outputs": [],
   "source": [
    "plt.figure(figsize=(12,6))\n",
    "sns.boxplot(y='total_claim_amount' , x='response', data=customers_df)\n",
    "plt.ylabel('Response by Total Claim Amount')\n",
    "plt.show()\n"
   ]
  },
  {
   "cell_type": "markdown",
   "id": "141183a8",
   "metadata": {},
   "source": [
    "### Show a plot of the response rate by income.\n"
   ]
  },
  {
   "cell_type": "code",
   "execution_count": null,
   "id": "e9444f56",
   "metadata": {},
   "outputs": [],
   "source": [
    "plt.figure(figsize=(12,6))\n",
    "sns.boxplot(y='income' , x='response', data=customers_df)\n",
    "plt.ylabel('Response by Income')\n",
    "plt.show()"
   ]
  },
  {
   "cell_type": "markdown",
   "id": "9c7c49c5",
   "metadata": {},
   "source": [
    "# Data Transformation Lab"
   ]
  },
  {
   "cell_type": "markdown",
   "id": "751dd9b3",
   "metadata": {},
   "source": [
    "#### Check normality visually."
   ]
  },
  {
   "cell_type": "code",
   "execution_count": null,
   "id": "00f3100d",
   "metadata": {},
   "outputs": [],
   "source": [
    "sns.pairplot(customers_df)\n",
    "plt.show()"
   ]
  },
  {
   "cell_type": "code",
   "execution_count": null,
   "id": "b4d10066",
   "metadata": {},
   "outputs": [],
   "source": [
    "sns.distplot((customers_df['customer_lifetime_value']), bins=20)"
   ]
  },
  {
   "cell_type": "code",
   "execution_count": null,
   "id": "5e55939c",
   "metadata": {},
   "outputs": [],
   "source": [
    "monthly=boxcox(customers_df['customer_lifetime_value'],lmbda=-0.04)"
   ]
  },
  {
   "cell_type": "code",
   "execution_count": null,
   "id": "d457f803",
   "metadata": {},
   "outputs": [],
   "source": [
    "sns.histplot(monthly)"
   ]
  },
  {
   "cell_type": "code",
   "execution_count": null,
   "id": "7de11728",
   "metadata": {},
   "outputs": [],
   "source": [
    "sns.distplot((customers_df['monthly_premium_auto']), bins=20)"
   ]
  },
  {
   "cell_type": "code",
   "execution_count": null,
   "id": "f3e46d72",
   "metadata": {},
   "outputs": [],
   "source": [
    "pt = PowerTransformer()\n",
    "monthly=pt.fit_transform(customers_df['monthly_premium_auto'].to_numpy().reshape(-1,1))\n",
    "sns.displot(monthly)"
   ]
  },
  {
   "cell_type": "code",
   "execution_count": null,
   "id": "d7c2d6a0",
   "metadata": {},
   "outputs": [],
   "source": [
    "monthly,lam=boxcox(customers_df['monthly_premium_auto'])\n",
    "sns.histplot(monthly)"
   ]
  },
  {
   "cell_type": "code",
   "execution_count": null,
   "id": "9981203b",
   "metadata": {},
   "outputs": [],
   "source": [
    "qt = QuantileTransformer()\n",
    "monthly=qt.fit_transform(customers_df['monthly_premium_auto'].to_numpy().reshape(-1,1))\n",
    "sns.histplot(monthly)"
   ]
  },
  {
   "cell_type": "code",
   "execution_count": null,
   "id": "e90d1a7e",
   "metadata": {},
   "outputs": [],
   "source": [
    "sns.regplot(x='monthly_premium_auto',y='total_claim_amount', data=customers_df, scatter_kws={\"color\": \"olive\"}, line_kws={\"color\": \"black\"})"
   ]
  }
 ],
 "metadata": {
  "kernelspec": {
   "display_name": "Python 3",
   "language": "python",
   "name": "python3"
  },
  "language_info": {
   "codemirror_mode": {
    "name": "ipython",
    "version": 3
   },
   "file_extension": ".py",
   "mimetype": "text/x-python",
   "name": "python",
   "nbconvert_exporter": "python",
   "pygments_lexer": "ipython3",
   "version": "3.9.6"
  }
 },
 "nbformat": 4,
 "nbformat_minor": 5
}
