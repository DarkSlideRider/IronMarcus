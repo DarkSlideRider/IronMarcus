{
 "cells": [
  {
   "cell_type": "markdown",
   "id": "39870473",
   "metadata": {},
   "source": [
    "# Logistic Regression"
   ]
  },
  {
   "cell_type": "markdown",
   "id": "014f590e",
   "metadata": {},
   "source": [
    "## Libraries"
   ]
  },
  {
   "cell_type": "code",
   "execution_count": 1,
   "id": "5d348d3e",
   "metadata": {},
   "outputs": [],
   "source": [
    "%matplotlib inline\n",
    "import pandas as pd\n",
    "import numpy as np\n",
    "import matplotlib.pyplot as plt\n",
    "from sklearn.preprocessing import StandardScaler\n",
    "from sklearn.preprocessing import PowerTransformer\n",
    "from sklearn.metrics import accuracy_score, precision_score, recall_score, confusion_matrix\n",
    "from sklearn.metrics import plot_confusion_matrix\n",
    "\n",
    "# Needed to split the data between Test and Train\n",
    "\n",
    "from sklearn.model_selection import train_test_split\n",
    "from sklearn.linear_model import LogisticRegression\n",
    "import category_encoders as ce\n",
    "import statsmodels.api as sm\n",
    "\n",
    "#gives you more than sklearn (also likelihood)\n",
    "#X, y = load_iris(return_X_y=)\n",
    "#logit_model = sm.Logit(y, X)"
   ]
  },
  {
   "cell_type": "markdown",
   "id": "87a83bbe",
   "metadata": {},
   "source": [
    "## Import Data "
   ]
  },
  {
   "cell_type": "code",
   "execution_count": 2,
   "id": "1a692c6b",
   "metadata": {},
   "outputs": [],
   "source": [
    "def load_original_data():\n",
    "    return pd.read_csv(\"DATA_Customer-Churn.csv\" )"
   ]
  },
  {
   "cell_type": "code",
   "execution_count": 3,
   "id": "6a8bca9b",
   "metadata": {},
   "outputs": [
    {
     "data": {
      "text/plain": [
       "gender               object\n",
       "SeniorCitizen         int64\n",
       "Partner              object\n",
       "Dependents           object\n",
       "tenure                int64\n",
       "PhoneService         object\n",
       "OnlineSecurity       object\n",
       "OnlineBackup         object\n",
       "DeviceProtection     object\n",
       "TechSupport          object\n",
       "StreamingTV          object\n",
       "StreamingMovies      object\n",
       "Contract             object\n",
       "MonthlyCharges      float64\n",
       "TotalCharges         object\n",
       "Churn                object\n",
       "dtype: object"
      ]
     },
     "execution_count": 3,
     "metadata": {},
     "output_type": "execute_result"
    }
   ],
   "source": [
    "churn_df = load_original_data()\n",
    "# check data types of columns\n",
    "churn_df.dtypes"
   ]
  },
  {
   "cell_type": "code",
   "execution_count": 4,
   "id": "a339eb21",
   "metadata": {},
   "outputs": [
    {
     "data": {
      "text/plain": [
       "dtype('float32')"
      ]
     },
     "execution_count": 4,
     "metadata": {},
     "output_type": "execute_result"
    }
   ],
   "source": [
    "#convert TotalCharges dtype\n",
    "churn_df[\"TotalCharges\"] = pd.to_numeric(churn_df[\"TotalCharges\"], downcast=\"float\", errors='coerce')\n",
    "churn_df[\"TotalCharges\"] = churn_df[\"TotalCharges\"].round(decimals=2)\n",
    "#or df['DataFrame Column'] = df['DataFrame Column'].astype(float)\n",
    "churn_df[\"TotalCharges\"].dtypes"
   ]
  },
  {
   "cell_type": "code",
   "execution_count": 5,
   "id": "42d63db8",
   "metadata": {},
   "outputs": [
    {
     "name": "stdout",
     "output_type": "stream",
     "text": [
      "  Churn\n",
      "0   Yes\n",
      "1    No\n"
     ]
    },
    {
     "name": "stderr",
     "output_type": "stream",
     "text": [
      "/Users/mspro/opt/anaconda3/envs/DA_Env/lib/python3.9/site-packages/category_encoders/utils.py:21: FutureWarning: is_categorical is deprecated and will be removed in a future version.  Use is_categorical_dtype instead\n",
      "  elif pd.api.types.is_categorical(cols):\n"
     ]
    },
    {
     "data": {
      "text/html": [
       "<div>\n",
       "<style scoped>\n",
       "    .dataframe tbody tr th:only-of-type {\n",
       "        vertical-align: middle;\n",
       "    }\n",
       "\n",
       "    .dataframe tbody tr th {\n",
       "        vertical-align: top;\n",
       "    }\n",
       "\n",
       "    .dataframe thead th {\n",
       "        text-align: right;\n",
       "    }\n",
       "</style>\n",
       "<table border=\"1\" class=\"dataframe\">\n",
       "  <thead>\n",
       "    <tr style=\"text-align: right;\">\n",
       "      <th></th>\n",
       "      <th>gender</th>\n",
       "      <th>SeniorCitizen</th>\n",
       "      <th>Partner</th>\n",
       "      <th>Dependents</th>\n",
       "      <th>tenure</th>\n",
       "      <th>PhoneService</th>\n",
       "      <th>OnlineSecurity</th>\n",
       "      <th>OnlineBackup</th>\n",
       "      <th>DeviceProtection</th>\n",
       "      <th>TechSupport</th>\n",
       "      <th>StreamingTV</th>\n",
       "      <th>StreamingMovies</th>\n",
       "      <th>Contract</th>\n",
       "      <th>MonthlyCharges</th>\n",
       "      <th>TotalCharges</th>\n",
       "      <th>Churn</th>\n",
       "    </tr>\n",
       "  </thead>\n",
       "  <tbody>\n",
       "    <tr>\n",
       "      <th>0</th>\n",
       "      <td>Female</td>\n",
       "      <td>0</td>\n",
       "      <td>Yes</td>\n",
       "      <td>No</td>\n",
       "      <td>1</td>\n",
       "      <td>No</td>\n",
       "      <td>No</td>\n",
       "      <td>Yes</td>\n",
       "      <td>No</td>\n",
       "      <td>No</td>\n",
       "      <td>No</td>\n",
       "      <td>No</td>\n",
       "      <td>Month-to-month</td>\n",
       "      <td>29.85</td>\n",
       "      <td>29.850000</td>\n",
       "      <td>0</td>\n",
       "    </tr>\n",
       "    <tr>\n",
       "      <th>1</th>\n",
       "      <td>Male</td>\n",
       "      <td>0</td>\n",
       "      <td>No</td>\n",
       "      <td>No</td>\n",
       "      <td>34</td>\n",
       "      <td>Yes</td>\n",
       "      <td>Yes</td>\n",
       "      <td>No</td>\n",
       "      <td>Yes</td>\n",
       "      <td>No</td>\n",
       "      <td>No</td>\n",
       "      <td>No</td>\n",
       "      <td>One year</td>\n",
       "      <td>56.95</td>\n",
       "      <td>1889.500000</td>\n",
       "      <td>0</td>\n",
       "    </tr>\n",
       "    <tr>\n",
       "      <th>2</th>\n",
       "      <td>Male</td>\n",
       "      <td>0</td>\n",
       "      <td>No</td>\n",
       "      <td>No</td>\n",
       "      <td>2</td>\n",
       "      <td>Yes</td>\n",
       "      <td>Yes</td>\n",
       "      <td>Yes</td>\n",
       "      <td>No</td>\n",
       "      <td>No</td>\n",
       "      <td>No</td>\n",
       "      <td>No</td>\n",
       "      <td>Month-to-month</td>\n",
       "      <td>53.85</td>\n",
       "      <td>108.150002</td>\n",
       "      <td>1</td>\n",
       "    </tr>\n",
       "    <tr>\n",
       "      <th>3</th>\n",
       "      <td>Male</td>\n",
       "      <td>0</td>\n",
       "      <td>No</td>\n",
       "      <td>No</td>\n",
       "      <td>45</td>\n",
       "      <td>No</td>\n",
       "      <td>Yes</td>\n",
       "      <td>No</td>\n",
       "      <td>Yes</td>\n",
       "      <td>Yes</td>\n",
       "      <td>No</td>\n",
       "      <td>No</td>\n",
       "      <td>One year</td>\n",
       "      <td>42.30</td>\n",
       "      <td>1840.750000</td>\n",
       "      <td>0</td>\n",
       "    </tr>\n",
       "    <tr>\n",
       "      <th>4</th>\n",
       "      <td>Female</td>\n",
       "      <td>0</td>\n",
       "      <td>No</td>\n",
       "      <td>No</td>\n",
       "      <td>2</td>\n",
       "      <td>Yes</td>\n",
       "      <td>No</td>\n",
       "      <td>No</td>\n",
       "      <td>No</td>\n",
       "      <td>No</td>\n",
       "      <td>No</td>\n",
       "      <td>No</td>\n",
       "      <td>Month-to-month</td>\n",
       "      <td>70.70</td>\n",
       "      <td>151.649994</td>\n",
       "      <td>1</td>\n",
       "    </tr>\n",
       "  </tbody>\n",
       "</table>\n",
       "</div>"
      ],
      "text/plain": [
       "   gender  SeniorCitizen Partner Dependents  tenure PhoneService  \\\n",
       "0  Female              0     Yes         No       1           No   \n",
       "1    Male              0      No         No      34          Yes   \n",
       "2    Male              0      No         No       2          Yes   \n",
       "3    Male              0      No         No      45           No   \n",
       "4  Female              0      No         No       2          Yes   \n",
       "\n",
       "  OnlineSecurity OnlineBackup DeviceProtection TechSupport StreamingTV  \\\n",
       "0             No          Yes               No          No          No   \n",
       "1            Yes           No              Yes          No          No   \n",
       "2            Yes          Yes               No          No          No   \n",
       "3            Yes           No              Yes         Yes          No   \n",
       "4             No           No               No          No          No   \n",
       "\n",
       "  StreamingMovies        Contract  MonthlyCharges  TotalCharges  Churn  \n",
       "0              No  Month-to-month           29.85     29.850000      0  \n",
       "1              No        One year           56.95   1889.500000      0  \n",
       "2              No  Month-to-month           53.85    108.150002      1  \n",
       "3              No        One year           42.30   1840.750000      0  \n",
       "4              No  Month-to-month           70.70    151.649994      1  "
      ]
     },
     "execution_count": 5,
     "metadata": {},
     "output_type": "execute_result"
    }
   ],
   "source": [
    "# Ordinal Encoding via mapping Yes=1, No=0\n",
    "# Would work as well: \n",
    "\n",
    "#df2.churn.replace({\"Yes\":1, \"No\":0}, inplace = True)\n",
    "\n",
    "#More generalized with mapping dict.\n",
    "\n",
    "churn_enc_df=pd.DataFrame({'Churn':['Yes','No']})\n",
    "\n",
    "# create object of Ordinalencoding\n",
    "encoder= ce.OrdinalEncoder(cols=['Churn'],return_df=True,\n",
    "                           mapping=[{'col':'Churn','mapping':{'No':0,'Yes':1}}])\n",
    "\n",
    "#Original data\n",
    "print(churn_enc_df)\n",
    "#fit and transform train data \n",
    "churn_df = encoder.fit_transform(churn_df)\n",
    "churn_df.head(5)"
   ]
  },
  {
   "cell_type": "code",
   "execution_count": 6,
   "id": "2f0d9adc",
   "metadata": {},
   "outputs": [
    {
     "data": {
      "text/plain": [
       "gender               0\n",
       "SeniorCitizen        0\n",
       "Partner              0\n",
       "Dependents           0\n",
       "tenure               0\n",
       "PhoneService         0\n",
       "OnlineSecurity       0\n",
       "OnlineBackup         0\n",
       "DeviceProtection     0\n",
       "TechSupport          0\n",
       "StreamingTV          0\n",
       "StreamingMovies      0\n",
       "Contract             0\n",
       "MonthlyCharges       0\n",
       "TotalCharges        11\n",
       "Churn                0\n",
       "dtype: int64"
      ]
     },
     "execution_count": 6,
     "metadata": {},
     "output_type": "execute_result"
    }
   ],
   "source": [
    "#check null values \n",
    "churn_df.isnull().values.any()\n",
    "churn_df.isnull().sum()"
   ]
  },
  {
   "cell_type": "code",
   "execution_count": 7,
   "id": "60bdace9",
   "metadata": {},
   "outputs": [],
   "source": [
    "#replace NaNs\n",
    "churn_df=churn_df.dropna()\n",
    "#churn_df.isnull().sum()"
   ]
  },
  {
   "cell_type": "code",
   "execution_count": 8,
   "id": "81cdb99b",
   "metadata": {},
   "outputs": [
    {
     "data": {
      "text/plain": [
       "array([0, 0, 1, ..., 0, 1, 0])"
      ]
     },
     "execution_count": 8,
     "metadata": {},
     "output_type": "execute_result"
    }
   ],
   "source": [
    "# Create numericals the following features: tenure, SeniorCitizen, MonthlyCharges, Churn and TotalCharges:\n",
    "churn_numericals = churn_df._get_numeric_data()\n",
    "# numericals = data.select_dtypes(np.number)\n",
    "\n",
    "#X - Y split\n",
    "\n",
    "X=churn_numericals.drop('Churn', axis=1)\n",
    "#y=churn_numericals['Churn']\n",
    "\n",
    "y = churn_numericals.Churn.values\n",
    "y"
   ]
  },
  {
   "cell_type": "code",
   "execution_count": 9,
   "id": "9d74c984",
   "metadata": {},
   "outputs": [],
   "source": [
    "# Scaling the data before logistic regression with Z-Scaler, RANDOM_STATE=42 -> split of the data set is reproducable\n",
    "# Other options to z-scaler = PowerTransformer\n",
    "\n",
    "#trans = PowerTransformer()   #other option to Z-scaler\n",
    "#trans.fit(X)\n",
    "\n",
    "z_scaler = StandardScaler()\n",
    "z_scaler.fit(X)\n",
    "\n",
    "# Creation of training set and testing set\n",
    "\n",
    "X_train, X_test, y_train, y_test = train_test_split(X, y, test_size=0.20, random_state=42)\n",
    "\n",
    "X_train = pd.DataFrame(X_train, columns = X.columns)\n",
    "X_test  = pd.DataFrame(X_test , columns = X.columns)\n",
    "#y_train = pd.DataFrame(y_train)\n",
    "#y_test  = pd.DataFrame(y_test)"
   ]
  },
  {
   "cell_type": "markdown",
   "id": "33017725",
   "metadata": {},
   "source": [
    "## Apply Logistic Regression "
   ]
  },
  {
   "cell_type": "code",
   "execution_count": 10,
   "id": "5749b281",
   "metadata": {},
   "outputs": [],
   "source": [
    "# Fit the model - the models need for X= an n-dimensional array, for y= a 1-dimensional array, be aware to NOT have\n",
    "# an array in the form of \"array([[1,1,...1,0]])\" - has to be transformed in a 1-dimensional array\n",
    "\n",
    "logistic_model = LogisticRegression()    # model\n",
    "logistic_model.fit(X_train.to_numpy(), y_train)   # model fitting\n",
    "\n",
    "y_pred_train = logistic_model.predict(X_train.to_numpy()) # model training with X_training to predict y and compare with y_train\n",
    "y_pred_test = logistic_model.predict(X_test.to_numpy())   # model prediction with test data"
   ]
  },
  {
   "cell_type": "code",
   "execution_count": 11,
   "id": "17dea243",
   "metadata": {},
   "outputs": [
    {
     "data": {
      "text/html": [
       "<div>\n",
       "<style scoped>\n",
       "    .dataframe tbody tr th:only-of-type {\n",
       "        vertical-align: middle;\n",
       "    }\n",
       "\n",
       "    .dataframe tbody tr th {\n",
       "        vertical-align: top;\n",
       "    }\n",
       "\n",
       "    .dataframe thead th {\n",
       "        text-align: right;\n",
       "    }\n",
       "</style>\n",
       "<table border=\"1\" class=\"dataframe\">\n",
       "  <thead>\n",
       "    <tr style=\"text-align: right;\">\n",
       "      <th></th>\n",
       "      <th>Error_metric</th>\n",
       "      <th>Train</th>\n",
       "      <th>Test</th>\n",
       "    </tr>\n",
       "  </thead>\n",
       "  <tbody>\n",
       "    <tr>\n",
       "      <th>0</th>\n",
       "      <td>Accuracy</td>\n",
       "      <td>0.793422</td>\n",
       "      <td>0.780384</td>\n",
       "    </tr>\n",
       "    <tr>\n",
       "      <th>1</th>\n",
       "      <td>Precision</td>\n",
       "      <td>0.657521</td>\n",
       "      <td>0.624521</td>\n",
       "    </tr>\n",
       "    <tr>\n",
       "      <th>2</th>\n",
       "      <td>Recall</td>\n",
       "      <td>0.464883</td>\n",
       "      <td>0.435829</td>\n",
       "    </tr>\n",
       "  </tbody>\n",
       "</table>\n",
       "</div>"
      ],
      "text/plain": [
       "  Error_metric     Train      Test\n",
       "0     Accuracy  0.793422  0.780384\n",
       "1    Precision  0.657521  0.624521\n",
       "2       Recall  0.464883  0.435829"
      ]
     },
     "metadata": {},
     "output_type": "display_data"
    },
    {
     "name": "stdout",
     "output_type": "stream",
     "text": [
      "Confusion matrix for the train set\n",
      "[[3768  362]\n",
      " [ 800  695]]\n"
     ]
    },
    {
     "data": {
      "image/png": "[encoded data removed]",
      "text/plain": [
       "<Figure size 432x288 with 2 Axes>"
      ]
     },
     "metadata": {
      "needs_background": "light"
     },
     "output_type": "display_data"
    },
    {
     "name": "stdout",
     "output_type": "stream",
     "text": [
      "\n",
      "Confusion matrix for the test set\n",
      "[[935  98]\n",
      " [211 163]]\n"
     ]
    },
    {
     "data": {
      "image/png": "[encoded data removed]",
      "text/plain": [
       "<Figure size 432x288 with 2 Axes>"
      ]
     },
     "metadata": {
      "needs_background": "light"
     },
     "output_type": "display_data"
    }
   ],
   "source": [
    "# Performance measure & confusion matrix\n",
    "# precision is the ratio tp/(tp+fp) where tp is the number of true positives and fp the number of false positives.\n",
    "# The precision is the ability of the classifier not to label as positive a sample that is negative.\n",
    "# Accuracy = ratio of correct prediction / number of observations.\n",
    "# Recall is the ratio tp/(tp+fn) where tp is the number of true positives and fn the number of false negatives. \n",
    "# The recall is intuitively the ability of the classifier to find all the positive samples.\n",
    "\n",
    "# Score = accuracy\n",
    "\n",
    "performance_log = pd.DataFrame({'Error_metric': ['Accuracy','Precision','Recall'],\n",
    "                               'Train': [accuracy_score(y_train, y_pred_train),\n",
    "                                         precision_score(y_train, y_pred_train),\n",
    "                                         recall_score(y_train, y_pred_train)],\n",
    "                               'Test': [accuracy_score(y_test, y_pred_test),\n",
    "                                        precision_score(y_test, y_pred_test),\n",
    "                                        recall_score(y_test, y_pred_test)]})\n",
    "\n",
    "display(performance_log)\n",
    "\n",
    "print(\"Confusion matrix for the train set\")\n",
    "print(confusion_matrix(y_train,y_pred_train))\n",
    "plot_confusion_matrix(logistic_model,X_train,y_train, values_format = 'd')\n",
    "plt.show()\n",
    "\n",
    "print()\n",
    "\n",
    "print(\"Confusion matrix for the test set\")\n",
    "print(confusion_matrix(y_test, y_pred_test))\n",
    "plot_confusion_matrix(logistic_model,X_test,y_test, values_format = 'd')\n",
    "plt.show()"
   ]
  },
  {
   "cell_type": "markdown",
   "id": "172fe730",
   "metadata": {},
   "source": [
    "## Model Validation w/c Downsampling & Upsampling"
   ]
  },
  {
   "cell_type": "markdown",
   "id": "c6a7265c",
   "metadata": {},
   "source": [
    "## How to deal with imbalanced data "
   ]
  },
  {
   "cell_type": "code",
   "execution_count": 30,
   "id": "3b3f55cd",
   "metadata": {},
   "outputs": [],
   "source": [
    "pd.set_option('display.max_columns', None)\n",
    "import warnings\n",
    "warnings.filterwarnings('ignore')"
   ]
  },
  {
   "cell_type": "code",
   "execution_count": 31,
   "id": "b41a62f9",
   "metadata": {},
   "outputs": [
    {
     "name": "stdout",
     "output_type": "stream",
     "text": [
      "0    5163\n",
      "1    1869\n",
      "Name: Churn, dtype: int64\n",
      "0 - no churn: 0.7342150170648464\n",
      "1 -    churn: 0.2657849829351536\n"
     ]
    }
   ],
   "source": [
    "print(churn_numericals['Churn'].value_counts())\n",
    "print('0 - no churn:', len(churn_numericals[churn_numericals['Churn']==0])/len(churn_numericals['Churn']))\n",
    "print('1 -    churn:',1-len(churn_numericals[churn_numericals['Churn']==0])/len(churn_numericals['Churn']))"
   ]
  },
  {
   "cell_type": "code",
   "execution_count": 34,
   "id": "bb4d305a",
   "metadata": {},
   "outputs": [
    {
     "data": {
      "text/plain": [
       "(1869, 5)"
      ]
     },
     "execution_count": 34,
     "metadata": {},
     "output_type": "execute_result"
    }
   ],
   "source": [
    "# Downsampling: we randomly sample without replacement from the majority class\n",
    "# This means we will sample category 0 down to 1869\n",
    "category_0 = churn_numericals[churn_numericals['Churn']==0]\n",
    "category_1 = churn_numericals[churn_numericals['Churn']==1]\n",
    "\n",
    "category_0_down = category_0.sample(len(category_1))\n",
    "category_0_down.shape"
   ]
  },
  {
   "cell_type": "code",
   "execution_count": 36,
   "id": "92fe204f",
   "metadata": {},
   "outputs": [
    {
     "data": {
      "text/plain": [
       "0    1869\n",
       "1    1869\n",
       "Name: Churn, dtype: int64"
      ]
     },
     "execution_count": 36,
     "metadata": {},
     "output_type": "execute_result"
    }
   ],
   "source": [
    "churn_numericals_down = pd.concat([category_0_down, category_1], axis=0)\n",
    "#shuffling the data\n",
    "churn_numericals_down = churn_numericals_down.sample(frac=1)\n",
    "churn_numericals_down['Churn'].value_counts()"
   ]
  },
  {
   "cell_type": "markdown",
   "id": "d7a9ae53",
   "metadata": {},
   "source": [
    "### Rerun logstic regression with new downsampled data set"
   ]
  },
  {
   "cell_type": "code",
   "execution_count": 37,
   "id": "a86160ba",
   "metadata": {},
   "outputs": [],
   "source": [
    "#X - Y split\n",
    "\n",
    "X=churn_numericals_down.drop('Churn', axis=1)\n",
    "#y=churn_numericals['Churn']\n",
    "\n",
    "y = churn_numericals_down.Churn.values\n",
    "\n",
    "\n",
    "# Scaling the data before logistic regression with Z-Scaler, RANDOM_STATE=42 -> split of the data set is reproducable\n",
    "# Other options to z-scaler = PowerTransformer\n",
    "\n",
    "#trans = PowerTransformer()   #other option to Z-scaler\n",
    "#trans.fit(X)\n",
    "\n",
    "z_scaler = StandardScaler()\n",
    "z_scaler.fit(X)\n",
    "\n",
    "# Creation of training set and testing set\n",
    "\n",
    "X_train, X_test, y_train, y_test = train_test_split(X, y, test_size=0.20, random_state=42)\n",
    "\n",
    "X_train = pd.DataFrame(X_train, columns = X.columns)\n",
    "X_test  = pd.DataFrame(X_test , columns = X.columns)\n",
    "\n",
    "\n",
    "# Apply logistic regression\n",
    "logistic_model = LogisticRegression()    # model\n",
    "logistic_model.fit(X_train.to_numpy(), y_train)   # model fitting\n",
    "\n",
    "y_pred_train = logistic_model.predict(X_train.to_numpy()) # model training with X_training to predict y and compare with y_train\n",
    "y_pred_test = logistic_model.predict(X_test.to_numpy())   # model prediction with test data"
   ]
  },
  {
   "cell_type": "code",
   "execution_count": 38,
   "id": "735b985b",
   "metadata": {},
   "outputs": [
    {
     "data": {
      "text/html": [
       "<div>\n",
       "<style scoped>\n",
       "    .dataframe tbody tr th:only-of-type {\n",
       "        vertical-align: middle;\n",
       "    }\n",
       "\n",
       "    .dataframe tbody tr th {\n",
       "        vertical-align: top;\n",
       "    }\n",
       "\n",
       "    .dataframe thead th {\n",
       "        text-align: right;\n",
       "    }\n",
       "</style>\n",
       "<table border=\"1\" class=\"dataframe\">\n",
       "  <thead>\n",
       "    <tr style=\"text-align: right;\">\n",
       "      <th></th>\n",
       "      <th>Error_metric</th>\n",
       "      <th>Train</th>\n",
       "      <th>Test</th>\n",
       "    </tr>\n",
       "  </thead>\n",
       "  <tbody>\n",
       "    <tr>\n",
       "      <th>0</th>\n",
       "      <td>Accuracy</td>\n",
       "      <td>0.737458</td>\n",
       "      <td>0.736631</td>\n",
       "    </tr>\n",
       "    <tr>\n",
       "      <th>1</th>\n",
       "      <td>Precision</td>\n",
       "      <td>0.720844</td>\n",
       "      <td>0.700229</td>\n",
       "    </tr>\n",
       "    <tr>\n",
       "      <th>2</th>\n",
       "      <td>Recall</td>\n",
       "      <td>0.776219</td>\n",
       "      <td>0.822581</td>\n",
       "    </tr>\n",
       "  </tbody>\n",
       "</table>\n",
       "</div>"
      ],
      "text/plain": [
       "  Error_metric     Train      Test\n",
       "0     Accuracy  0.737458  0.736631\n",
       "1    Precision  0.720844  0.700229\n",
       "2       Recall  0.776219  0.822581"
      ]
     },
     "metadata": {},
     "output_type": "display_data"
    },
    {
     "name": "stdout",
     "output_type": "stream",
     "text": [
      "Confusion matrix for the train set\n",
      "[[1043  450]\n",
      " [ 335 1162]]\n"
     ]
    },
    {
     "data": {
      "image/png": "[encoded data removed]",
      "text/plain": [
       "<Figure size 432x288 with 2 Axes>"
      ]
     },
     "metadata": {
      "needs_background": "light"
     },
     "output_type": "display_data"
    },
    {
     "name": "stdout",
     "output_type": "stream",
     "text": [
      "\n",
      "Confusion matrix for the test set\n",
      "[[245 131]\n",
      " [ 66 306]]\n"
     ]
    },
    {
     "data": {
      "image/png": "[encoded data removed]",
      "text/plain": [
       "<Figure size 432x288 with 2 Axes>"
      ]
     },
     "metadata": {
      "needs_background": "light"
     },
     "output_type": "display_data"
    }
   ],
   "source": [
    "# Performance measure & confusion matrix\n",
    "# precision is the ratio tp/(tp+fp) where tp is the number of true positives and fp the number of false positives.\n",
    "# The precision is the ability of the classifier not to label as positive a sample that is negative.\n",
    "# Accuracy = ratio of correct prediction / number of observations.\n",
    "# Recall is the ratio tp/(tp+fn) where tp is the number of true positives and fn the number of false negatives. \n",
    "# The recall is intuitively the ability of the classifier to find all the positive samples.\n",
    "\n",
    "performance_log_down = pd.DataFrame({'Error_metric': ['Accuracy','Precision','Recall'],\n",
    "                               'Train': [accuracy_score(y_train, y_pred_train),\n",
    "                                         precision_score(y_train, y_pred_train),\n",
    "                                         recall_score(y_train, y_pred_train)],\n",
    "                               'Test': [accuracy_score(y_test, y_pred_test),\n",
    "                                        precision_score(y_test, y_pred_test),\n",
    "                                        recall_score(y_test, y_pred_test)]})\n",
    "\n",
    "display(performance_log_down)\n",
    "\n",
    "print(\"Confusion matrix for the train set\")\n",
    "print(confusion_matrix(y_train,y_pred_train))\n",
    "plot_confusion_matrix(logistic_model,X_train,y_train, values_format = 'd')\n",
    "plt.show()\n",
    "\n",
    "print()\n",
    "\n",
    "print(\"Confusion matrix for the test set\")\n",
    "print(confusion_matrix(y_test, y_pred_test))\n",
    "plot_confusion_matrix(logistic_model,X_test,y_test, values_format = 'd')\n",
    "plt.show()"
   ]
  },
  {
   "cell_type": "markdown",
   "id": "5d5028ae",
   "metadata": {},
   "source": [
    "#### With downsampling accuracy is down 5%, precision is UP 12% and recall is UP 27%"
   ]
  },
  {
   "cell_type": "markdown",
   "id": "6e1964e2",
   "metadata": {},
   "source": [
    "### Upsampling\n",
    "We randomly sample the minority class up, this means we will sample category 1 up to 5163"
   ]
  },
  {
   "cell_type": "code",
   "execution_count": 39,
   "id": "1dd3e282",
   "metadata": {},
   "outputs": [
    {
     "name": "stdout",
     "output_type": "stream",
     "text": [
      "(5163, 5)\n"
     ]
    }
   ],
   "source": [
    "category_0 = churn_numericals[churn_numericals['Churn']==0]\n",
    "category_1 = churn_numericals[churn_numericals['Churn']==1]\n",
    "\n",
    "category_1_up = category_1.sample(len(category_0), replace=True)\n",
    "print(category_1_up.shape)"
   ]
  },
  {
   "cell_type": "code",
   "execution_count": 42,
   "id": "d8299473",
   "metadata": {},
   "outputs": [
    {
     "data": {
      "text/plain": [
       "0    5163\n",
       "1    5163\n",
       "Name: Churn, dtype: int64"
      ]
     },
     "execution_count": 42,
     "metadata": {},
     "output_type": "execute_result"
    }
   ],
   "source": [
    "churn_numericals_up = pd.concat([category_0, category_1_up], axis=0)\n",
    "#shuffling the data\n",
    "churn_numericals_up = churn_numericals_up.sample(frac=1)\n",
    "churn_numericals_up['Churn'].value_counts()"
   ]
  },
  {
   "cell_type": "markdown",
   "id": "27a91300",
   "metadata": {},
   "source": [
    "### Rerun logstic regression with new upsampled data set"
   ]
  },
  {
   "cell_type": "code",
   "execution_count": 44,
   "id": "16497f22",
   "metadata": {},
   "outputs": [
    {
     "data": {
      "text/html": [
       "<div>\n",
       "<style scoped>\n",
       "    .dataframe tbody tr th:only-of-type {\n",
       "        vertical-align: middle;\n",
       "    }\n",
       "\n",
       "    .dataframe tbody tr th {\n",
       "        vertical-align: top;\n",
       "    }\n",
       "\n",
       "    .dataframe thead th {\n",
       "        text-align: right;\n",
       "    }\n",
       "</style>\n",
       "<table border=\"1\" class=\"dataframe\">\n",
       "  <thead>\n",
       "    <tr style=\"text-align: right;\">\n",
       "      <th></th>\n",
       "      <th>Error_metric</th>\n",
       "      <th>Train</th>\n",
       "      <th>Test</th>\n",
       "    </tr>\n",
       "  </thead>\n",
       "  <tbody>\n",
       "    <tr>\n",
       "      <th>0</th>\n",
       "      <td>Accuracy</td>\n",
       "      <td>0.735956</td>\n",
       "      <td>0.734753</td>\n",
       "    </tr>\n",
       "    <tr>\n",
       "      <th>1</th>\n",
       "      <td>Precision</td>\n",
       "      <td>0.719874</td>\n",
       "      <td>0.712633</td>\n",
       "    </tr>\n",
       "    <tr>\n",
       "      <th>2</th>\n",
       "      <td>Recall</td>\n",
       "      <td>0.773991</td>\n",
       "      <td>0.780702</td>\n",
       "    </tr>\n",
       "  </tbody>\n",
       "</table>\n",
       "</div>"
      ],
      "text/plain": [
       "  Error_metric     Train      Test\n",
       "0     Accuracy  0.735956  0.734753\n",
       "1    Precision  0.719874  0.712633\n",
       "2       Recall  0.773991  0.780702"
      ]
     },
     "metadata": {},
     "output_type": "display_data"
    },
    {
     "name": "stdout",
     "output_type": "stream",
     "text": [
      "Confusion matrix for the train set\n",
      "[[2877 1246]\n",
      " [ 935 3202]]\n"
     ]
    },
    {
     "data": {
      "image/png": "[encoded data removed]",
      "text/plain": [
       "<Figure size 432x288 with 2 Axes>"
      ]
     },
     "metadata": {
      "needs_background": "light"
     },
     "output_type": "display_data"
    },
    {
     "name": "stdout",
     "output_type": "stream",
     "text": [
      "\n",
      "Confusion matrix for the test set\n",
      "[[717 323]\n",
      " [225 801]]\n"
     ]
    },
    {
     "data": {
      "image/png": "[encoded data removed]",
      "text/plain": [
       "<Figure size 432x288 with 2 Axes>"
      ]
     },
     "metadata": {
      "needs_background": "light"
     },
     "output_type": "display_data"
    }
   ],
   "source": [
    "#X - Y split\n",
    "\n",
    "X=churn_numericals_up.drop('Churn', axis=1)\n",
    "#y=churn_numericals['Churn']\n",
    "\n",
    "y = churn_numericals_up.Churn.values\n",
    "\n",
    "\n",
    "# Scaling the data before logistic regression with Z-Scaler, RANDOM_STATE=42 -> split of the data set is reproducable\n",
    "# Other options to z-scaler = PowerTransformer\n",
    "\n",
    "#trans = PowerTransformer()   #other option to Z-scaler\n",
    "#trans.fit(X)\n",
    "\n",
    "z_scaler = StandardScaler()\n",
    "z_scaler.fit(X)\n",
    "\n",
    "# Creation of training set and testing set\n",
    "\n",
    "X_train, X_test, y_train, y_test = train_test_split(X, y, test_size=0.20, random_state=42)\n",
    "\n",
    "X_train = pd.DataFrame(X_train, columns = X.columns)\n",
    "X_test  = pd.DataFrame(X_test , columns = X.columns)\n",
    "\n",
    "\n",
    "# Apply logistic regression\n",
    "logistic_model = LogisticRegression()    # model\n",
    "logistic_model.fit(X_train.to_numpy(), y_train)   # model fitting\n",
    "\n",
    "y_pred_train = logistic_model.predict(X_train.to_numpy()) # model training with X_training to predict y and compare with y_train\n",
    "y_pred_test = logistic_model.predict(X_test.to_numpy())   # model prediction with test data\n",
    "\n",
    "\n",
    "# Performance measure & confusion matrix\n",
    "# precision is the ratio tp/(tp+fp) where tp is the number of true positives and fp the number of false positives.\n",
    "# The precision is the ability of the classifier not to label as positive a sample that is negative.\n",
    "# Accuracy = ratio of correct prediction / number of observations.\n",
    "# Recall is the ratio tp/(tp+fn) where tp is the number of true positives and fn the number of false negatives. \n",
    "# The recall is intuitively the ability of the classifier to find all the positive samples.\n",
    "\n",
    "performance_log_up = pd.DataFrame({'Error_metric': ['Accuracy','Precision','Recall'],\n",
    "                               'Train': [accuracy_score(y_train, y_pred_train),\n",
    "                                         precision_score(y_train, y_pred_train),\n",
    "                                         recall_score(y_train, y_pred_train)],\n",
    "                               'Test': [accuracy_score(y_test, y_pred_test),\n",
    "                                        precision_score(y_test, y_pred_test),\n",
    "                                        recall_score(y_test, y_pred_test)]})\n",
    "\n",
    "display(performance_log_up)\n",
    "\n",
    "print(\"Confusion matrix for the train set\")\n",
    "print(confusion_matrix(y_train,y_pred_train))\n",
    "plot_confusion_matrix(logistic_model,X_train,y_train, values_format = 'd')\n",
    "plt.show()\n",
    "\n",
    "print()\n",
    "\n",
    "print(\"Confusion matrix for the test set\")\n",
    "print(confusion_matrix(y_test, y_pred_test))\n",
    "plot_confusion_matrix(logistic_model,X_test,y_test, values_format = 'd')\n",
    "plt.show()"
   ]
  },
  {
   "cell_type": "markdown",
   "id": "98db4bd2",
   "metadata": {},
   "source": [
    "With downsampling accuracy is down 5%, precision is UP 11% and recall is UP 34%"
   ]
  },
  {
   "cell_type": "markdown",
   "id": "0b0f1ae0",
   "metadata": {},
   "source": [
    "### Upsampling using SMOTE"
   ]
  },
  {
   "cell_type": "code",
   "execution_count": 45,
   "id": "392dfa47",
   "metadata": {},
   "outputs": [],
   "source": [
    "# The SMOTE algorithm can be broken down into following steps:\n",
    "\n",
    "# Randomly pick a point from the minority class.\n",
    "# Compute the k-nearest neighbors (for some pre-specified k) for this point.\n",
    "# Add k new points somewhere between the chosen point and each of its neighbors.\n",
    "\n",
    "from imblearn.over_sampling import SMOTE\n",
    "smote = SMOTE()"
   ]
  },
  {
   "cell_type": "code",
   "execution_count": 46,
   "id": "ef025f7a",
   "metadata": {},
   "outputs": [
    {
     "data": {
      "text/plain": [
       "0    5163\n",
       "1    5163\n",
       "Name: Churn, dtype: int64"
      ]
     },
     "execution_count": 46,
     "metadata": {},
     "output_type": "execute_result"
    }
   ],
   "source": [
    "y = churn_numericals['Churn']\n",
    "X = churn_numericals.drop(['Churn'], axis=1)\n",
    "X_sm, y_sm = smote.fit_resample(X, y)\n",
    "y_sm.value_counts()"
   ]
  },
  {
   "cell_type": "code",
   "execution_count": 48,
   "id": "f2c0b352",
   "metadata": {},
   "outputs": [
    {
     "data": {
      "text/html": [
       "<div>\n",
       "<style scoped>\n",
       "    .dataframe tbody tr th:only-of-type {\n",
       "        vertical-align: middle;\n",
       "    }\n",
       "\n",
       "    .dataframe tbody tr th {\n",
       "        vertical-align: top;\n",
       "    }\n",
       "\n",
       "    .dataframe thead th {\n",
       "        text-align: right;\n",
       "    }\n",
       "</style>\n",
       "<table border=\"1\" class=\"dataframe\">\n",
       "  <thead>\n",
       "    <tr style=\"text-align: right;\">\n",
       "      <th></th>\n",
       "      <th>Error_metric</th>\n",
       "      <th>Train</th>\n",
       "      <th>Test</th>\n",
       "    </tr>\n",
       "  </thead>\n",
       "  <tbody>\n",
       "    <tr>\n",
       "      <th>0</th>\n",
       "      <td>Accuracy</td>\n",
       "      <td>0.735956</td>\n",
       "      <td>0.725557</td>\n",
       "    </tr>\n",
       "    <tr>\n",
       "      <th>1</th>\n",
       "      <td>Precision</td>\n",
       "      <td>0.710317</td>\n",
       "      <td>0.704787</td>\n",
       "    </tr>\n",
       "    <tr>\n",
       "      <th>2</th>\n",
       "      <td>Recall</td>\n",
       "      <td>0.797775</td>\n",
       "      <td>0.772595</td>\n",
       "    </tr>\n",
       "  </tbody>\n",
       "</table>\n",
       "</div>"
      ],
      "text/plain": [
       "  Error_metric     Train      Test\n",
       "0     Accuracy  0.735956  0.725557\n",
       "1    Precision  0.710317  0.704787\n",
       "2       Recall  0.797775  0.772595"
      ]
     },
     "metadata": {},
     "output_type": "display_data"
    },
    {
     "name": "stdout",
     "output_type": "stream",
     "text": [
      "Confusion matrix for the train set\n",
      "[[2781 1345]\n",
      " [ 836 3298]]\n"
     ]
    },
    {
     "data": {
      "image/png": "[encoded data removed]",
      "text/plain": [
       "<Figure size 432x288 with 2 Axes>"
      ]
     },
     "metadata": {
      "needs_background": "light"
     },
     "output_type": "display_data"
    },
    {
     "name": "stdout",
     "output_type": "stream",
     "text": [
      "\n",
      "Confusion matrix for the test set\n",
      "[[704 333]\n",
      " [234 795]]\n"
     ]
    },
    {
     "data": {
      "image/png": "[encoded data removed]",
      "text/plain": [
       "<Figure size 432x288 with 2 Axes>"
      ]
     },
     "metadata": {
      "needs_background": "light"
     },
     "output_type": "display_data"
    }
   ],
   "source": [
    "# Scaling the data before logistic regression with Z-Scaler, RANDOM_STATE=42 -> split of the data set is reproducable\n",
    "# Other options to z-scaler = PowerTransformer\n",
    "\n",
    "#trans = PowerTransformer()   #other option to Z-scaler\n",
    "#trans.fit(X)\n",
    "\n",
    "z_scaler = StandardScaler()\n",
    "z_scaler.fit(X_sm)\n",
    "\n",
    "# Creation of training set and testing set\n",
    "\n",
    "X_train, X_test, y_train, y_test = train_test_split(X_sm, y_sm, test_size=0.20, random_state=42)\n",
    "\n",
    "X_train = pd.DataFrame(X_train, columns = X_sm.columns)\n",
    "X_test  = pd.DataFrame(X_test , columns = X_sm.columns)\n",
    "\n",
    "\n",
    "# Apply logistic regression\n",
    "logistic_model = LogisticRegression()    # model\n",
    "logistic_model.fit(X_train.to_numpy(), y_train)   # model fitting\n",
    "\n",
    "y_pred_train = logistic_model.predict(X_train.to_numpy()) # model training with X_training to predict y and compare with y_train\n",
    "y_pred_test = logistic_model.predict(X_test.to_numpy())   # model prediction with test data\n",
    "\n",
    "\n",
    "# Performance measure & confusion matrix\n",
    "# precision is the ratio tp/(tp+fp) where tp is the number of true positives and fp the number of false positives.\n",
    "# The precision is the ability of the classifier not to label as positive a sample that is negative.\n",
    "# Accuracy = ratio of correct prediction / number of observations.\n",
    "# Recall is the ratio tp/(tp+fn) where tp is the number of true positives and fn the number of false negatives. \n",
    "# The recall is intuitively the ability of the classifier to find all the positive samples.\n",
    "\n",
    "performance_log_smote = pd.DataFrame({'Error_metric': ['Accuracy','Precision','Recall'],\n",
    "                               'Train': [accuracy_score(y_train, y_pred_train),\n",
    "                                         precision_score(y_train, y_pred_train),\n",
    "                                         recall_score(y_train, y_pred_train)],\n",
    "                               'Test': [accuracy_score(y_test, y_pred_test),\n",
    "                                        precision_score(y_test, y_pred_test),\n",
    "                                        recall_score(y_test, y_pred_test)]})\n",
    "\n",
    "display(performance_log_smote)\n",
    "\n",
    "print(\"Confusion matrix for the train set\")\n",
    "print(confusion_matrix(y_train,y_pred_train))\n",
    "plot_confusion_matrix(logistic_model,X_train,y_train, values_format = 'd')\n",
    "plt.show()\n",
    "\n",
    "print()\n",
    "\n",
    "print(\"Confusion matrix for the test set\")\n",
    "print(confusion_matrix(y_test, y_pred_test))\n",
    "plot_confusion_matrix(logistic_model,X_test,y_test, values_format = 'd')\n",
    "plt.show()"
   ]
  },
  {
   "cell_type": "code",
   "execution_count": null,
   "id": "71033acd",
   "metadata": {},
   "outputs": [],
   "source": [
    "from imblearn.under_sampling import TomekLinks\n",
    "\n",
    "tl = TomekLinks('majority')\n",
    "X_tl, y_tl = tl.fit_resample(X, y)\n",
    "y_tl.value_counts()"
   ]
  },
  {
   "cell_type": "code",
   "execution_count": null,
   "id": "79850e41",
   "metadata": {},
   "outputs": [],
   "source": [
    "# Each time fit the model and see how the accuracy of the model is."
   ]
  },
  {
   "cell_type": "code",
   "execution_count": null,
   "id": "47445e82",
   "metadata": {},
   "outputs": [],
   "source": [
    "# Downsampling Evaluation "
   ]
  },
  {
   "cell_type": "code",
   "execution_count": null,
   "id": "cf6c0d0b",
   "metadata": {},
   "outputs": [],
   "source": [
    "# Upsampling Evaluation "
   ]
  }
 ],
 "metadata": {
  "kernelspec": {
   "display_name": "Python 3",
   "language": "python",
   "name": "python3"
  },
  "language_info": {
   "codemirror_mode": {
    "name": "ipython",
    "version": 3
   },
   "file_extension": ".py",
   "mimetype": "text/x-python",
   "name": "python",
   "nbconvert_exporter": "python",
   "pygments_lexer": "ipython3",
   "version": "3.9.6"
  }
 },
 "nbformat": 4,
 "nbformat_minor": 5
}
