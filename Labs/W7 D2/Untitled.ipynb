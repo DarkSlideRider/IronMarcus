{
 "cells": [
  {
   "cell_type": "code",
   "execution_count": 23,
   "id": "363d3cd6",
   "metadata": {},
   "outputs": [],
   "source": [
    "class Vehicle:\n",
    "    def __init__(self, driver_name, engine_type):  #key word self refers to the instance of the class itself\n",
    "        self.speed = 0\n",
    "        self.passengers = []\n",
    "        self.driver = driver_name\n",
    "        self.engine_type = engine_type\n",
    "        self._mileage = 50 #if you want to hide the attribute, you can write '__' in front and python will not recognize this information\n",
    "        self.glovebox_content =[]\n",
    "    def __del__(self):\n",
    "        print(f'object with id {id(self)} is deleted')\n",
    "    def drive(self, target_speed, distance):\n",
    "        self.speed = target_speed\n",
    "        self.increase_mileage(distance)\n",
    "        \n",
    "    def increase_mileage(self, distance):\n",
    "        self._mileage += distance\n",
    "#    pass          #placeholder for doing nothing\n",
    "#self is needed to get refer to the variables stored in the object (speed, passenger, driver etc.)"
   ]
  },
  {
   "cell_type": "code",
   "execution_count": 19,
   "id": "b2183ed2",
   "metadata": {},
   "outputs": [
    {
     "name": "stdout",
     "output_type": "stream",
     "text": [
      "object with id 140212345859280 is deleted\n"
     ]
    }
   ],
   "source": [
    "my_car = Vehicle('Jule', 'electric')"
   ]
  },
  {
   "cell_type": "code",
   "execution_count": 24,
   "id": "32dd4983",
   "metadata": {},
   "outputs": [],
   "source": [
    "my_car2 = Vehicle('Darinka', 'electric')"
   ]
  },
  {
   "cell_type": "code",
   "execution_count": 21,
   "id": "756b6e89",
   "metadata": {},
   "outputs": [
    {
     "name": "stdout",
     "output_type": "stream",
     "text": [
      "object with id 140212345859040 is deleted\n"
     ]
    }
   ],
   "source": [
    "del my_car2"
   ]
  },
  {
   "cell_type": "code",
   "execution_count": 25,
   "id": "374d8416",
   "metadata": {},
   "outputs": [],
   "source": [
    "my_car2.drive(100, 200)"
   ]
  },
  {
   "cell_type": "code",
   "execution_count": 27,
   "id": "2af3a740",
   "metadata": {},
   "outputs": [
    {
     "data": {
      "text/plain": [
       "250"
      ]
     },
     "execution_count": 27,
     "metadata": {},
     "output_type": "execute_result"
    }
   ],
   "source": [
    "my_car2._mileage"
   ]
  },
  {
   "cell_type": "code",
   "execution_count": null,
   "id": "683da2c7",
   "metadata": {},
   "outputs": [],
   "source": [
    "my_car3 = Vehicle('Fredo', 'electric')"
   ]
  },
  {
   "cell_type": "code",
   "execution_count": 15,
   "id": "bbb95054",
   "metadata": {
    "scrolled": true
   },
   "outputs": [
    {
     "data": {
      "text/plain": [
       "['_Vehicle__mileage',\n",
       " '__class__',\n",
       " '__delattr__',\n",
       " '__dict__',\n",
       " '__dir__',\n",
       " '__doc__',\n",
       " '__eq__',\n",
       " '__format__',\n",
       " '__ge__',\n",
       " '__getattribute__',\n",
       " '__gt__',\n",
       " '__hash__',\n",
       " '__init__',\n",
       " '__init_subclass__',\n",
       " '__le__',\n",
       " '__lt__',\n",
       " '__module__',\n",
       " '__ne__',\n",
       " '__new__',\n",
       " '__reduce__',\n",
       " '__reduce_ex__',\n",
       " '__repr__',\n",
       " '__setattr__',\n",
       " '__sizeof__',\n",
       " '__str__',\n",
       " '__subclasshook__',\n",
       " '__weakref__',\n",
       " 'driver',\n",
       " 'engine_type',\n",
       " 'glovebox_content',\n",
       " 'passengers',\n",
       " 'speed']"
      ]
     },
     "execution_count": 15,
     "metadata": {},
     "output_type": "execute_result"
    }
   ],
   "source": [
    "dir(my_car)"
   ]
  },
  {
   "cell_type": "code",
   "execution_count": null,
   "id": "b968368c",
   "metadata": {},
   "outputs": [],
   "source": []
  }
 ],
 "metadata": {
  "kernelspec": {
   "display_name": "Python 3 (ipykernel)",
   "language": "python",
   "name": "python3"
  },
  "language_info": {
   "codemirror_mode": {
    "name": "ipython",
    "version": 3
   },
   "file_extension": ".py",
   "mimetype": "text/x-python",
   "name": "python",
   "nbconvert_exporter": "python",
   "pygments_lexer": "ipython3",
   "version": "3.8.5"
  }
 },
 "nbformat": 4,
 "nbformat_minor": 5
}
