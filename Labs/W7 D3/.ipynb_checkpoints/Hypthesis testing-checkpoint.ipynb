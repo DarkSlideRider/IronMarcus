{
 "cells": [
  {
   "cell_type": "markdown",
   "id": "4f77529e",
   "metadata": {},
   "source": [
    "### Lab: Hypothesis Testing\n",
    "It is assumed that the mean systolic blood pressure is μ = 120 mm Hg. In the Honolulu Heart Study, a sample of n = 100 people had an average systolic blood pressure of 130.1 mm Hg with a standard deviation of 21.21 mm Hg. Is the group significantly different (with respect to systolic blood pressure!) from the regular population?\n",
    "\n",
    "- Set up the hypothesis test.\n",
    "- Write down all the steps followed for setting up the test.\n",
    "- Calculate the test statistic by hand and also code it in Python. It should be 4.76190. What decision can you make based on this calculated value?\n"
   ]
  },
  {
   "cell_type": "code",
   "execution_count": 13,
   "id": "559f0de2",
   "metadata": {},
   "outputs": [],
   "source": [
    "import numpy as np\n",
    "import pandas as pd\n",
    "import scipy.stats #as stats\n",
    "from scipy.stats import t\n",
    "from scipy.stats import ttest_ind"
   ]
  },
  {
   "cell_type": "markdown",
   "id": "639cb565",
   "metadata": {},
   "source": [
    "#### 6 Analysis Steps\n",
    "Step 1: Determine H0 and H1 (Ha)<br>\n",
    "Step 2: Investigate sample size n >= 30 or n < 30. Sample size is n >= 30, but as σ of population is unknown we use T test statistic.<br>\n",
    "Step 3: Calculate test statistic --> we decided for T: tc = (x̄ - μ) / (S /$\\sqrt{n}$)<br>\n",
    "Step 4: Calculate tc critical value to derive the interval<br>\n",
    "Step 5: Decide if H0 can be rejected or we fail to reject H0<br>\n",
    "Step 6: Determine P value math. "
   ]
  },
  {
   "cell_type": "markdown",
   "id": "07a3fdbf",
   "metadata": {},
   "source": [
    "#### 1. Setup of hypothesis test\n",
    "**Step 1:** <br>\n",
    "H0 = The mean blood pressure in Honolulu Heart Study does not show a significant difference to the mean systolic blood pressure: **μ != 120 mm Hg**. </br>\n",
    "H1 = The mean blood pressure in Honolulu Heart Study (**x̄ = 130.1 mm Hg**) shows a significant difference to the mean systolic blood pressure which is **μ = 120 mm Hg**.<br>\n",
    "We decided for a 2-sided test."
   ]
  },
  {
   "cell_type": "markdown",
   "id": "8670675f",
   "metadata": {},
   "source": [
    "#### Step 2:\n",
    "Sample size:     n = 100<br>\n",
    "Population mean: μ = 120 mm Hg<br>\n",
    "Sample mean:     x̄ = 130.1 mm Hg<br>\n",
    "Sample std. dev.: S = 21.21 mm Hg<br>\n",
    "Std. dev. of population is unknown: σ = ?<br>\n",
    "\n",
    "As σ of population is not known we choose t-test statistic for step 3."
   ]
  },
  {
   "cell_type": "markdown",
   "id": "ab9c583a",
   "metadata": {},
   "source": [
    "#### Step 3: Calculation of the test statistic of the sample"
   ]
  },
  {
   "cell_type": "code",
   "execution_count": 2,
   "id": "eb249d0c",
   "metadata": {},
   "outputs": [
    {
     "name": "stdout",
     "output_type": "stream",
     "text": [
      "t_sample = +/- 4.7619\n"
     ]
    }
   ],
   "source": [
    "# Calculation of the t-test statistic of the sample\n",
    "# (x̄ - μ) / (S / 100^1/2) \n",
    "t_sample = (130.1-120)/(21.21/(100**(1/2)))\n",
    "print('t_sample = +/- {:.4f}'.format(t_sample))"
   ]
  },
  {
   "cell_type": "markdown",
   "id": "bf30c25a",
   "metadata": {},
   "source": [
    "#### Step 4:\n",
    "#### Calculation of critical interval"
   ]
  },
  {
   "cell_type": "code",
   "execution_count": 5,
   "id": "fb10c948",
   "metadata": {},
   "outputs": [
    {
     "name": "stdout",
     "output_type": "stream",
     "text": [
      "tc = +/-1.9842\n",
      "zc = +/-1.9600\n"
     ]
    }
   ],
   "source": [
    "# 2-sided student test\n",
    "tc = scipy.stats.t.ppf(1-(0.05/2), df=99) #can be also written like: tc = scipy.stats.t.ppf(0.975, df=99)\n",
    "print('tc = +/-{:.4f}'.format(tc))\n",
    "\n",
    "# 2-sided normal distribution test with confidence level 95% which is the same as saying 𝛼 = 1−0.95=0.05\n",
    "zc = stats.norm.ppf(0.975)\n",
    "print('zc = +/-{:.4f}'.format(zc))"
   ]
  },
  {
   "cell_type": "markdown",
   "id": "3f7e4480",
   "metadata": {},
   "source": [
    "#### Step 5:\n",
    "H0 has to be rejected: the t_sample = +/- 4.7619 is not in the critical interval.\n",
    "H1 has to be accepted: the t_sample is significantly different to the mean of the systolic blood pressure."
   ]
  },
  {
   "cell_type": "markdown",
   "id": "e34588f1",
   "metadata": {},
   "source": [
    "#### Step 6"
   ]
  },
  {
   "cell_type": "code",
   "execution_count": 6,
   "id": "dfb25e73",
   "metadata": {},
   "outputs": [
    {
     "name": "stdout",
     "output_type": "stream",
     "text": [
      "P of t_sample = +/- 0.00033%\n"
     ]
    },
    {
     "data": {
      "text/plain": [
       "4.761251569030441"
      ]
     },
     "execution_count": 6,
     "metadata": {},
     "output_type": "execute_result"
    }
   ],
   "source": [
    "tc = scipy.stats.t.ppf(0.99999671, df=99)\n",
    "P = (1-0.99999671)*100\n",
    "print('P of t_sample = +/- {:.5f}%'.format(P))\n",
    "tc"
   ]
  },
  {
   "cell_type": "markdown",
   "id": "1833dc12",
   "metadata": {},
   "source": [
    "We will have another simple example on two sample one sided t test. In a packing plant, a machine packs cartons with jars. It is supposed that a new machine will pack faster on the average than the machine currently used. To test that hypothesis, the times it takes each machine to pack ten cartons are recorded. The results, in seconds, are shown in the tables in the file Data/machine.txt. Assume that there is sufficient evidence to conduct the t test, does the data provide sufficient evidence to show if one machine is better than the other?"
   ]
  },
  {
   "cell_type": "markdown",
   "id": "911aee42",
   "metadata": {},
   "source": [
    "#### Step 1:\n",
    "H0: The old machine performs the same as the new machine. The time (mean of time) it takes the old machine to pack ten cartons is not significantly slower compared to the time it takes the new machine to pack ten cartons. x̄_old = 43.23 x̄_new = 42.14.\n",
    "H1: The old machine performs slower than the new machine, the (mean) time it takes the old machine to pack ten cartons is significantly slower compared to the mean time it takes the new machine.\n",
    "#### Step 2: \n",
    "As sample size n < 30, we use T test statistic.\n",
    "#### Step 3: \n",
    "Calculate test statistic --> we decided for T: tc = (x̄ - μ) / (S /𝑛⎯⎯√)\n",
    "Step 4: Calculate tc critical value to derive the interval\n",
    "Step 5: Decide if H0 can be rejected or we fail to reject H0\n",
    "Step 6: Determine P value math."
   ]
  },
  {
   "cell_type": "code",
   "execution_count": 7,
   "id": "41ea2b5e",
   "metadata": {},
   "outputs": [],
   "source": [
    "df = pd.read_csv('Data_Machine.csv')"
   ]
  },
  {
   "cell_type": "code",
   "execution_count": 8,
   "id": "bc8862a0",
   "metadata": {},
   "outputs": [
    {
     "data": {
      "text/plain": [
       "Index(['New_Machine', 'Old_Machine'], dtype='object')"
      ]
     },
     "execution_count": 8,
     "metadata": {},
     "output_type": "execute_result"
    }
   ],
   "source": [
    "df=df.iloc[:,0:2]\n",
    "df.rename(columns={\"  Old_Machine\": \"Old_Machine\"}, inplace=True)\n",
    "df.columns"
   ]
  },
  {
   "cell_type": "code",
   "execution_count": 16,
   "id": "f6e5c9ed",
   "metadata": {},
   "outputs": [
    {
     "name": "stdout",
     "output_type": "stream",
     "text": [
      "The sample mean of the Old_Machine is: 43.230\n",
      "The sample mean of the New_Machine is: 42.140\n",
      "The sample standard deviation of the Old_Machine is: 0.750\n",
      "The sample standard deviation of the New_Machine is: 0.683\n",
      "Our t statistic is: -3.397\n",
      "tc90 = +/-1.3830\n",
      "tc95 = +/-1.8331\n",
      "tc99 = +/-2.8214\n",
      "H0 can be rejected, the new machine is significantly faster.\n"
     ]
    },
    {
     "data": {
      "text/plain": [
       "Ttest_indResult(statistic=3.3972307061176026, pvalue=0.0032111425007745158)"
      ]
     },
     "execution_count": 16,
     "metadata": {},
     "output_type": "execute_result"
    }
   ],
   "source": [
    "n_old = len(df['Old_Machine'].values)\n",
    "n_new = len(df['New_Machine'].values)\n",
    "old_machine_mean=df['Old_Machine'].mean()\n",
    "new_machine_mean=df['New_Machine'].mean()\n",
    "std_old = np.std(df['Old_Machine'].values, ddof = 1)# use np.std() ddof = ?\n",
    "std_new = np.std(df['New_Machine'].values, ddof = 1)# use np.std() ddof = ?\n",
    "\n",
    "# one-sided t statistic\n",
    "t = ( new_machine_mean - old_machine_mean ) / np.sqrt( ((std_new**2)/n_new) + ((std_old**2)/n_old ) )\n",
    "\n",
    "# one-sided student test confidence intervall\n",
    "tc90 = scipy.stats.t.ppf(0.9, df=9)\n",
    "tc95 = scipy.stats.t.ppf(0.95, df=9) #can be also written like: tc = scipy.stats.t.ppf(0.95, df=9)\n",
    "tc99 = scipy.stats.t.ppf(0.99, df=9)\n",
    "P = ttest_ind(df['Old_Machine'].values, df['New_Machine'].values)\n",
    "\n",
    "print(\"The sample mean of the Old_Machine is: {:.3f}\".format(old_machine_mean))\n",
    "print(\"The sample mean of the New_Machine is: {:.3f}\".format(new_machine_mean))\n",
    "print(\"The sample standard deviation of the Old_Machine is: {:.3f}\".format(std_old))\n",
    "print(\"The sample standard deviation of the New_Machine is: {:.3f}\".format(std_new))\n",
    "print(\"Our t statistic is: {:.3f}\".format(t))\n",
    "print('tc90 = +/-{:.4f}'.format(tc90))\n",
    "print('tc95 = +/-{:.4f}'.format(tc95))\n",
    "print('tc99 = +/-{:.4f}'.format(tc99))\n",
    "print('H0 can be rejected, the new machine is significantly faster.')\n",
    "P"
   ]
  }
 ],
 "metadata": {
  "kernelspec": {
   "display_name": "Python 3 (ipykernel)",
   "language": "python",
   "name": "python3"
  },
  "language_info": {
   "codemirror_mode": {
    "name": "ipython",
    "version": 3
   },
   "file_extension": ".py",
   "mimetype": "text/x-python",
   "name": "python",
   "nbconvert_exporter": "python",
   "pygments_lexer": "ipython3",
   "version": "3.8.5"
  }
 },
 "nbformat": 4,
 "nbformat_minor": 5
}
